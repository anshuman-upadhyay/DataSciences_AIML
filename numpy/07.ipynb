{
 "cells": [
  {
   "cell_type": "code",
   "execution_count": 1,
   "id": "b14f845d",
   "metadata": {},
   "outputs": [],
   "source": [
    "import numpy as np"
   ]
  },
  {
   "cell_type": "code",
   "execution_count": 2,
   "id": "2aa537d8",
   "metadata": {},
   "outputs": [],
   "source": [
    "arr= np.array([[1, 2, 3], [4, 5, 6]])"
   ]
  },
  {
   "cell_type": "code",
   "execution_count": null,
   "id": "cb07e88e",
   "metadata": {},
   "outputs": [
    {
     "data": {
      "text/plain": [
       "3.5"
      ]
     },
     "execution_count": 3,
     "metadata": {},
     "output_type": "execute_result"
    }
   ],
   "source": [
    "np.mean(arr) #Mean"
   ]
  },
  {
   "cell_type": "code",
   "execution_count": null,
   "id": "8746315b",
   "metadata": {},
   "outputs": [
    {
     "data": {
      "text/plain": [
       "1.707825127659933"
      ]
     },
     "execution_count": 4,
     "metadata": {},
     "output_type": "execute_result"
    }
   ],
   "source": [
    "np.std(arr) # Standard deviation"
   ]
  },
  {
   "cell_type": "code",
   "execution_count": null,
   "id": "695fe047",
   "metadata": {},
   "outputs": [
    {
     "data": {
      "text/plain": [
       "2.9166666666666665"
      ]
     },
     "execution_count": 5,
     "metadata": {},
     "output_type": "execute_result"
    }
   ],
   "source": [
    "np.var(arr) #Variance"
   ]
  },
  {
   "cell_type": "code",
   "execution_count": null,
   "id": "d207f9ac",
   "metadata": {},
   "outputs": [
    {
     "data": {
      "text/plain": [
       "1"
      ]
     },
     "execution_count": 6,
     "metadata": {},
     "output_type": "execute_result"
    }
   ],
   "source": [
    "np.min(arr) #Compute the minimum value of an array."
   ]
  },
  {
   "cell_type": "code",
   "execution_count": null,
   "id": "e1e580ca",
   "metadata": {},
   "outputs": [
    {
     "data": {
      "text/plain": [
       "6"
      ]
     },
     "execution_count": 7,
     "metadata": {},
     "output_type": "execute_result"
    }
   ],
   "source": [
    "np.max(arr) #Compute the maximum value of an array."
   ]
  },
  {
   "cell_type": "code",
   "execution_count": null,
   "id": "e7d98a99",
   "metadata": {},
   "outputs": [
    {
     "data": {
      "text/plain": [
       "21"
      ]
     },
     "execution_count": 8,
     "metadata": {},
     "output_type": "execute_result"
    }
   ],
   "source": [
    "np.sum(arr) #Compute the sum of all elements in an array."
   ]
  },
  {
   "cell_type": "code",
   "execution_count": null,
   "id": "5448bbdb",
   "metadata": {},
   "outputs": [
    {
     "data": {
      "text/plain": [
       "720"
      ]
     },
     "execution_count": 9,
     "metadata": {},
     "output_type": "execute_result"
    }
   ],
   "source": [
    "np.prod(arr) #Compute the product of all elements in an array."
   ]
  },
  {
   "cell_type": "code",
   "execution_count": null,
   "id": "72550257",
   "metadata": {},
   "outputs": [
    {
     "data": {
      "text/plain": [
       "3.5"
      ]
     },
     "execution_count": 10,
     "metadata": {},
     "output_type": "execute_result"
    }
   ],
   "source": [
    "np.median(arr) # Compute the median of an array."
   ]
  },
  {
   "cell_type": "code",
   "execution_count": 11,
   "id": "64b8153f",
   "metadata": {},
   "outputs": [
    {
     "data": {
      "text/plain": [
       "3.5"
      ]
     },
     "execution_count": 11,
     "metadata": {},
     "output_type": "execute_result"
    }
   ],
   "source": [
    "np.percentile(arr, 50)  # For the 50th percentile (median)"
   ]
  },
  {
   "cell_type": "code",
   "execution_count": null,
   "id": "d8bb1e24",
   "metadata": {},
   "outputs": [
    {
     "data": {
      "text/plain": [
       "0"
      ]
     },
     "execution_count": 12,
     "metadata": {},
     "output_type": "execute_result"
    }
   ],
   "source": [
    "np.argmin(arr) #Return the index of the minimum value in an array."
   ]
  },
  {
   "cell_type": "code",
   "execution_count": null,
   "id": "668d8dbd",
   "metadata": {},
   "outputs": [
    {
     "data": {
      "text/plain": [
       "5"
      ]
     },
     "execution_count": 13,
     "metadata": {},
     "output_type": "execute_result"
    }
   ],
   "source": [
    "np.argmax(arr) #Return the index of the maximum value in an array."
   ]
  },
  {
   "cell_type": "code",
   "execution_count": null,
   "id": "a9af9989",
   "metadata": {},
   "outputs": [
    {
     "name": "stderr",
     "output_type": "stream",
     "text": [
      "/home/anshuman/D_Drive/Coding/DataScience/anaconda3/lib/python3.11/site-packages/numpy/lib/function_base.py:2897: RuntimeWarning: invalid value encountered in divide\n",
      "  c /= stddev[:, None]\n",
      "/home/anshuman/D_Drive/Coding/DataScience/anaconda3/lib/python3.11/site-packages/numpy/lib/function_base.py:2898: RuntimeWarning: invalid value encountered in divide\n",
      "  c /= stddev[None, :]\n"
     ]
    },
    {
     "data": {
      "text/plain": [
       "array([[1.       , 1.       , 0.8660254,       nan],\n",
       "       [1.       , 1.       , 0.8660254,       nan],\n",
       "       [0.8660254, 0.8660254, 1.       ,       nan],\n",
       "       [      nan,       nan,       nan,       nan]])"
      ]
     },
     "execution_count": 15,
     "metadata": {},
     "output_type": "execute_result"
    }
   ],
   "source": [
    "arr2= np.array([[2,2,3],[3,3,3]])\n",
    "np.corrcoef(arr, arr2) #Compute the correlation coefficient matrix of two arrays."
   ]
  },
  {
   "cell_type": "code",
   "execution_count": null,
   "id": "33927818",
   "metadata": {},
   "outputs": [
    {
     "data": {
      "text/plain": [
       "array([1, 2, 3, 4, 5, 6])"
      ]
     },
     "execution_count": 16,
     "metadata": {},
     "output_type": "execute_result"
    }
   ],
   "source": [
    "np.unique(arr) #Find the unique elements of an array."
   ]
  },
  {
   "cell_type": "code",
   "execution_count": null,
   "id": "73776ce1",
   "metadata": {},
   "outputs": [
    {
     "data": {
      "text/plain": [
       "array([[1, 1],\n",
       "       [1, 1]])"
      ]
     },
     "execution_count": 17,
     "metadata": {},
     "output_type": "execute_result"
    }
   ],
   "source": [
    "np.diff(arr) #Compute the n-th differences of an array."
   ]
  },
  {
   "cell_type": "code",
   "execution_count": null,
   "id": "a06a9f7c",
   "metadata": {},
   "outputs": [
    {
     "data": {
      "text/plain": [
       "array([ 1,  3,  6, 10, 15, 21])"
      ]
     },
     "execution_count": 18,
     "metadata": {},
     "output_type": "execute_result"
    }
   ],
   "source": [
    "np.cumsum(arr) #Compute the cumulative sum of an array."
   ]
  },
  {
   "cell_type": "code",
   "execution_count": 19,
   "id": "8279e18e",
   "metadata": {},
   "outputs": [
    {
     "data": {
      "text/plain": [
       "array([ 0. ,  2.5,  5. ,  7.5, 10. ])"
      ]
     },
     "execution_count": 19,
     "metadata": {},
     "output_type": "execute_result"
    }
   ],
   "source": [
    "np.linspace(0, 10, 5)  # 5 numbers from 0 to 10"
   ]
  },
  {
   "cell_type": "code",
   "execution_count": null,
   "id": "0d18c087",
   "metadata": {},
   "outputs": [
    {
     "data": {
      "text/plain": [
       "array([[0.        , 0.69314718, 1.09861229],\n",
       "       [1.38629436, 1.60943791, 1.79175947]])"
      ]
     },
     "execution_count": 20,
     "metadata": {},
     "output_type": "execute_result"
    }
   ],
   "source": [
    "np.log(arr) #Compute the natural logarithm of an array."
   ]
  },
  {
   "cell_type": "code",
   "execution_count": null,
   "id": "d53f246e",
   "metadata": {},
   "outputs": [
    {
     "data": {
      "text/plain": [
       "array([[  2.71828183,   7.3890561 ,  20.08553692],\n",
       "       [ 54.59815003, 148.4131591 , 403.42879349]])"
      ]
     },
     "execution_count": 21,
     "metadata": {},
     "output_type": "execute_result"
    }
   ],
   "source": [
    "np.exp(arr) #Compute the exponential of an array."
   ]
  },
  {
   "cell_type": "code",
   "execution_count": null,
   "id": "23836e16",
   "metadata": {},
   "outputs": [],
   "source": []
  }
 ],
 "metadata": {
  "kernelspec": {
   "display_name": "base",
   "language": "python",
   "name": "python3"
  },
  "language_info": {
   "codemirror_mode": {
    "name": "ipython",
    "version": 3
   },
   "file_extension": ".py",
   "mimetype": "text/x-python",
   "name": "python",
   "nbconvert_exporter": "python",
   "pygments_lexer": "ipython3",
   "version": "3.11.7"
  }
 },
 "nbformat": 4,
 "nbformat_minor": 5
}
