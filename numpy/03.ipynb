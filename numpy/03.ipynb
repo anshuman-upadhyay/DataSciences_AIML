{
 "cells": [
  {
   "cell_type": "code",
   "execution_count": 1,
   "id": "bd4778cb",
   "metadata": {},
   "outputs": [],
   "source": [
    "import numpy as np"
   ]
  },
  {
   "cell_type": "code",
   "execution_count": 7,
   "id": "f1c6417b",
   "metadata": {},
   "outputs": [
    {
     "name": "stdout",
     "output_type": "stream",
     "text": [
      "[[1 2 3]\n",
      " [4 5 6]\n",
      " [7 8 9]]\n"
     ]
    }
   ],
   "source": [
    "arr=np.array([[1,2,3],[4,5,6],[7,8,9]])\n",
    "print(arr)\n"
   ]
  },
  {
   "cell_type": "code",
   "execution_count": 8,
   "id": "dddce2fe",
   "metadata": {},
   "outputs": [
    {
     "data": {
      "text/plain": [
       "array([1, 2, 3, 4, 5, 6, 7, 8, 9])"
      ]
     },
     "execution_count": 8,
     "metadata": {},
     "output_type": "execute_result"
    }
   ],
   "source": [
    "flat=arr.flatten()\n",
    "flat"
   ]
  },
  {
   "cell_type": "code",
   "execution_count": 9,
   "id": "fd1bdf15",
   "metadata": {},
   "outputs": [
    {
     "data": {
      "text/plain": [
       "1"
      ]
     },
     "execution_count": 9,
     "metadata": {},
     "output_type": "execute_result"
    }
   ],
   "source": [
    "flat[0]"
   ]
  },
  {
   "cell_type": "code",
   "execution_count": 10,
   "id": "9a37fbe8",
   "metadata": {},
   "outputs": [
    {
     "data": {
      "text/plain": [
       "5"
      ]
     },
     "execution_count": 10,
     "metadata": {},
     "output_type": "execute_result"
    }
   ],
   "source": [
    "flat[4]"
   ]
  },
  {
   "cell_type": "code",
   "execution_count": 11,
   "id": "2d3d65d6",
   "metadata": {},
   "outputs": [
    {
     "data": {
      "text/plain": [
       "array([4, 5, 6])"
      ]
     },
     "execution_count": 11,
     "metadata": {},
     "output_type": "execute_result"
    }
   ],
   "source": [
    "flat[3:6]"
   ]
  },
  {
   "cell_type": "code",
   "execution_count": null,
   "id": "87f48e65",
   "metadata": {},
   "outputs": [
    {
     "data": {
      "text/plain": [
       "array([1, 2, 3, 4, 5])"
      ]
     },
     "execution_count": 12,
     "metadata": {},
     "output_type": "execute_result"
    }
   ],
   "source": [
    "flat[:5] #Same as flat[0:5]"
   ]
  },
  {
   "cell_type": "code",
   "execution_count": 13,
   "id": "29349858",
   "metadata": {},
   "outputs": [
    {
     "data": {
      "text/plain": [
       "array([4, 5, 6, 7, 8, 9])"
      ]
     },
     "execution_count": 13,
     "metadata": {},
     "output_type": "execute_result"
    }
   ],
   "source": [
    "flat[3:]"
   ]
  },
  {
   "cell_type": "code",
   "execution_count": 14,
   "id": "e8e56686",
   "metadata": {},
   "outputs": [
    {
     "data": {
      "text/plain": [
       "array([1, 5, 9])"
      ]
     },
     "execution_count": 14,
     "metadata": {},
     "output_type": "execute_result"
    }
   ],
   "source": [
    "flat[::4]"
   ]
  },
  {
   "cell_type": "markdown",
   "id": "25074d63",
   "metadata": {},
   "source": [
    "2.Slicing"
   ]
  },
  {
   "cell_type": "code",
   "execution_count": 15,
   "id": "9a0b2f44",
   "metadata": {},
   "outputs": [
    {
     "data": {
      "text/plain": [
       "array([4, 5, 6])"
      ]
     },
     "execution_count": 15,
     "metadata": {},
     "output_type": "execute_result"
    }
   ],
   "source": [
    "b= flat[3:6]\n",
    "b"
   ]
  },
  {
   "cell_type": "code",
   "execution_count": 18,
   "id": "91eb9154",
   "metadata": {},
   "outputs": [
    {
     "data": {
      "text/plain": [
       "array([3333,    5,    6])"
      ]
     },
     "execution_count": 18,
     "metadata": {},
     "output_type": "execute_result"
    }
   ],
   "source": [
    "b[0]=3333\n",
    "b"
   ]
  },
  {
   "cell_type": "code",
   "execution_count": 17,
   "id": "abc58710",
   "metadata": {},
   "outputs": [
    {
     "data": {
      "text/plain": [
       "array([   1,    2,    3, 3333,    5,    6,    7,    8,    9])"
      ]
     },
     "execution_count": 17,
     "metadata": {},
     "output_type": "execute_result"
    }
   ],
   "source": [
    "flat"
   ]
  },
  {
   "cell_type": "code",
   "execution_count": 20,
   "id": "7d6b0946",
   "metadata": {},
   "outputs": [
    {
     "name": "stdout",
     "output_type": "stream",
     "text": [
      "[ 6  7 33  9]\n",
      "[   1    2    3 3333    5    6    7    8    9]\n"
     ]
    }
   ],
   "source": [
    "c=flat[5:].copy()\n",
    "c[2]=33\n",
    "print(c)\n",
    "print(flat)"
   ]
  },
  {
   "cell_type": "markdown",
   "id": "95a55450",
   "metadata": {},
   "source": [
    "3. fancy indexing\n"
   ]
  },
  {
   "cell_type": "code",
   "execution_count": 21,
   "id": "71910781",
   "metadata": {},
   "outputs": [
    {
     "name": "stdout",
     "output_type": "stream",
     "text": [
      "[1 5 6]\n"
     ]
    }
   ],
   "source": [
    "arr=np.array([1,45,5,6,4,75,545,46,57])\n",
    "idx=[0,2,3]\n",
    "print(arr[idx])\n"
   ]
  },
  {
   "cell_type": "markdown",
   "id": "0ee26aba",
   "metadata": {},
   "source": [
    "4.Boolean Masking\n"
   ]
  },
  {
   "cell_type": "code",
   "execution_count": 22,
   "id": "33e10118",
   "metadata": {},
   "outputs": [
    {
     "data": {
      "text/plain": [
       "array([1, 5, 6, 4])"
      ]
     },
     "execution_count": 22,
     "metadata": {},
     "output_type": "execute_result"
    }
   ],
   "source": [
    "arr[arr<10]"
   ]
  },
  {
   "cell_type": "code",
   "execution_count": null,
   "id": "e1386f76",
   "metadata": {},
   "outputs": [],
   "source": []
  }
 ],
 "metadata": {
  "kernelspec": {
   "display_name": "base",
   "language": "python",
   "name": "python3"
  },
  "language_info": {
   "codemirror_mode": {
    "name": "ipython",
    "version": 3
   },
   "file_extension": ".py",
   "mimetype": "text/x-python",
   "name": "python",
   "nbconvert_exporter": "python",
   "pygments_lexer": "ipython3",
   "version": "3.11.7"
  }
 },
 "nbformat": 4,
 "nbformat_minor": 5
}
