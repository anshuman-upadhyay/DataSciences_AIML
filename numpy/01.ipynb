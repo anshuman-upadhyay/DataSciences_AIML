{
 "cells": [
  {
   "cell_type": "code",
   "execution_count": 1,
   "id": "139af843",
   "metadata": {},
   "outputs": [],
   "source": [
    "import numpy as np\n",
    "import time"
   ]
  },
  {
   "cell_type": "code",
   "execution_count": 2,
   "id": "6cdbbae1",
   "metadata": {},
   "outputs": [
    {
     "name": "stdout",
     "output_type": "stream",
     "text": [
      "Total time taken using list  0.0001049041748046875\n"
     ]
    }
   ],
   "source": [
    "size=1_00\n",
    "list1 =list(range(size))\n",
    "list2 =list(range(size))\n",
    "\n",
    "start=time.time()\n",
    "result=[x+y for x,y in zip(list1,list2)]\n",
    "end=time.time()\n",
    "print(\"Total time taken using list \",end-start)"
   ]
  },
  {
   "cell_type": "code",
   "execution_count": 3,
   "id": "e15b3eeb",
   "metadata": {},
   "outputs": [
    {
     "name": "stdout",
     "output_type": "stream",
     "text": [
      "Total time taken using np array  0.00011229515075683594\n"
     ]
    }
   ],
   "source": [
    "\n",
    "arr1 =np.array(list1)\n",
    "arr2 =np.array(list2)\n",
    "\n",
    "start=time.time()\n",
    "result=arr1 + arr2\n",
    "end=time.time()\n",
    "print(\"Total time taken using np array \",end-start)"
   ]
  },
  {
   "cell_type": "markdown",
   "id": "206eac1f",
   "metadata": {},
   "source": [
    "2. Creating numpy arrays"
   ]
  },
  {
   "cell_type": "code",
   "execution_count": 4,
   "id": "ec910eaa",
   "metadata": {},
   "outputs": [
    {
     "name": "stdout",
     "output_type": "stream",
     "text": [
      "[1 2 3 4 5]\n",
      "[[1 2 3]\n",
      " [4 5 6]]\n",
      "Type: <class 'numpy.ndarray'>\n"
     ]
    }
   ],
   "source": [
    "#Creating 1D\n",
    "arr1=np.array([1,2,3,4,5])\n",
    "print(arr1)\n",
    "#Creating 2D\n",
    "arr2= np.array([[1,2,3],[4,5,6]])\n",
    "print(arr2)\n",
    "print(\"Type:\" ,type(arr2))"
   ]
  },
  {
   "cell_type": "markdown",
   "id": "3026acff",
   "metadata": {},
   "source": [
    "3. Memory comparision"
   ]
  },
  {
   "cell_type": "code",
   "execution_count": 5,
   "id": "abdce13c",
   "metadata": {},
   "outputs": [
    {
     "name": "stdout",
     "output_type": "stream",
     "text": [
      "Python list size: 85600 bytes\n",
      "NumPy array size: 800 bytes\n"
     ]
    }
   ],
   "source": [
    "import sys\n",
    "list_data=list(range(100))\n",
    "numpy_data= np.array(list_data)\n",
    "\n",
    "print(\"Python list size:\", sys.getsizeof(list_data) * len(list_data), \"bytes\")\n",
    "print(\"NumPy array size:\", numpy_data.nbytes, \"bytes\")\n"
   ]
  },
  {
   "cell_type": "markdown",
   "id": "0a7edec1",
   "metadata": {},
   "source": [
    "4. Vectorization"
   ]
  },
  {
   "cell_type": "code",
   "execution_count": 6,
   "id": "c9d1f2d5",
   "metadata": {},
   "outputs": [],
   "source": [
    "list_ele=[x**2 for x in list1]\n",
    "\n",
    "numpy_ele=arr1*2"
   ]
  }
 ],
 "metadata": {
  "kernelspec": {
   "display_name": "base",
   "language": "python",
   "name": "python3"
  },
  "language_info": {
   "codemirror_mode": {
    "name": "ipython",
    "version": 3
   },
   "file_extension": ".py",
   "mimetype": "text/x-python",
   "name": "python",
   "nbconvert_exporter": "python",
   "pygments_lexer": "ipython3",
   "version": "3.11.7"
  }
 },
 "nbformat": 4,
 "nbformat_minor": 5
}
