{
 "cells": [
  {
   "cell_type": "code",
   "execution_count": 1,
   "id": "90d9b98e",
   "metadata": {},
   "outputs": [],
   "source": [
    "import numpy as np\n"
   ]
  },
  {
   "cell_type": "markdown",
   "id": "b79e0ecc",
   "metadata": {},
   "source": [
    "1. Why looping is slow"
   ]
  },
  {
   "cell_type": "code",
   "execution_count": 2,
   "id": "8f3e0360",
   "metadata": {},
   "outputs": [
    {
     "name": "stdout",
     "output_type": "stream",
     "text": [
      "[1, 4, 9, 16, 25]\n"
     ]
    }
   ],
   "source": [
    "arr = np.array([1, 2, 3, 4, 5])\n",
    "result = []\n",
    " \n",
    "# Using a loop to square each element (slow)\n",
    "for num in arr:\n",
    "    result.append(num ** 2)\n",
    " \n",
    "print(result)  # Output: [1, 4, 9, 16, 25]"
   ]
  },
  {
   "cell_type": "markdown",
   "id": "7570db40",
   "metadata": {},
   "source": [
    "2. Vectorization"
   ]
  },
  {
   "cell_type": "code",
   "execution_count": 3,
   "id": "765bafb4",
   "metadata": {},
   "outputs": [
    {
     "name": "stdout",
     "output_type": "stream",
     "text": [
      "[ 1  4  9 16 25]\n"
     ]
    }
   ],
   "source": [
    "arr = np.array([1, 2, 3, 4, 5])\n",
    "result = arr ** 2  # Vectorized operation\n",
    "print(result)  # Output: [1 4 9 16 25]"
   ]
  },
  {
   "cell_type": "markdown",
   "id": "380d4fff",
   "metadata": {},
   "source": [
    "3. Broadcasting: Scaling Arrays Without Extra Memory"
   ]
  },
  {
   "cell_type": "code",
   "execution_count": 4,
   "id": "08f54de7",
   "metadata": {},
   "outputs": [
    {
     "name": "stdout",
     "output_type": "stream",
     "text": [
      "[11 12 13 14 15]\n"
     ]
    }
   ],
   "source": [
    "arr = np.array([1, 2, 3, 4, 5])\n",
    "result = arr + 10  # Broadcasting: 10 is added to all elements\n",
    "print(result)  # Output: [11 12 13 14 15]"
   ]
  },
  {
   "cell_type": "markdown",
   "id": "0dc60ab9",
   "metadata": {},
   "source": [
    "4. Broadcasting with Arrays of Different Shapes"
   ]
  },
  {
   "cell_type": "code",
   "execution_count": 5,
   "id": "620639e3",
   "metadata": {},
   "outputs": [
    {
     "name": "stdout",
     "output_type": "stream",
     "text": [
      "[11 22 33]\n"
     ]
    }
   ],
   "source": [
    "arr1 = np.array([1, 2, 3])\n",
    "arr2 = np.array([10, 20, 30])\n",
    "\n",
    "result = arr1 + arr2  # Element-wise addition\n",
    "print(result)  # Output: [11 22 33]"
   ]
  },
  {
   "cell_type": "code",
   "execution_count": 6,
   "id": "8f7824d7",
   "metadata": {},
   "outputs": [
    {
     "name": "stdout",
     "output_type": "stream",
     "text": [
      "[[2 4 6]\n",
      " [5 7 9]]\n"
     ]
    }
   ],
   "source": [
    "arr1 = np.array([[1, 2, 3], [4, 5, 6]])\n",
    "arr2 = np.array([1, 2, 3])\n",
    "\n",
    "result = arr1 + arr2  # Broadcasting arr2 across arr1\n",
    "print(result)\n",
    "# Output:\n",
    "# [[2 4 6]\n",
    "#  [5 7 9]]"
   ]
  },
  {
   "cell_type": "markdown",
   "id": "bed66a6a",
   "metadata": {},
   "source": [
    "Normalization\n"
   ]
  },
  {
   "cell_type": "code",
   "execution_count": null,
   "id": "a26e829c",
   "metadata": {},
   "outputs": [
    {
     "name": "stdout",
     "output_type": "stream",
     "text": [
      "[[-1.41421356 -1.41421356 -1.41421356]\n",
      " [-0.70710678 -0.70710678 -0.70710678]\n",
      " [ 0.          0.          0.        ]\n",
      " [ 0.70710678  0.70710678  0.70710678]\n",
      " [ 1.41421356  1.41421356  1.41421356]]\n"
     ]
    }
   ],
   "source": [
    "# Simulating a dataset (5 samples, 3 features)\n",
    "data = np.array([[10, 20, 30],\n",
    "                 [15, 25, 35],\n",
    "                 [20, 30, 40],\n",
    "                 [25, 35, 45],\n",
    "                 [30, 40, 50]])\n",
    "#Find mean and std deviation accross each row \n",
    "mean=data.mean(axis=0)\n",
    "std=data.std(axis=0)\n",
    "\n",
    "#Calc Normalized data\n",
    "normalized_data=(data-mean)/std\n",
    "print(normalized_data)"
   ]
  },
  {
   "cell_type": "code",
   "execution_count": null,
   "id": "1354382c",
   "metadata": {},
   "outputs": [],
   "source": []
  }
 ],
 "metadata": {
  "kernelspec": {
   "display_name": "base",
   "language": "python",
   "name": "python3"
  },
  "language_info": {
   "codemirror_mode": {
    "name": "ipython",
    "version": 3
   },
   "file_extension": ".py",
   "mimetype": "text/x-python",
   "name": "python",
   "nbconvert_exporter": "python",
   "pygments_lexer": "ipython3",
   "version": "3.11.7"
  }
 },
 "nbformat": 4,
 "nbformat_minor": 5
}
