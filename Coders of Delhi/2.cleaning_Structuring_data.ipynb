{
 "cells": [
  {
   "cell_type": "code",
   "execution_count": 10,
   "id": "8d8f6fa8",
   "metadata": {},
   "outputs": [],
   "source": [
    "import json\n"
   ]
  },
  {
   "cell_type": "code",
   "execution_count": 12,
   "id": "aa218b28",
   "metadata": {},
   "outputs": [],
   "source": [
    "def clean_data(data):\n",
    "    #Removing users with missing data \n",
    "    data[\"user\"]=[user for user in data[\"users\"] if user['name'].strip()]\n",
    "\n",
    "    #Remove duplicate friends\n",
    "    for user in data[\"users\"]:\n",
    "        user['friends']=list(set(user['friends']))\n",
    "    \n",
    "    #Remove inactive users \n",
    "    data['users']= [user for user in data['user'] if user['friends'] or user ['liked_pages']]\n",
    "\n",
    "    # Remove duplicate pages\n",
    "    uniques_pages={}\n",
    "    for page in data['pages']:\n",
    "        unique_pages[page['id']]=page\n",
    "        data['pages']= list(unique_pages.values())\n",
    "\n",
    "    return data "
   ]
  },
  {
   "cell_type": "code",
   "execution_count": null,
   "id": "8f7bea2a",
   "metadata": {},
   "outputs": [],
   "source": [
    "data =json.load(open(\"updated_data.json\"))\n",
    "data=clean_data(data)\n"
   ]
  },
  {
   "cell_type": "code",
   "execution_count": null,
   "id": "c05bbbf4",
   "metadata": {},
   "outputs": [
    {
     "name": "stdout",
     "output_type": "stream",
     "text": [
      "The data has been cleaned\n"
     ]
    }
   ],
   "source": [
    "json.dump(data,open(\"cleaned_data2.json\",\"w\"),indent=4)\n",
    "print(\"The data has been cleaned\")"
   ]
  },
  {
   "cell_type": "code",
   "execution_count": null,
   "id": "7c9c2485",
   "metadata": {},
   "outputs": [],
   "source": []
  }
 ],
 "metadata": {
  "kernelspec": {
   "display_name": "base",
   "language": "python",
   "name": "python3"
  },
  "language_info": {
   "codemirror_mode": {
    "name": "ipython",
    "version": 3
   },
   "file_extension": ".py",
   "mimetype": "text/x-python",
   "name": "python",
   "nbconvert_exporter": "python",
   "pygments_lexer": "ipython3",
   "version": "3.11.7"
  }
 },
 "nbformat": 4,
 "nbformat_minor": 5
}
