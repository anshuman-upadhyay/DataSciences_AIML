{
 "cells": [
  {
   "cell_type": "code",
   "execution_count": 6,
   "id": "8adccfef",
   "metadata": {},
   "outputs": [],
   "source": [
    "import json"
   ]
  },
  {
   "cell_type": "code",
   "execution_count": 11,
   "id": "58ddee37",
   "metadata": {},
   "outputs": [
    {
     "name": "stdout",
     "output_type": "stream",
     "text": [
      "[6, 5, 9, 13, 10, 14]\n"
     ]
    }
   ],
   "source": [
    "def load_data(filename):\n",
    "    with open(filename,\"r\") as f:\n",
    "        return json.load(f)\n",
    "\n",
    "def find_people_you_may_know(user_id,data):\n",
    "    user_friends={}\n",
    "    for user in data['users']:\n",
    "        user_friends[user['id']] =set(user['friends'])\n",
    "    if user_id not in user_friends:\n",
    "        return []\n",
    "    direct_friends =user_friends[user_id]\n",
    "    suggestions={}\n",
    "    for friend in direct_friends:\n",
    "        for mutual in user_friends[friend]:\n",
    "            if mutual !=user_id and mutual not in direct_friends:\n",
    "                #count mutual friends\n",
    "                suggestions[mutual] = suggestions.get(mutual,0) +1\n",
    "    sorted_suggestions =sorted(suggestions.items(),key=lambda x: x[1],reverse =True)\n",
    "    return [uid for uid, mutual_count in sorted_suggestions]\n",
    "#Load the data \n",
    "data=load_data(\"massive_data.json\")\n",
    "user_id=3\n",
    "recc=find_people_you_may_know(user_id,data)\n",
    "print(recc)"
   ]
  },
  {
   "cell_type": "code",
   "execution_count": null,
   "id": "0e241c5a",
   "metadata": {},
   "outputs": [],
   "source": []
  }
 ],
 "metadata": {
  "kernelspec": {
   "display_name": "base",
   "language": "python",
   "name": "python3"
  },
  "language_info": {
   "codemirror_mode": {
    "name": "ipython",
    "version": 3
   },
   "file_extension": ".py",
   "mimetype": "text/x-python",
   "name": "python",
   "nbconvert_exporter": "python",
   "pygments_lexer": "ipython3",
   "version": "3.11.7"
  }
 },
 "nbformat": 4,
 "nbformat_minor": 5
}
