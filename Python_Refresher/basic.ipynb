{
 "cells": [
  {
   "cell_type": "markdown",
   "id": "22b00b80",
   "metadata": {},
   "source": [
    "     1. Basics "
   ]
  },
  {
   "cell_type": "code",
   "execution_count": 72,
   "id": "4519b7f6",
   "metadata": {},
   "outputs": [
    {
     "name": "stdout",
     "output_type": "stream",
     "text": [
      "<class 'int'>\n",
      "<class 'float'>\n",
      "<class 'str'>\n"
     ]
    }
   ],
   "source": [
    "x=10\n",
    "y=2.34\n",
    "f=\"This is a string\"\n",
    "print(type(x)) \n",
    "print(type(y)) \n",
    "print(type(f)) "
   ]
  },
  {
   "cell_type": "markdown",
   "id": "a77420b8",
   "metadata": {},
   "source": [
    "    2.String"
   ]
  },
  {
   "cell_type": "code",
   "execution_count": 73,
   "id": "3f0c7911",
   "metadata": {},
   "outputs": [
    {
     "data": {
      "text/plain": [
       "'Anshuman'"
      ]
     },
     "execution_count": 73,
     "metadata": {},
     "output_type": "execute_result"
    }
   ],
   "source": [
    "name =\"Anshuman\"\n",
    "name"
   ]
  },
  {
   "cell_type": "code",
   "execution_count": 74,
   "id": "0e90e10b",
   "metadata": {},
   "outputs": [
    {
     "name": "stdout",
     "output_type": "stream",
     "text": [
      "  P YTH ON   \n",
      "  p yth on   \n",
      "False\n",
      "1\n",
      "P yth on\n",
      "  P hhh on   \n",
      "['P', 'yth', 'on']\n"
     ]
    }
   ],
   "source": [
    "text=\"  P yth on   \"\n",
    "print(text.upper())\n",
    "print(text.lower())\n",
    "print(text.endswith(\"man\"))\n",
    "print(text.count(\"n\"))\n",
    "print(text.strip(\" \"))\n",
    "print(text.replace(\"yth\",\"hhh\"))\n",
    "print(text.split())\n",
    "\n"
   ]
  },
  {
   "cell_type": "code",
   "execution_count": 75,
   "id": "fa37e85a",
   "metadata": {},
   "outputs": [
    {
     "name": "stdout",
     "output_type": "stream",
     "text": [
      "This\n",
      "all o\n"
     ]
    }
   ],
   "source": [
    "s=\"This time its all over\"\n",
    "print(s[0:4])\n",
    "print(s[-8:-3])"
   ]
  },
  {
   "cell_type": "markdown",
   "id": "410c0eef",
   "metadata": {},
   "source": [
    "    3. Operators"
   ]
  },
  {
   "cell_type": "code",
   "execution_count": 77,
   "id": "661fd36d",
   "metadata": {},
   "outputs": [
    {
     "name": "stdout",
     "output_type": "stream",
     "text": [
      "10000000000000\n",
      "23\n",
      "-3\n",
      "130\n",
      "0.7692307692307693\n",
      "0\n",
      "10\n"
     ]
    }
   ],
   "source": [
    "a=10\n",
    "b=13\n",
    "print(a**b)\n",
    "print(a+b)\n",
    "print(a-b)\n",
    "print(a*b)\n",
    "print(a/b)\n",
    "print(a//b)\n",
    "print(a%b)"
   ]
  },
  {
   "cell_type": "markdown",
   "id": "36613603",
   "metadata": {},
   "source": [
    "    4. User Input"
   ]
  },
  {
   "cell_type": "code",
   "execution_count": 78,
   "id": "16f2f49e",
   "metadata": {},
   "outputs": [],
   "source": [
    "a=input(\"Used for string input \") \n"
   ]
  },
  {
   "cell_type": "code",
   "execution_count": 79,
   "id": "9860eda0",
   "metadata": {},
   "outputs": [],
   "source": [
    "b=input(\"Inout for an actual number\")"
   ]
  },
  {
   "cell_type": "code",
   "execution_count": 80,
   "id": "6052859b",
   "metadata": {},
   "outputs": [
    {
     "name": "stdout",
     "output_type": "stream",
     "text": [
      "23\n"
     ]
    }
   ],
   "source": [
    "print(a+b)"
   ]
  },
  {
   "cell_type": "code",
   "execution_count": 81,
   "id": "500292ca",
   "metadata": {},
   "outputs": [
    {
     "name": "stdout",
     "output_type": "stream",
     "text": [
      "5\n"
     ]
    }
   ],
   "source": [
    "print(int(a)+int(b))"
   ]
  },
  {
   "cell_type": "markdown",
   "id": "237ef68c",
   "metadata": {},
   "source": [
    "    5. Operator presedence "
   ]
  },
  {
   "cell_type": "code",
   "execution_count": 82,
   "id": "6b195fb6",
   "metadata": {},
   "outputs": [
    {
     "name": "stdout",
     "output_type": "stream",
     "text": [
      "107472.0\n"
     ]
    }
   ],
   "source": [
    "result= (10*2)+45+33**3*(3)-1212/3\n",
    "print(result)"
   ]
  },
  {
   "cell_type": "markdown",
   "id": "f7c34fc2",
   "metadata": {},
   "source": [
    "    6.  Conditionals statements "
   ]
  },
  {
   "cell_type": "code",
   "execution_count": 83,
   "id": "99b2b46b",
   "metadata": {},
   "outputs": [
    {
     "name": "stdout",
     "output_type": "stream",
     "text": [
      "A is greater than 3\n"
     ]
    }
   ],
   "source": [
    "a=23\n",
    "if(a>3):\n",
    "    print(\"A is greater than 3\")\n",
    "elif(a<0):\n",
    "    print(\"A is positive\")\n",
    "else:\n",
    "    print(\"A ki maaka bhosda\")"
   ]
  },
  {
   "cell_type": "code",
   "execution_count": 84,
   "id": "1407f8ef",
   "metadata": {},
   "outputs": [
    {
     "name": "stdout",
     "output_type": "stream",
     "text": [
      "This is a formal greeting\n"
     ]
    }
   ],
   "source": [
    "def greet():\n",
    "    print(\"This is a formal greeting\")\n",
    "greet()"
   ]
  },
  {
   "cell_type": "code",
   "execution_count": 85,
   "id": "86caf4b5",
   "metadata": {},
   "outputs": [
    {
     "name": "stdout",
     "output_type": "stream",
     "text": [
      "Maachuda\n"
     ]
    }
   ],
   "source": [
    "b=4\n",
    "def matching(b):\n",
    "    match b:\n",
    "        case 1: \n",
    "            print('A') \n",
    "        case 2: \n",
    "            print('b') \n",
    "        case 3: \n",
    "            print('c') \n",
    "        case _:\n",
    "            print(\"Maachuda\")\n",
    "matching(b)"
   ]
  },
  {
   "cell_type": "markdown",
   "id": "6bdaf8a7",
   "metadata": {},
   "source": [
    "    7. F-string"
   ]
  },
  {
   "cell_type": "code",
   "execution_count": 86,
   "id": "593e57e8",
   "metadata": {},
   "outputs": [
    {
     "name": "stdout",
     "output_type": "stream",
     "text": [
      "My name is {} Anshuman\n",
      "My name is Anshuman\n",
      "One more use is operations 32\n",
      "Left-align                    \n",
      "                  Right-align \n",
      "        Center-align          \n"
     ]
    }
   ],
   "source": [
    "name= \"Anshuman\"\n",
    "print(\"My name is {}\",format(name)) \n",
    "print(f\"My name is {name}\") \n",
    "print(f\"One more use is operations {10+22}\") \n",
    "print(f\"{'Left-align ':<30}\") \n",
    "print(f\"{'Right-align ':>30}\") \n",
    "print(f\"{'Center-align ':^30}\") "
   ]
  },
  {
   "cell_type": "markdown",
   "id": "c3005b84",
   "metadata": {},
   "source": [
    "    8. Loops"
   ]
  },
  {
   "cell_type": "code",
   "execution_count": 87,
   "id": "c62b23db",
   "metadata": {},
   "outputs": [
    {
     "name": "stdout",
     "output_type": "stream",
     "text": [
      "1\n",
      "23\n",
      "4\n",
      "5\n",
      "67\n"
     ]
    }
   ],
   "source": [
    "l=[1,23,4,5,67]\n",
    "for i in l:\n",
    "    print(i)\n"
   ]
  },
  {
   "cell_type": "code",
   "execution_count": 88,
   "id": "335a6b7c",
   "metadata": {},
   "outputs": [
    {
     "name": "stdout",
     "output_type": "stream",
     "text": [
      "1\n",
      "2\n",
      "3\n",
      "4\n",
      "5\n",
      "6\n",
      "7\n",
      "8\n",
      "9\n"
     ]
    }
   ],
   "source": [
    "\n",
    "for i in range(1,10):\n",
    "    print(i)"
   ]
  },
  {
   "cell_type": "code",
   "execution_count": 89,
   "id": "6f981e9e",
   "metadata": {},
   "outputs": [
    {
     "name": "stdout",
     "output_type": "stream",
     "text": [
      "1\n"
     ]
    }
   ],
   "source": [
    "count=1\n",
    "while count<2:\n",
    "    print(count)\n",
    "    count=count+1"
   ]
  },
  {
   "cell_type": "code",
   "execution_count": 90,
   "id": "3e037e74",
   "metadata": {},
   "outputs": [
    {
     "name": "stdout",
     "output_type": "stream",
     "text": [
      "Hello\n"
     ]
    }
   ],
   "source": [
    "for item in l:\n",
    "    pass\n",
    "print(\"Hello\")"
   ]
  },
  {
   "cell_type": "code",
   "execution_count": 91,
   "id": "21bc9710",
   "metadata": {},
   "outputs": [
    {
     "name": "stdout",
     "output_type": "stream",
     "text": [
      "0\n",
      "1\n",
      "3\n",
      "4\n",
      "5\n",
      "6\n",
      "7\n",
      "8\n",
      "9\n",
      "10\n",
      "11\n",
      "12\n",
      "13\n",
      "14\n",
      "15\n",
      "16\n",
      "17\n",
      "18\n",
      "19\n",
      "20\n",
      "21\n",
      "22\n"
     ]
    }
   ],
   "source": [
    "for i in range(33):\n",
    "    if i ==2:\n",
    "        continue\n",
    "    if i== 23:\n",
    "        break\n",
    "    print(i)"
   ]
  },
  {
   "cell_type": "markdown",
   "id": "6293a5e9",
   "metadata": {},
   "source": [
    "    9. List"
   ]
  },
  {
   "cell_type": "code",
   "execution_count": 92,
   "id": "e3d843ef",
   "metadata": {},
   "outputs": [
    {
     "name": "stdout",
     "output_type": "stream",
     "text": [
      "7\n",
      "13\n",
      "3454\n",
      "6\n",
      "233\n",
      "454\n",
      "3\n",
      "[13, 3454, 6, 233, 454, 233]\n",
      "[13, 3454, 6, 233, 454, 233, 2343, 5775]\n",
      "[13, 34, 3454, 6, 233, 454, 233, 2343, 5775]\n",
      "[13, 34, 3454, 233, 454, 233, 2343, 5775]\n",
      "6\n"
     ]
    }
   ],
   "source": [
    "l=[13,3454,6,7,454]\n",
    "print(l[3])\n",
    "l[3]=233\n",
    "for i in l:\n",
    "    print(i)\n",
    "print(l.index(233))\n",
    "l.append(233)\n",
    "print(l)\n",
    "l2=[2343,5775]\n",
    "l.extend(l2)\n",
    "print(l)\n",
    "l.insert(1,34)\n",
    "print(l)\n",
    "number = l.pop(3)\n",
    "print(l)\n",
    "print(number)"
   ]
  },
  {
   "cell_type": "code",
   "execution_count": 93,
   "id": "6206a2a0",
   "metadata": {},
   "outputs": [
    {
     "data": {
      "text/plain": [
       "2"
      ]
     },
     "execution_count": 93,
     "metadata": {},
     "output_type": "execute_result"
    }
   ],
   "source": [
    "l.count(233)"
   ]
  },
  {
   "cell_type": "code",
   "execution_count": 94,
   "id": "691ef974",
   "metadata": {},
   "outputs": [
    {
     "name": "stdout",
     "output_type": "stream",
     "text": [
      "[13, 34, 3454, 233, 454, 233, 2343, 5775]\n",
      "[13, 34, 3454, 233, 454, 233, 2343, 5775]\n"
     ]
    }
   ],
   "source": [
    "print(l)\n",
    "sorted(l)\n",
    "print(l)"
   ]
  },
  {
   "cell_type": "code",
   "execution_count": 95,
   "id": "e2724dbf",
   "metadata": {},
   "outputs": [
    {
     "name": "stdout",
     "output_type": "stream",
     "text": [
      "[13, 34, 3454, 233, 454, 233, 2343, 5775]\n",
      "[13, 34, 233, 233, 454, 2343, 3454, 5775]\n"
     ]
    }
   ],
   "source": [
    "print(l)\n",
    "l.sort()\n",
    "print(l)"
   ]
  },
  {
   "cell_type": "code",
   "execution_count": 99,
   "id": "4a7f7435",
   "metadata": {},
   "outputs": [
    {
     "name": "stdout",
     "output_type": "stream",
     "text": [
      "33\n",
      "[12, 34, [232, 33], 2, 34, 56, 6]\n"
     ]
    }
   ],
   "source": [
    "list1=[12,34,[232,33]]\n",
    "print(list1[2][1])\n",
    "list2=[2,34,56,6]\n",
    "print(list1+list2)"
   ]
  },
  {
   "cell_type": "code",
   "execution_count": 100,
   "id": "8170da33",
   "metadata": {},
   "outputs": [
    {
     "data": {
      "text/plain": [
       "['Anshuman', 'is', 'a', 'god ']"
      ]
     },
     "execution_count": 100,
     "metadata": {},
     "output_type": "execute_result"
    }
   ],
   "source": [
    "s=\"Anshuman-is-a-god \"\n",
    "s.split(\"-\")"
   ]
  },
  {
   "cell_type": "markdown",
   "id": "7ef7b552",
   "metadata": {},
   "source": [
    "    10 .Tupple"
   ]
  },
  {
   "cell_type": "code",
   "execution_count": null,
   "id": "840462ba",
   "metadata": {},
   "outputs": [
    {
     "name": "stdout",
     "output_type": "stream",
     "text": [
      "7\n"
     ]
    }
   ],
   "source": [
    "e=(1,2,2,3,4,5,5)\n",
    "type(e)\n",
    "print(len(e))\n",
    "\n"
   ]
  },
  {
   "cell_type": "code",
   "execution_count": 104,
   "id": "019681a2",
   "metadata": {},
   "outputs": [
    {
     "name": "stdout",
     "output_type": "stream",
     "text": [
      "Anshuman\n",
      "2\n",
      "God\n"
     ]
    }
   ],
   "source": [
    "person=(\"Anshuman\",2,\"God\")#Packing\n",
    "#unpacking\n",
    "name,age,kya=person\n",
    "print(name) \n",
    "print(age) \n",
    "print(kya) "
   ]
  },
  {
   "cell_type": "markdown",
   "id": "0c09a3a0",
   "metadata": {},
   "source": [
    "    11. Sets"
   ]
  },
  {
   "cell_type": "code",
   "execution_count": 107,
   "id": "4d3288cc",
   "metadata": {},
   "outputs": [
    {
     "name": "stdout",
     "output_type": "stream",
     "text": [
      "<class 'set'>\n",
      "<class 'dict'>\n",
      "{1, 2, 3, 4, 5}\n",
      "<class 'set'>\n"
     ]
    }
   ],
   "source": [
    "empty_set=set()\n",
    "print(type(empty_set))\n",
    "empty_dic={}\n",
    "print(type(empty_dic))\n",
    "\n",
    "s={1,2,3,4,5}\n",
    "print(s)\n",
    "print(type(s))"
   ]
  },
  {
   "cell_type": "code",
   "execution_count": null,
   "id": "65129192",
   "metadata": {},
   "outputs": [
    {
     "name": "stdout",
     "output_type": "stream",
     "text": [
      "{1, 2, 3, 4, 5}\n"
     ]
    }
   ],
   "source": [
    "unique_number=set([1,2,2,2,3,4,4,5])\n",
    "print(unique_number)"
   ]
  },
  {
   "cell_type": "code",
   "execution_count": 118,
   "id": "7e03b43e",
   "metadata": {},
   "outputs": [
    {
     "name": "stdout",
     "output_type": "stream",
     "text": [
      "{1, 6, 54, 22, 5465, 45, 343}\n",
      "{1, 67, 6, 22, 343, 5465, 232, 45, 54}\n",
      "None\n",
      "None\n"
     ]
    }
   ],
   "source": [
    "s={1,343,54,54,5465,45,6}\n",
    "s.add(22)\n",
    "print(s)\n",
    "s.update([54,232,67,232])\n",
    "print(s)\n",
    "print(s.remove(1))\n",
    "print(s.discard(3))\n"
   ]
  },
  {
   "cell_type": "code",
   "execution_count": 116,
   "id": "738b2024",
   "metadata": {},
   "outputs": [
    {
     "name": "stdout",
     "output_type": "stream",
     "text": [
      "{1, 2, 3, 4, 5, 6, 67, 8, 9, 45, 54, 343, 5465}\n",
      "{1}\n",
      "{6, 45, 54, 343, 5465}\n",
      "{2, 3, 4, 5, 67, 6, 8, 9, 45, 54, 343, 5465}\n",
      "False\n",
      "False\n"
     ]
    }
   ],
   "source": [
    "s1={1,343,54,54,5465,45,6}\n",
    "s2={1,2,3,4,5,67,8,9}\n",
    "print(s1.union(s2))\n",
    "print(s1.intersection(s2))\n",
    "print(s1.difference(s2))\n",
    "print(s1.symmetric_difference(s2))\n",
    "print(s1.issubset(s2))\n",
    "print(s1.issuperset(s2))"
   ]
  },
  {
   "cell_type": "markdown",
   "id": "6b30c41c",
   "metadata": {},
   "source": [
    "    12.  Dictionary"
   ]
  },
  {
   "cell_type": "code",
   "execution_count": 132,
   "id": "2aa1cf2c",
   "metadata": {},
   "outputs": [
    {
     "name": "stdout",
     "output_type": "stream",
     "text": [
      "Anshuman\n",
      "23\n",
      "None\n",
      "<class 'dict'>\n",
      "dict_keys(['name', 'age', 'Kya'])\n",
      "dict_values(['Anshuman', 23, 'God-Butcher'])\n",
      "dict_items([('name', 'Anshuman'), ('age', 23), ('Kya', 'God-Butcher')])\n",
      "23\n",
      "{'name': 'God', 'age': 23, 'Kya': 'God-Butcher'}\n",
      "{'name': 'Anshuman', 'age': 23, 'Kya': 'God-Butcher', 'language': 'Hindi'}\n"
     ]
    }
   ],
   "source": [
    "student={\n",
    "    \"name\" : \"Anshuman\",\n",
    "    \"age\"  : 223,\n",
    "    \"Kya\" :\"God-Butcher\"\n",
    "}\n",
    "print(student[\"name\"])\n",
    "student[\"age\"]=23\n",
    "print(student[\"age\"])\n",
    "print(student.get(\"name2\"))\n",
    "print(type(student))\n",
    "\n",
    "print(student.keys())\n",
    "print(student.values())\n",
    "print(student.items())\n",
    "print(student.get(\"age\",0))\n",
    "student.update({\"name\" : \"God\"})\n",
    "print(student)\n",
    "student.update({\"name\" : \"Anshuman\", \"language\" : \"Hindi\"})\n",
    "print(student)\n"
   ]
  },
  {
   "cell_type": "markdown",
   "id": "52ced395",
   "metadata": {},
   "source": [
    "    13. File handling"
   ]
  },
  {
   "cell_type": "code",
   "execution_count": null,
   "id": "2810e36d",
   "metadata": {},
   "outputs": [
    {
     "data": {
      "text/plain": [
       "'anshuman'"
      ]
     },
     "execution_count": 133,
     "metadata": {},
     "output_type": "execute_result"
    }
   ],
   "source": [
    "f=open(\"text.txt\",\"r\")\n",
    "f.read()\n",
    "f.close()"
   ]
  },
  {
   "cell_type": "code",
   "execution_count": 135,
   "id": "9bc1f738",
   "metadata": {},
   "outputs": [],
   "source": [
    "f=open(\"text.txt\",\"w\")\n",
    "s=\"This time complete the course\"\n",
    "f.write(s)\n",
    "f.close()"
   ]
  },
  {
   "cell_type": "code",
   "execution_count": null,
   "id": "c974847e",
   "metadata": {},
   "outputs": [],
   "source": [
    "f=open(\"text.txt\",\"a\")\n",
    "s=\"\\nPura kar ke hi manna hai comrade\"\n",
    "f.write(s)\n",
    "f.close()"
   ]
  },
  {
   "cell_type": "code",
   "execution_count": 137,
   "id": "0ef53726",
   "metadata": {},
   "outputs": [
    {
     "name": "stdout",
     "output_type": "stream",
     "text": [
      "This time complete the coursePura kar ke hi manna hai comrade\n"
     ]
    }
   ],
   "source": [
    "with open (\"text.txt\",\"r\") as f:\n",
    "    content=f.read()\n",
    "    print(content)"
   ]
  },
  {
   "cell_type": "markdown",
   "id": "2e2505bc",
   "metadata": {},
   "source": [
    "    14. JSON Module"
   ]
  },
  {
   "cell_type": "code",
   "execution_count": 140,
   "id": "f0af13dc",
   "metadata": {},
   "outputs": [
    {
     "name": "stdout",
     "output_type": "stream",
     "text": [
      "<class 'dict'>\n",
      "<class 'str'>\n",
      "{\"name\": \"Anshuman\", \"age\": 23}\n"
     ]
    }
   ],
   "source": [
    "import json\n",
    "obj={\"name\" : \"Anshuman\",\"age\" : 23}\n",
    "print(type(obj))\n",
    "s=json.dumps(obj)\n",
    "print(type(s))\n",
    "print(s)\n"
   ]
  },
  {
   "cell_type": "code",
   "execution_count": 142,
   "id": "980de8fa",
   "metadata": {},
   "outputs": [
    {
     "name": "stdout",
     "output_type": "stream",
     "text": [
      "<class 'dict'>\n",
      "{'Name': 'anshuman'}\n"
     ]
    }
   ],
   "source": [
    "d= json.loads('{\"Name\" : \"anshuman\" }')\n",
    "print(type(d))\n",
    "print(d)"
   ]
  },
  {
   "cell_type": "code",
   "execution_count": 143,
   "id": "56c68e94",
   "metadata": {},
   "outputs": [],
   "source": [
    "file = open(\"data.json\",\"w\")\n",
    "json.dump(d,file)\n",
    "file.close()"
   ]
  },
  {
   "cell_type": "markdown",
   "id": "c2f4f923",
   "metadata": {},
   "source": [
    "    15. OOPs"
   ]
  },
  {
   "cell_type": "code",
   "execution_count": 146,
   "id": "eea4bb5e",
   "metadata": {},
   "outputs": [
    {
     "name": "stdout",
     "output_type": "stream",
     "text": [
      "The company is Anshuman.ent with the support of Hp with salary of 123234 \n",
      "The Supporting company is  Hp\n",
      "The time is now\n"
     ]
    }
   ],
   "source": [
    "class Emp:\n",
    "    company=\"Hp\"\n",
    "    def __init__(self,name,sal):\n",
    "        self.name=name \n",
    "        self.sal=sal\n",
    "     \n",
    "    def printDetails(self):\n",
    "        print(f\"The company is {self.name}.ent with the support of {self.company} with salary of {self.sal} \")\n",
    "    @staticmethod\n",
    "    def printTime():\n",
    "        print(f\"The time is now\")\n",
    "\n",
    "    @classmethod\n",
    "    def companyDetails(cls):\n",
    "        print(f\"The Supporting company is  {cls.company}\")\n",
    "\n",
    "e=Emp(\"Anshuman\",123234)\n",
    "e.printDetails()\n",
    "e.companyDetails()\n",
    "e.printTime()\n",
    "\n"
   ]
  },
  {
   "cell_type": "markdown",
   "id": "66a08f5e",
   "metadata": {},
   "source": [
    "    16. List Comprehension"
   ]
  },
  {
   "cell_type": "code",
   "execution_count": 148,
   "id": "5cb9dd5f",
   "metadata": {},
   "outputs": [
    {
     "name": "stdout",
     "output_type": "stream",
     "text": [
      "[2, 4, 6, 8, 10, 12, 14, 16, 18, 20, 22, 24, 26, 28, 30, 32, 34, 36, 38, 40]\n"
     ]
    }
   ],
   "source": [
    "table=[]\n",
    "for i in range (1,21):\n",
    "    table.append(i*2)\n",
    "print (table)"
   ]
  },
  {
   "cell_type": "code",
   "execution_count": 153,
   "id": "87c172f2",
   "metadata": {},
   "outputs": [
    {
     "name": "stdout",
     "output_type": "stream",
     "text": [
      "[2, 4, 6, 8, 10, 12, 14, 16, 18, 20, 22, 24, 26, 28, 30, 32, 34, 36, 38, 40]\n"
     ]
    }
   ],
   "source": [
    "table=[2*i for i in range (1,21) ]\n",
    "print(table)"
   ]
  },
  {
   "cell_type": "code",
   "execution_count": 154,
   "id": "0531801e",
   "metadata": {},
   "outputs": [
    {
     "name": "stdout",
     "output_type": "stream",
     "text": [
      "[4, 8, 12, 16, 20, 24, 28, 32, 36, 40]\n"
     ]
    }
   ],
   "source": [
    "table=[2*i for i in range (1,21) if (i%2)==0 ]\n",
    "print(table)"
   ]
  },
  {
   "cell_type": "markdown",
   "id": "23affa13",
   "metadata": {},
   "source": [
    "    17. Lambda Functions"
   ]
  },
  {
   "cell_type": "code",
   "execution_count": 155,
   "id": "fc3a8429",
   "metadata": {},
   "outputs": [
    {
     "name": "stdout",
     "output_type": "stream",
     "text": [
      "27\n"
     ]
    }
   ],
   "source": [
    "cube=lambda x : x**3\n",
    "print(cube(3))"
   ]
  },
  {
   "cell_type": "code",
   "execution_count": 161,
   "id": "add96833",
   "metadata": {},
   "outputs": [
    {
     "data": {
      "text/plain": [
       "57"
      ]
     },
     "execution_count": 161,
     "metadata": {},
     "output_type": "execute_result"
    }
   ],
   "source": [
    "s=lambda x,y : x+y \n",
    "s(23,34)"
   ]
  },
  {
   "cell_type": "code",
   "execution_count": 159,
   "id": "7bf35b91",
   "metadata": {},
   "outputs": [
    {
     "name": "stdout",
     "output_type": "stream",
     "text": [
      "1089\n"
     ]
    }
   ],
   "source": [
    "def func1(a):\n",
    "    ans=lambda x : x**2\n",
    "    return ans\n",
    "\n",
    "a=func1(33)\n",
    "print(a(33))"
   ]
  },
  {
   "cell_type": "code",
   "execution_count": null,
   "id": "aba4320a",
   "metadata": {},
   "outputs": [],
   "source": []
  }
 ],
 "metadata": {
  "kernelspec": {
   "display_name": "base",
   "language": "python",
   "name": "python3"
  },
  "language_info": {
   "codemirror_mode": {
    "name": "ipython",
    "version": 3
   },
   "file_extension": ".py",
   "mimetype": "text/x-python",
   "name": "python",
   "nbconvert_exporter": "python",
   "pygments_lexer": "ipython3",
   "version": "3.11.7"
  }
 },
 "nbformat": 4,
 "nbformat_minor": 5
}
