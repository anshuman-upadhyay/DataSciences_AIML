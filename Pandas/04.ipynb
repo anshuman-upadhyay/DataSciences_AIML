{
 "cells": [
  {
   "cell_type": "code",
   "execution_count": 73,
   "id": "12771d0c",
   "metadata": {},
   "outputs": [],
   "source": [
    "import pandas as pd"
   ]
  },
  {
   "cell_type": "code",
   "execution_count": 74,
   "id": "088e8604",
   "metadata": {},
   "outputs": [],
   "source": [
    "df=pd.read_csv(\"data1.csv\")"
   ]
  },
  {
   "cell_type": "code",
   "execution_count": 75,
   "id": "92bdf10d",
   "metadata": {},
   "outputs": [
    {
     "data": {
      "application/vnd.microsoft.datawrangler.viewer.v0+json": {
       "columns": [
        {
         "name": "index",
         "rawType": "int64",
         "type": "integer"
        },
        {
         "name": "Name",
         "rawType": "bool",
         "type": "boolean"
        },
        {
         "name": "Age",
         "rawType": "bool",
         "type": "boolean"
        },
        {
         "name": "City",
         "rawType": "bool",
         "type": "boolean"
        },
        {
         "name": "Gender",
         "rawType": "bool",
         "type": "boolean"
        },
        {
         "name": "Email",
         "rawType": "bool",
         "type": "boolean"
        },
        {
         "name": "Join Date",
         "rawType": "bool",
         "type": "boolean"
        }
       ],
       "ref": "cf3a8f8a-6948-418a-b646-d806c480afd6",
       "rows": [
        [
         "0",
         "False",
         "False",
         "False",
         "False",
         "False",
         "False"
        ],
        [
         "1",
         "False",
         "True",
         "False",
         "False",
         "False",
         "False"
        ],
        [
         "2",
         "False",
         "False",
         "False",
         "False",
         "False",
         "False"
        ],
        [
         "3",
         "False",
         "False",
         "False",
         "False",
         "False",
         "False"
        ],
        [
         "4",
         "False",
         "True",
         "False",
         "False",
         "False",
         "False"
        ],
        [
         "5",
         "False",
         "False",
         "False",
         "False",
         "False",
         "False"
        ],
        [
         "6",
         "True",
         "False",
         "False",
         "False",
         "False",
         "True"
        ],
        [
         "7",
         "False",
         "False",
         "False",
         "False",
         "False",
         "False"
        ],
        [
         "8",
         "False",
         "False",
         "False",
         "False",
         "False",
         "False"
        ],
        [
         "9",
         "False",
         "True",
         "False",
         "False",
         "False",
         "False"
        ],
        [
         "10",
         "False",
         "True",
         "False",
         "False",
         "False",
         "False"
        ],
        [
         "11",
         "False",
         "False",
         "False",
         "False",
         "False",
         "False"
        ],
        [
         "12",
         "True",
         "False",
         "False",
         "False",
         "False",
         "True"
        ],
        [
         "13",
         "False",
         "False",
         "False",
         "False",
         "False",
         "False"
        ],
        [
         "14",
         "False",
         "False",
         "False",
         "False",
         "False",
         "False"
        ]
       ],
       "shape": {
        "columns": 6,
        "rows": 15
       }
      },
      "text/html": [
       "<div>\n",
       "<style scoped>\n",
       "    .dataframe tbody tr th:only-of-type {\n",
       "        vertical-align: middle;\n",
       "    }\n",
       "\n",
       "    .dataframe tbody tr th {\n",
       "        vertical-align: top;\n",
       "    }\n",
       "\n",
       "    .dataframe thead th {\n",
       "        text-align: right;\n",
       "    }\n",
       "</style>\n",
       "<table border=\"1\" class=\"dataframe\">\n",
       "  <thead>\n",
       "    <tr style=\"text-align: right;\">\n",
       "      <th></th>\n",
       "      <th>Name</th>\n",
       "      <th>Age</th>\n",
       "      <th>City</th>\n",
       "      <th>Gender</th>\n",
       "      <th>Email</th>\n",
       "      <th>Join Date</th>\n",
       "    </tr>\n",
       "  </thead>\n",
       "  <tbody>\n",
       "    <tr>\n",
       "      <th>0</th>\n",
       "      <td>False</td>\n",
       "      <td>False</td>\n",
       "      <td>False</td>\n",
       "      <td>False</td>\n",
       "      <td>False</td>\n",
       "      <td>False</td>\n",
       "    </tr>\n",
       "    <tr>\n",
       "      <th>1</th>\n",
       "      <td>False</td>\n",
       "      <td>True</td>\n",
       "      <td>False</td>\n",
       "      <td>False</td>\n",
       "      <td>False</td>\n",
       "      <td>False</td>\n",
       "    </tr>\n",
       "    <tr>\n",
       "      <th>2</th>\n",
       "      <td>False</td>\n",
       "      <td>False</td>\n",
       "      <td>False</td>\n",
       "      <td>False</td>\n",
       "      <td>False</td>\n",
       "      <td>False</td>\n",
       "    </tr>\n",
       "    <tr>\n",
       "      <th>3</th>\n",
       "      <td>False</td>\n",
       "      <td>False</td>\n",
       "      <td>False</td>\n",
       "      <td>False</td>\n",
       "      <td>False</td>\n",
       "      <td>False</td>\n",
       "    </tr>\n",
       "    <tr>\n",
       "      <th>4</th>\n",
       "      <td>False</td>\n",
       "      <td>True</td>\n",
       "      <td>False</td>\n",
       "      <td>False</td>\n",
       "      <td>False</td>\n",
       "      <td>False</td>\n",
       "    </tr>\n",
       "    <tr>\n",
       "      <th>5</th>\n",
       "      <td>False</td>\n",
       "      <td>False</td>\n",
       "      <td>False</td>\n",
       "      <td>False</td>\n",
       "      <td>False</td>\n",
       "      <td>False</td>\n",
       "    </tr>\n",
       "    <tr>\n",
       "      <th>6</th>\n",
       "      <td>True</td>\n",
       "      <td>False</td>\n",
       "      <td>False</td>\n",
       "      <td>False</td>\n",
       "      <td>False</td>\n",
       "      <td>True</td>\n",
       "    </tr>\n",
       "    <tr>\n",
       "      <th>7</th>\n",
       "      <td>False</td>\n",
       "      <td>False</td>\n",
       "      <td>False</td>\n",
       "      <td>False</td>\n",
       "      <td>False</td>\n",
       "      <td>False</td>\n",
       "    </tr>\n",
       "    <tr>\n",
       "      <th>8</th>\n",
       "      <td>False</td>\n",
       "      <td>False</td>\n",
       "      <td>False</td>\n",
       "      <td>False</td>\n",
       "      <td>False</td>\n",
       "      <td>False</td>\n",
       "    </tr>\n",
       "    <tr>\n",
       "      <th>9</th>\n",
       "      <td>False</td>\n",
       "      <td>True</td>\n",
       "      <td>False</td>\n",
       "      <td>False</td>\n",
       "      <td>False</td>\n",
       "      <td>False</td>\n",
       "    </tr>\n",
       "    <tr>\n",
       "      <th>10</th>\n",
       "      <td>False</td>\n",
       "      <td>True</td>\n",
       "      <td>False</td>\n",
       "      <td>False</td>\n",
       "      <td>False</td>\n",
       "      <td>False</td>\n",
       "    </tr>\n",
       "    <tr>\n",
       "      <th>11</th>\n",
       "      <td>False</td>\n",
       "      <td>False</td>\n",
       "      <td>False</td>\n",
       "      <td>False</td>\n",
       "      <td>False</td>\n",
       "      <td>False</td>\n",
       "    </tr>\n",
       "    <tr>\n",
       "      <th>12</th>\n",
       "      <td>True</td>\n",
       "      <td>False</td>\n",
       "      <td>False</td>\n",
       "      <td>False</td>\n",
       "      <td>False</td>\n",
       "      <td>True</td>\n",
       "    </tr>\n",
       "    <tr>\n",
       "      <th>13</th>\n",
       "      <td>False</td>\n",
       "      <td>False</td>\n",
       "      <td>False</td>\n",
       "      <td>False</td>\n",
       "      <td>False</td>\n",
       "      <td>False</td>\n",
       "    </tr>\n",
       "    <tr>\n",
       "      <th>14</th>\n",
       "      <td>False</td>\n",
       "      <td>False</td>\n",
       "      <td>False</td>\n",
       "      <td>False</td>\n",
       "      <td>False</td>\n",
       "      <td>False</td>\n",
       "    </tr>\n",
       "  </tbody>\n",
       "</table>\n",
       "</div>"
      ],
      "text/plain": [
       "     Name    Age   City  Gender  Email  Join Date\n",
       "0   False  False  False   False  False      False\n",
       "1   False   True  False   False  False      False\n",
       "2   False  False  False   False  False      False\n",
       "3   False  False  False   False  False      False\n",
       "4   False   True  False   False  False      False\n",
       "5   False  False  False   False  False      False\n",
       "6    True  False  False   False  False       True\n",
       "7   False  False  False   False  False      False\n",
       "8   False  False  False   False  False      False\n",
       "9   False   True  False   False  False      False\n",
       "10  False   True  False   False  False      False\n",
       "11  False  False  False   False  False      False\n",
       "12   True  False  False   False  False       True\n",
       "13  False  False  False   False  False      False\n",
       "14  False  False  False   False  False      False"
      ]
     },
     "execution_count": 75,
     "metadata": {},
     "output_type": "execute_result"
    }
   ],
   "source": [
    "df.isnull()"
   ]
  },
  {
   "cell_type": "code",
   "execution_count": 76,
   "id": "76c931f2",
   "metadata": {},
   "outputs": [
    {
     "data": {
      "application/vnd.microsoft.datawrangler.viewer.v0+json": {
       "columns": [
        {
         "name": "index",
         "rawType": "object",
         "type": "string"
        },
        {
         "name": "0",
         "rawType": "int64",
         "type": "integer"
        }
       ],
       "ref": "703bfa82-34b1-42fe-af19-fbb88f464634",
       "rows": [
        [
         "Name",
         "2"
        ],
        [
         "Age",
         "4"
        ],
        [
         "City",
         "0"
        ],
        [
         "Gender",
         "0"
        ],
        [
         "Email",
         "0"
        ],
        [
         "Join Date",
         "2"
        ]
       ],
       "shape": {
        "columns": 1,
        "rows": 6
       }
      },
      "text/plain": [
       "Name         2\n",
       "Age          4\n",
       "City         0\n",
       "Gender       0\n",
       "Email        0\n",
       "Join Date    2\n",
       "dtype: int64"
      ]
     },
     "execution_count": 76,
     "metadata": {},
     "output_type": "execute_result"
    }
   ],
   "source": [
    "df.isnull().sum()"
   ]
  },
  {
   "cell_type": "code",
   "execution_count": 77,
   "id": "c51bdada",
   "metadata": {},
   "outputs": [
    {
     "data": {
      "application/vnd.microsoft.datawrangler.viewer.v0+json": {
       "columns": [
        {
         "name": "index",
         "rawType": "int64",
         "type": "integer"
        },
        {
         "name": "Name",
         "rawType": "object",
         "type": "string"
        },
        {
         "name": "Age",
         "rawType": "float64",
         "type": "float"
        },
        {
         "name": "City",
         "rawType": "object",
         "type": "string"
        },
        {
         "name": "Gender",
         "rawType": "object",
         "type": "string"
        },
        {
         "name": "Email",
         "rawType": "object",
         "type": "string"
        },
        {
         "name": "Join Date",
         "rawType": "object",
         "type": "string"
        }
       ],
       "ref": "7cd41c74-8d16-4559-a13e-d1fe802f86f6",
       "rows": [
        [
         "0",
         "Alice",
         "25.0",
         "New York",
         "F",
         "alice@example.com",
         "01-05-2021"
        ],
        [
         "2",
         "Alice",
         "25.0",
         "New York",
         "F",
         "alice@example.com",
         "01-05-2021"
        ],
        [
         "3",
         "Bob",
         "30.0",
         "Los Angeles",
         "M",
         "bob@example.com",
         "15-06-2020"
        ],
        [
         "5",
         "David",
         "22.0",
         "Mumbai",
         "M",
         "david@example.com",
         "12-11-2019"
        ],
        [
         "7",
         "Alice",
         "25.0",
         "New York",
         "F",
         "alice@example.com",
         "01-05-2021"
        ],
        [
         "8",
         "Alice",
         "25.0",
         "New York",
         "F",
         "alice@example.com",
         "01-05-2021"
        ],
        [
         "11",
         "David",
         "22.0",
         "Mumbai",
         "M",
         "david@example.com",
         "12-11-2019"
        ],
        [
         "13",
         "Alice",
         "25.0",
         "New York",
         "F",
         "alice@example.com",
         "01-05-2021"
        ],
        [
         "14",
         "Alice",
         "25.0",
         "New York",
         "F",
         "alice@example.com",
         "01-05-2021"
        ]
       ],
       "shape": {
        "columns": 6,
        "rows": 9
       }
      },
      "text/html": [
       "<div>\n",
       "<style scoped>\n",
       "    .dataframe tbody tr th:only-of-type {\n",
       "        vertical-align: middle;\n",
       "    }\n",
       "\n",
       "    .dataframe tbody tr th {\n",
       "        vertical-align: top;\n",
       "    }\n",
       "\n",
       "    .dataframe thead th {\n",
       "        text-align: right;\n",
       "    }\n",
       "</style>\n",
       "<table border=\"1\" class=\"dataframe\">\n",
       "  <thead>\n",
       "    <tr style=\"text-align: right;\">\n",
       "      <th></th>\n",
       "      <th>Name</th>\n",
       "      <th>Age</th>\n",
       "      <th>City</th>\n",
       "      <th>Gender</th>\n",
       "      <th>Email</th>\n",
       "      <th>Join Date</th>\n",
       "    </tr>\n",
       "  </thead>\n",
       "  <tbody>\n",
       "    <tr>\n",
       "      <th>0</th>\n",
       "      <td>Alice</td>\n",
       "      <td>25.0</td>\n",
       "      <td>New York</td>\n",
       "      <td>F</td>\n",
       "      <td>alice@example.com</td>\n",
       "      <td>01-05-2021</td>\n",
       "    </tr>\n",
       "    <tr>\n",
       "      <th>2</th>\n",
       "      <td>Alice</td>\n",
       "      <td>25.0</td>\n",
       "      <td>New York</td>\n",
       "      <td>F</td>\n",
       "      <td>alice@example.com</td>\n",
       "      <td>01-05-2021</td>\n",
       "    </tr>\n",
       "    <tr>\n",
       "      <th>3</th>\n",
       "      <td>Bob</td>\n",
       "      <td>30.0</td>\n",
       "      <td>Los Angeles</td>\n",
       "      <td>M</td>\n",
       "      <td>bob@example.com</td>\n",
       "      <td>15-06-2020</td>\n",
       "    </tr>\n",
       "    <tr>\n",
       "      <th>5</th>\n",
       "      <td>David</td>\n",
       "      <td>22.0</td>\n",
       "      <td>Mumbai</td>\n",
       "      <td>M</td>\n",
       "      <td>david@example.com</td>\n",
       "      <td>12-11-2019</td>\n",
       "    </tr>\n",
       "    <tr>\n",
       "      <th>7</th>\n",
       "      <td>Alice</td>\n",
       "      <td>25.0</td>\n",
       "      <td>New York</td>\n",
       "      <td>F</td>\n",
       "      <td>alice@example.com</td>\n",
       "      <td>01-05-2021</td>\n",
       "    </tr>\n",
       "    <tr>\n",
       "      <th>8</th>\n",
       "      <td>Alice</td>\n",
       "      <td>25.0</td>\n",
       "      <td>New York</td>\n",
       "      <td>F</td>\n",
       "      <td>alice@example.com</td>\n",
       "      <td>01-05-2021</td>\n",
       "    </tr>\n",
       "    <tr>\n",
       "      <th>11</th>\n",
       "      <td>David</td>\n",
       "      <td>22.0</td>\n",
       "      <td>Mumbai</td>\n",
       "      <td>M</td>\n",
       "      <td>david@example.com</td>\n",
       "      <td>12-11-2019</td>\n",
       "    </tr>\n",
       "    <tr>\n",
       "      <th>13</th>\n",
       "      <td>Alice</td>\n",
       "      <td>25.0</td>\n",
       "      <td>New York</td>\n",
       "      <td>F</td>\n",
       "      <td>alice@example.com</td>\n",
       "      <td>01-05-2021</td>\n",
       "    </tr>\n",
       "    <tr>\n",
       "      <th>14</th>\n",
       "      <td>Alice</td>\n",
       "      <td>25.0</td>\n",
       "      <td>New York</td>\n",
       "      <td>F</td>\n",
       "      <td>alice@example.com</td>\n",
       "      <td>01-05-2021</td>\n",
       "    </tr>\n",
       "  </tbody>\n",
       "</table>\n",
       "</div>"
      ],
      "text/plain": [
       "     Name   Age         City Gender              Email   Join Date\n",
       "0   Alice  25.0     New York      F  alice@example.com  01-05-2021\n",
       "2   Alice  25.0     New York      F  alice@example.com  01-05-2021\n",
       "3     Bob  30.0  Los Angeles      M    bob@example.com  15-06-2020\n",
       "5   David  22.0       Mumbai      M  david@example.com  12-11-2019\n",
       "7   Alice  25.0     New York      F  alice@example.com  01-05-2021\n",
       "8   Alice  25.0     New York      F  alice@example.com  01-05-2021\n",
       "11  David  22.0       Mumbai      M  david@example.com  12-11-2019\n",
       "13  Alice  25.0     New York      F  alice@example.com  01-05-2021\n",
       "14  Alice  25.0     New York      F  alice@example.com  01-05-2021"
      ]
     },
     "execution_count": 77,
     "metadata": {},
     "output_type": "execute_result"
    }
   ],
   "source": [
    "df.dropna()"
   ]
  },
  {
   "cell_type": "code",
   "execution_count": 78,
   "id": "113c784a",
   "metadata": {},
   "outputs": [
    {
     "data": {
      "application/vnd.microsoft.datawrangler.viewer.v0+json": {
       "columns": [
        {
         "name": "index",
         "rawType": "int64",
         "type": "integer"
        },
        {
         "name": "City",
         "rawType": "object",
         "type": "string"
        },
        {
         "name": "Gender",
         "rawType": "object",
         "type": "string"
        },
        {
         "name": "Email",
         "rawType": "object",
         "type": "string"
        }
       ],
       "ref": "3e9fa712-e3bd-4af7-ae23-c6565990f0dd",
       "rows": [
        [
         "0",
         "New York",
         "F",
         "alice@example.com"
        ],
        [
         "1",
         "Delhi",
         "M",
         "charlie@example"
        ],
        [
         "2",
         "New York",
         "F",
         "alice@example.com"
        ],
        [
         "3",
         "Los Angeles",
         "M",
         "bob@example.com"
        ],
        [
         "4",
         "Delhi",
         "M",
         "charlie@example"
        ],
        [
         "5",
         "Mumbai",
         "M",
         "david@example.com"
        ],
        [
         "6",
         "Delhi",
         "F",
         "eve@domain.com"
        ],
        [
         "7",
         "New York",
         "F",
         "alice@example.com"
        ],
        [
         "8",
         "New York",
         "F",
         "alice@example.com"
        ],
        [
         "9",
         "Delhi",
         "M",
         "charlie@example"
        ],
        [
         "10",
         "Delhi",
         "M",
         "charlie@example"
        ],
        [
         "11",
         "Mumbai",
         "M",
         "david@example.com"
        ],
        [
         "12",
         "Delhi",
         "F",
         "eve@domain.com"
        ],
        [
         "13",
         "New York",
         "F",
         "alice@example.com"
        ],
        [
         "14",
         "New York",
         "F",
         "alice@example.com"
        ]
       ],
       "shape": {
        "columns": 3,
        "rows": 15
       }
      },
      "text/html": [
       "<div>\n",
       "<style scoped>\n",
       "    .dataframe tbody tr th:only-of-type {\n",
       "        vertical-align: middle;\n",
       "    }\n",
       "\n",
       "    .dataframe tbody tr th {\n",
       "        vertical-align: top;\n",
       "    }\n",
       "\n",
       "    .dataframe thead th {\n",
       "        text-align: right;\n",
       "    }\n",
       "</style>\n",
       "<table border=\"1\" class=\"dataframe\">\n",
       "  <thead>\n",
       "    <tr style=\"text-align: right;\">\n",
       "      <th></th>\n",
       "      <th>City</th>\n",
       "      <th>Gender</th>\n",
       "      <th>Email</th>\n",
       "    </tr>\n",
       "  </thead>\n",
       "  <tbody>\n",
       "    <tr>\n",
       "      <th>0</th>\n",
       "      <td>New York</td>\n",
       "      <td>F</td>\n",
       "      <td>alice@example.com</td>\n",
       "    </tr>\n",
       "    <tr>\n",
       "      <th>1</th>\n",
       "      <td>Delhi</td>\n",
       "      <td>M</td>\n",
       "      <td>charlie@example</td>\n",
       "    </tr>\n",
       "    <tr>\n",
       "      <th>2</th>\n",
       "      <td>New York</td>\n",
       "      <td>F</td>\n",
       "      <td>alice@example.com</td>\n",
       "    </tr>\n",
       "    <tr>\n",
       "      <th>3</th>\n",
       "      <td>Los Angeles</td>\n",
       "      <td>M</td>\n",
       "      <td>bob@example.com</td>\n",
       "    </tr>\n",
       "    <tr>\n",
       "      <th>4</th>\n",
       "      <td>Delhi</td>\n",
       "      <td>M</td>\n",
       "      <td>charlie@example</td>\n",
       "    </tr>\n",
       "    <tr>\n",
       "      <th>5</th>\n",
       "      <td>Mumbai</td>\n",
       "      <td>M</td>\n",
       "      <td>david@example.com</td>\n",
       "    </tr>\n",
       "    <tr>\n",
       "      <th>6</th>\n",
       "      <td>Delhi</td>\n",
       "      <td>F</td>\n",
       "      <td>eve@domain.com</td>\n",
       "    </tr>\n",
       "    <tr>\n",
       "      <th>7</th>\n",
       "      <td>New York</td>\n",
       "      <td>F</td>\n",
       "      <td>alice@example.com</td>\n",
       "    </tr>\n",
       "    <tr>\n",
       "      <th>8</th>\n",
       "      <td>New York</td>\n",
       "      <td>F</td>\n",
       "      <td>alice@example.com</td>\n",
       "    </tr>\n",
       "    <tr>\n",
       "      <th>9</th>\n",
       "      <td>Delhi</td>\n",
       "      <td>M</td>\n",
       "      <td>charlie@example</td>\n",
       "    </tr>\n",
       "    <tr>\n",
       "      <th>10</th>\n",
       "      <td>Delhi</td>\n",
       "      <td>M</td>\n",
       "      <td>charlie@example</td>\n",
       "    </tr>\n",
       "    <tr>\n",
       "      <th>11</th>\n",
       "      <td>Mumbai</td>\n",
       "      <td>M</td>\n",
       "      <td>david@example.com</td>\n",
       "    </tr>\n",
       "    <tr>\n",
       "      <th>12</th>\n",
       "      <td>Delhi</td>\n",
       "      <td>F</td>\n",
       "      <td>eve@domain.com</td>\n",
       "    </tr>\n",
       "    <tr>\n",
       "      <th>13</th>\n",
       "      <td>New York</td>\n",
       "      <td>F</td>\n",
       "      <td>alice@example.com</td>\n",
       "    </tr>\n",
       "    <tr>\n",
       "      <th>14</th>\n",
       "      <td>New York</td>\n",
       "      <td>F</td>\n",
       "      <td>alice@example.com</td>\n",
       "    </tr>\n",
       "  </tbody>\n",
       "</table>\n",
       "</div>"
      ],
      "text/plain": [
       "           City Gender              Email\n",
       "0      New York      F  alice@example.com\n",
       "1         Delhi      M    charlie@example\n",
       "2      New York      F  alice@example.com\n",
       "3   Los Angeles      M    bob@example.com\n",
       "4         Delhi      M    charlie@example\n",
       "5        Mumbai      M  david@example.com\n",
       "6         Delhi      F     eve@domain.com\n",
       "7      New York      F  alice@example.com\n",
       "8      New York      F  alice@example.com\n",
       "9         Delhi      M    charlie@example\n",
       "10        Delhi      M    charlie@example\n",
       "11       Mumbai      M  david@example.com\n",
       "12        Delhi      F     eve@domain.com\n",
       "13     New York      F  alice@example.com\n",
       "14     New York      F  alice@example.com"
      ]
     },
     "execution_count": 78,
     "metadata": {},
     "output_type": "execute_result"
    }
   ],
   "source": [
    "df.dropna(axis=1)"
   ]
  },
  {
   "cell_type": "code",
   "execution_count": 79,
   "id": "6cb1fb5c",
   "metadata": {},
   "outputs": [
    {
     "data": {
      "application/vnd.microsoft.datawrangler.viewer.v0+json": {
       "columns": [
        {
         "name": "index",
         "rawType": "int64",
         "type": "integer"
        },
        {
         "name": "Name",
         "rawType": "object",
         "type": "unknown"
        },
        {
         "name": "Age",
         "rawType": "float64",
         "type": "float"
        },
        {
         "name": "City",
         "rawType": "object",
         "type": "string"
        },
        {
         "name": "Gender",
         "rawType": "object",
         "type": "string"
        },
        {
         "name": "Email",
         "rawType": "object",
         "type": "string"
        },
        {
         "name": "Join Date",
         "rawType": "object",
         "type": "unknown"
        }
       ],
       "ref": "f86e5f55-fd63-4236-8bc8-8b7a89a1231f",
       "rows": [
        [
         "0",
         "Alice",
         "25.0",
         "New York",
         "F",
         "alice@example.com",
         "01-05-2021"
        ],
        [
         "1",
         "Charlie",
         "0.0",
         "Delhi",
         "M",
         "charlie@example",
         "20-07-2021"
        ],
        [
         "2",
         "Alice",
         "25.0",
         "New York",
         "F",
         "alice@example.com",
         "01-05-2021"
        ],
        [
         "3",
         "Bob",
         "30.0",
         "Los Angeles",
         "M",
         "bob@example.com",
         "15-06-2020"
        ],
        [
         "4",
         "Charlie",
         "0.0",
         "Delhi",
         "M",
         "charlie@example",
         "20-07-2021"
        ],
        [
         "5",
         "David",
         "22.0",
         "Mumbai",
         "M",
         "david@example.com",
         "12-11-2019"
        ],
        [
         "6",
         "0",
         "28.0",
         "Delhi",
         "F",
         "eve@domain.com",
         "0"
        ],
        [
         "7",
         "Alice",
         "25.0",
         "New York",
         "F",
         "alice@example.com",
         "01-05-2021"
        ],
        [
         "8",
         "Alice",
         "25.0",
         "New York",
         "F",
         "alice@example.com",
         "01-05-2021"
        ],
        [
         "9",
         "Charlie",
         "0.0",
         "Delhi",
         "M",
         "charlie@example",
         "20-07-2021"
        ],
        [
         "10",
         "Charlie",
         "0.0",
         "Delhi",
         "M",
         "charlie@example",
         "20-07-2021"
        ],
        [
         "11",
         "David",
         "22.0",
         "Mumbai",
         "M",
         "david@example.com",
         "12-11-2019"
        ],
        [
         "12",
         "0",
         "28.0",
         "Delhi",
         "F",
         "eve@domain.com",
         "0"
        ],
        [
         "13",
         "Alice",
         "25.0",
         "New York",
         "F",
         "alice@example.com",
         "01-05-2021"
        ],
        [
         "14",
         "Alice",
         "25.0",
         "New York",
         "F",
         "alice@example.com",
         "01-05-2021"
        ]
       ],
       "shape": {
        "columns": 6,
        "rows": 15
       }
      },
      "text/html": [
       "<div>\n",
       "<style scoped>\n",
       "    .dataframe tbody tr th:only-of-type {\n",
       "        vertical-align: middle;\n",
       "    }\n",
       "\n",
       "    .dataframe tbody tr th {\n",
       "        vertical-align: top;\n",
       "    }\n",
       "\n",
       "    .dataframe thead th {\n",
       "        text-align: right;\n",
       "    }\n",
       "</style>\n",
       "<table border=\"1\" class=\"dataframe\">\n",
       "  <thead>\n",
       "    <tr style=\"text-align: right;\">\n",
       "      <th></th>\n",
       "      <th>Name</th>\n",
       "      <th>Age</th>\n",
       "      <th>City</th>\n",
       "      <th>Gender</th>\n",
       "      <th>Email</th>\n",
       "      <th>Join Date</th>\n",
       "    </tr>\n",
       "  </thead>\n",
       "  <tbody>\n",
       "    <tr>\n",
       "      <th>0</th>\n",
       "      <td>Alice</td>\n",
       "      <td>25.0</td>\n",
       "      <td>New York</td>\n",
       "      <td>F</td>\n",
       "      <td>alice@example.com</td>\n",
       "      <td>01-05-2021</td>\n",
       "    </tr>\n",
       "    <tr>\n",
       "      <th>1</th>\n",
       "      <td>Charlie</td>\n",
       "      <td>0.0</td>\n",
       "      <td>Delhi</td>\n",
       "      <td>M</td>\n",
       "      <td>charlie@example</td>\n",
       "      <td>20-07-2021</td>\n",
       "    </tr>\n",
       "    <tr>\n",
       "      <th>2</th>\n",
       "      <td>Alice</td>\n",
       "      <td>25.0</td>\n",
       "      <td>New York</td>\n",
       "      <td>F</td>\n",
       "      <td>alice@example.com</td>\n",
       "      <td>01-05-2021</td>\n",
       "    </tr>\n",
       "    <tr>\n",
       "      <th>3</th>\n",
       "      <td>Bob</td>\n",
       "      <td>30.0</td>\n",
       "      <td>Los Angeles</td>\n",
       "      <td>M</td>\n",
       "      <td>bob@example.com</td>\n",
       "      <td>15-06-2020</td>\n",
       "    </tr>\n",
       "    <tr>\n",
       "      <th>4</th>\n",
       "      <td>Charlie</td>\n",
       "      <td>0.0</td>\n",
       "      <td>Delhi</td>\n",
       "      <td>M</td>\n",
       "      <td>charlie@example</td>\n",
       "      <td>20-07-2021</td>\n",
       "    </tr>\n",
       "    <tr>\n",
       "      <th>5</th>\n",
       "      <td>David</td>\n",
       "      <td>22.0</td>\n",
       "      <td>Mumbai</td>\n",
       "      <td>M</td>\n",
       "      <td>david@example.com</td>\n",
       "      <td>12-11-2019</td>\n",
       "    </tr>\n",
       "    <tr>\n",
       "      <th>6</th>\n",
       "      <td>0</td>\n",
       "      <td>28.0</td>\n",
       "      <td>Delhi</td>\n",
       "      <td>F</td>\n",
       "      <td>eve@domain.com</td>\n",
       "      <td>0</td>\n",
       "    </tr>\n",
       "    <tr>\n",
       "      <th>7</th>\n",
       "      <td>Alice</td>\n",
       "      <td>25.0</td>\n",
       "      <td>New York</td>\n",
       "      <td>F</td>\n",
       "      <td>alice@example.com</td>\n",
       "      <td>01-05-2021</td>\n",
       "    </tr>\n",
       "    <tr>\n",
       "      <th>8</th>\n",
       "      <td>Alice</td>\n",
       "      <td>25.0</td>\n",
       "      <td>New York</td>\n",
       "      <td>F</td>\n",
       "      <td>alice@example.com</td>\n",
       "      <td>01-05-2021</td>\n",
       "    </tr>\n",
       "    <tr>\n",
       "      <th>9</th>\n",
       "      <td>Charlie</td>\n",
       "      <td>0.0</td>\n",
       "      <td>Delhi</td>\n",
       "      <td>M</td>\n",
       "      <td>charlie@example</td>\n",
       "      <td>20-07-2021</td>\n",
       "    </tr>\n",
       "    <tr>\n",
       "      <th>10</th>\n",
       "      <td>Charlie</td>\n",
       "      <td>0.0</td>\n",
       "      <td>Delhi</td>\n",
       "      <td>M</td>\n",
       "      <td>charlie@example</td>\n",
       "      <td>20-07-2021</td>\n",
       "    </tr>\n",
       "    <tr>\n",
       "      <th>11</th>\n",
       "      <td>David</td>\n",
       "      <td>22.0</td>\n",
       "      <td>Mumbai</td>\n",
       "      <td>M</td>\n",
       "      <td>david@example.com</td>\n",
       "      <td>12-11-2019</td>\n",
       "    </tr>\n",
       "    <tr>\n",
       "      <th>12</th>\n",
       "      <td>0</td>\n",
       "      <td>28.0</td>\n",
       "      <td>Delhi</td>\n",
       "      <td>F</td>\n",
       "      <td>eve@domain.com</td>\n",
       "      <td>0</td>\n",
       "    </tr>\n",
       "    <tr>\n",
       "      <th>13</th>\n",
       "      <td>Alice</td>\n",
       "      <td>25.0</td>\n",
       "      <td>New York</td>\n",
       "      <td>F</td>\n",
       "      <td>alice@example.com</td>\n",
       "      <td>01-05-2021</td>\n",
       "    </tr>\n",
       "    <tr>\n",
       "      <th>14</th>\n",
       "      <td>Alice</td>\n",
       "      <td>25.0</td>\n",
       "      <td>New York</td>\n",
       "      <td>F</td>\n",
       "      <td>alice@example.com</td>\n",
       "      <td>01-05-2021</td>\n",
       "    </tr>\n",
       "  </tbody>\n",
       "</table>\n",
       "</div>"
      ],
      "text/plain": [
       "       Name   Age         City Gender              Email   Join Date\n",
       "0     Alice  25.0     New York      F  alice@example.com  01-05-2021\n",
       "1   Charlie   0.0        Delhi      M    charlie@example  20-07-2021\n",
       "2     Alice  25.0     New York      F  alice@example.com  01-05-2021\n",
       "3       Bob  30.0  Los Angeles      M    bob@example.com  15-06-2020\n",
       "4   Charlie   0.0        Delhi      M    charlie@example  20-07-2021\n",
       "5     David  22.0       Mumbai      M  david@example.com  12-11-2019\n",
       "6         0  28.0        Delhi      F     eve@domain.com           0\n",
       "7     Alice  25.0     New York      F  alice@example.com  01-05-2021\n",
       "8     Alice  25.0     New York      F  alice@example.com  01-05-2021\n",
       "9   Charlie   0.0        Delhi      M    charlie@example  20-07-2021\n",
       "10  Charlie   0.0        Delhi      M    charlie@example  20-07-2021\n",
       "11    David  22.0       Mumbai      M  david@example.com  12-11-2019\n",
       "12        0  28.0        Delhi      F     eve@domain.com           0\n",
       "13    Alice  25.0     New York      F  alice@example.com  01-05-2021\n",
       "14    Alice  25.0     New York      F  alice@example.com  01-05-2021"
      ]
     },
     "execution_count": 79,
     "metadata": {},
     "output_type": "execute_result"
    }
   ],
   "source": [
    "df.fillna(0)"
   ]
  },
  {
   "cell_type": "code",
   "execution_count": 80,
   "id": "4a4817c7",
   "metadata": {},
   "outputs": [
    {
     "data": {
      "application/vnd.microsoft.datawrangler.viewer.v0+json": {
       "columns": [
        {
         "name": "index",
         "rawType": "int64",
         "type": "integer"
        },
        {
         "name": "Name",
         "rawType": "object",
         "type": "unknown"
        },
        {
         "name": "Age",
         "rawType": "float64",
         "type": "float"
        },
        {
         "name": "City",
         "rawType": "object",
         "type": "string"
        },
        {
         "name": "Gender",
         "rawType": "object",
         "type": "string"
        },
        {
         "name": "Email",
         "rawType": "object",
         "type": "string"
        },
        {
         "name": "Join Date",
         "rawType": "object",
         "type": "unknown"
        }
       ],
       "ref": "ce2b83eb-34a6-4435-9490-d1958f62a065",
       "rows": [
        [
         "0",
         "Alice",
         "25.0",
         "New York",
         "F",
         "alice@example.com",
         "01-05-2021"
        ],
        [
         "1",
         "Charlie",
         "25.454545454545453",
         "Delhi",
         "M",
         "charlie@example",
         "20-07-2021"
        ],
        [
         "2",
         "Alice",
         "25.0",
         "New York",
         "F",
         "alice@example.com",
         "01-05-2021"
        ],
        [
         "3",
         "Bob",
         "30.0",
         "Los Angeles",
         "M",
         "bob@example.com",
         "15-06-2020"
        ],
        [
         "4",
         "Charlie",
         "25.454545454545453",
         "Delhi",
         "M",
         "charlie@example",
         "20-07-2021"
        ],
        [
         "5",
         "David",
         "22.0",
         "Mumbai",
         "M",
         "david@example.com",
         "12-11-2019"
        ],
        [
         "6",
         "25.454545454545453",
         "28.0",
         "Delhi",
         "F",
         "eve@domain.com",
         "25.454545454545453"
        ],
        [
         "7",
         "Alice",
         "25.0",
         "New York",
         "F",
         "alice@example.com",
         "01-05-2021"
        ],
        [
         "8",
         "Alice",
         "25.0",
         "New York",
         "F",
         "alice@example.com",
         "01-05-2021"
        ],
        [
         "9",
         "Charlie",
         "25.454545454545453",
         "Delhi",
         "M",
         "charlie@example",
         "20-07-2021"
        ],
        [
         "10",
         "Charlie",
         "25.454545454545453",
         "Delhi",
         "M",
         "charlie@example",
         "20-07-2021"
        ],
        [
         "11",
         "David",
         "22.0",
         "Mumbai",
         "M",
         "david@example.com",
         "12-11-2019"
        ],
        [
         "12",
         "25.454545454545453",
         "28.0",
         "Delhi",
         "F",
         "eve@domain.com",
         "25.454545454545453"
        ],
        [
         "13",
         "Alice",
         "25.0",
         "New York",
         "F",
         "alice@example.com",
         "01-05-2021"
        ],
        [
         "14",
         "Alice",
         "25.0",
         "New York",
         "F",
         "alice@example.com",
         "01-05-2021"
        ]
       ],
       "shape": {
        "columns": 6,
        "rows": 15
       }
      },
      "text/html": [
       "<div>\n",
       "<style scoped>\n",
       "    .dataframe tbody tr th:only-of-type {\n",
       "        vertical-align: middle;\n",
       "    }\n",
       "\n",
       "    .dataframe tbody tr th {\n",
       "        vertical-align: top;\n",
       "    }\n",
       "\n",
       "    .dataframe thead th {\n",
       "        text-align: right;\n",
       "    }\n",
       "</style>\n",
       "<table border=\"1\" class=\"dataframe\">\n",
       "  <thead>\n",
       "    <tr style=\"text-align: right;\">\n",
       "      <th></th>\n",
       "      <th>Name</th>\n",
       "      <th>Age</th>\n",
       "      <th>City</th>\n",
       "      <th>Gender</th>\n",
       "      <th>Email</th>\n",
       "      <th>Join Date</th>\n",
       "    </tr>\n",
       "  </thead>\n",
       "  <tbody>\n",
       "    <tr>\n",
       "      <th>0</th>\n",
       "      <td>Alice</td>\n",
       "      <td>25.000000</td>\n",
       "      <td>New York</td>\n",
       "      <td>F</td>\n",
       "      <td>alice@example.com</td>\n",
       "      <td>01-05-2021</td>\n",
       "    </tr>\n",
       "    <tr>\n",
       "      <th>1</th>\n",
       "      <td>Charlie</td>\n",
       "      <td>25.454545</td>\n",
       "      <td>Delhi</td>\n",
       "      <td>M</td>\n",
       "      <td>charlie@example</td>\n",
       "      <td>20-07-2021</td>\n",
       "    </tr>\n",
       "    <tr>\n",
       "      <th>2</th>\n",
       "      <td>Alice</td>\n",
       "      <td>25.000000</td>\n",
       "      <td>New York</td>\n",
       "      <td>F</td>\n",
       "      <td>alice@example.com</td>\n",
       "      <td>01-05-2021</td>\n",
       "    </tr>\n",
       "    <tr>\n",
       "      <th>3</th>\n",
       "      <td>Bob</td>\n",
       "      <td>30.000000</td>\n",
       "      <td>Los Angeles</td>\n",
       "      <td>M</td>\n",
       "      <td>bob@example.com</td>\n",
       "      <td>15-06-2020</td>\n",
       "    </tr>\n",
       "    <tr>\n",
       "      <th>4</th>\n",
       "      <td>Charlie</td>\n",
       "      <td>25.454545</td>\n",
       "      <td>Delhi</td>\n",
       "      <td>M</td>\n",
       "      <td>charlie@example</td>\n",
       "      <td>20-07-2021</td>\n",
       "    </tr>\n",
       "    <tr>\n",
       "      <th>5</th>\n",
       "      <td>David</td>\n",
       "      <td>22.000000</td>\n",
       "      <td>Mumbai</td>\n",
       "      <td>M</td>\n",
       "      <td>david@example.com</td>\n",
       "      <td>12-11-2019</td>\n",
       "    </tr>\n",
       "    <tr>\n",
       "      <th>6</th>\n",
       "      <td>25.454545</td>\n",
       "      <td>28.000000</td>\n",
       "      <td>Delhi</td>\n",
       "      <td>F</td>\n",
       "      <td>eve@domain.com</td>\n",
       "      <td>25.454545</td>\n",
       "    </tr>\n",
       "    <tr>\n",
       "      <th>7</th>\n",
       "      <td>Alice</td>\n",
       "      <td>25.000000</td>\n",
       "      <td>New York</td>\n",
       "      <td>F</td>\n",
       "      <td>alice@example.com</td>\n",
       "      <td>01-05-2021</td>\n",
       "    </tr>\n",
       "    <tr>\n",
       "      <th>8</th>\n",
       "      <td>Alice</td>\n",
       "      <td>25.000000</td>\n",
       "      <td>New York</td>\n",
       "      <td>F</td>\n",
       "      <td>alice@example.com</td>\n",
       "      <td>01-05-2021</td>\n",
       "    </tr>\n",
       "    <tr>\n",
       "      <th>9</th>\n",
       "      <td>Charlie</td>\n",
       "      <td>25.454545</td>\n",
       "      <td>Delhi</td>\n",
       "      <td>M</td>\n",
       "      <td>charlie@example</td>\n",
       "      <td>20-07-2021</td>\n",
       "    </tr>\n",
       "    <tr>\n",
       "      <th>10</th>\n",
       "      <td>Charlie</td>\n",
       "      <td>25.454545</td>\n",
       "      <td>Delhi</td>\n",
       "      <td>M</td>\n",
       "      <td>charlie@example</td>\n",
       "      <td>20-07-2021</td>\n",
       "    </tr>\n",
       "    <tr>\n",
       "      <th>11</th>\n",
       "      <td>David</td>\n",
       "      <td>22.000000</td>\n",
       "      <td>Mumbai</td>\n",
       "      <td>M</td>\n",
       "      <td>david@example.com</td>\n",
       "      <td>12-11-2019</td>\n",
       "    </tr>\n",
       "    <tr>\n",
       "      <th>12</th>\n",
       "      <td>25.454545</td>\n",
       "      <td>28.000000</td>\n",
       "      <td>Delhi</td>\n",
       "      <td>F</td>\n",
       "      <td>eve@domain.com</td>\n",
       "      <td>25.454545</td>\n",
       "    </tr>\n",
       "    <tr>\n",
       "      <th>13</th>\n",
       "      <td>Alice</td>\n",
       "      <td>25.000000</td>\n",
       "      <td>New York</td>\n",
       "      <td>F</td>\n",
       "      <td>alice@example.com</td>\n",
       "      <td>01-05-2021</td>\n",
       "    </tr>\n",
       "    <tr>\n",
       "      <th>14</th>\n",
       "      <td>Alice</td>\n",
       "      <td>25.000000</td>\n",
       "      <td>New York</td>\n",
       "      <td>F</td>\n",
       "      <td>alice@example.com</td>\n",
       "      <td>01-05-2021</td>\n",
       "    </tr>\n",
       "  </tbody>\n",
       "</table>\n",
       "</div>"
      ],
      "text/plain": [
       "         Name        Age         City Gender              Email   Join Date\n",
       "0       Alice  25.000000     New York      F  alice@example.com  01-05-2021\n",
       "1     Charlie  25.454545        Delhi      M    charlie@example  20-07-2021\n",
       "2       Alice  25.000000     New York      F  alice@example.com  01-05-2021\n",
       "3         Bob  30.000000  Los Angeles      M    bob@example.com  15-06-2020\n",
       "4     Charlie  25.454545        Delhi      M    charlie@example  20-07-2021\n",
       "5       David  22.000000       Mumbai      M  david@example.com  12-11-2019\n",
       "6   25.454545  28.000000        Delhi      F     eve@domain.com   25.454545\n",
       "7       Alice  25.000000     New York      F  alice@example.com  01-05-2021\n",
       "8       Alice  25.000000     New York      F  alice@example.com  01-05-2021\n",
       "9     Charlie  25.454545        Delhi      M    charlie@example  20-07-2021\n",
       "10    Charlie  25.454545        Delhi      M    charlie@example  20-07-2021\n",
       "11      David  22.000000       Mumbai      M  david@example.com  12-11-2019\n",
       "12  25.454545  28.000000        Delhi      F     eve@domain.com   25.454545\n",
       "13      Alice  25.000000     New York      F  alice@example.com  01-05-2021\n",
       "14      Alice  25.000000     New York      F  alice@example.com  01-05-2021"
      ]
     },
     "execution_count": 80,
     "metadata": {},
     "output_type": "execute_result"
    }
   ],
   "source": [
    "df.fillna(df[\"Age\"].mean())"
   ]
  },
  {
   "cell_type": "code",
   "execution_count": 81,
   "id": "f95401f3",
   "metadata": {},
   "outputs": [
    {
     "data": {
      "application/vnd.microsoft.datawrangler.viewer.v0+json": {
       "columns": [
        {
         "name": "index",
         "rawType": "int64",
         "type": "integer"
        },
        {
         "name": "Name",
         "rawType": "object",
         "type": "string"
        },
        {
         "name": "Age",
         "rawType": "float64",
         "type": "float"
        },
        {
         "name": "City",
         "rawType": "object",
         "type": "string"
        },
        {
         "name": "Gender",
         "rawType": "object",
         "type": "string"
        },
        {
         "name": "Email",
         "rawType": "object",
         "type": "string"
        },
        {
         "name": "Join Date",
         "rawType": "object",
         "type": "string"
        }
       ],
       "ref": "ac55f7d9-0794-45e1-9ee8-06434587e270",
       "rows": [
        [
         "0",
         "Alice",
         "25.0",
         "New York",
         "F",
         "alice@example.com",
         "01-05-2021"
        ],
        [
         "1",
         "Charlie",
         "25.0",
         "Delhi",
         "M",
         "charlie@example",
         "20-07-2021"
        ],
        [
         "2",
         "Alice",
         "25.0",
         "New York",
         "F",
         "alice@example.com",
         "01-05-2021"
        ],
        [
         "3",
         "Bob",
         "30.0",
         "Los Angeles",
         "M",
         "bob@example.com",
         "15-06-2020"
        ],
        [
         "4",
         "Charlie",
         "30.0",
         "Delhi",
         "M",
         "charlie@example",
         "20-07-2021"
        ],
        [
         "5",
         "David",
         "22.0",
         "Mumbai",
         "M",
         "david@example.com",
         "12-11-2019"
        ],
        [
         "6",
         "David",
         "28.0",
         "Delhi",
         "F",
         "eve@domain.com",
         "12-11-2019"
        ],
        [
         "7",
         "Alice",
         "25.0",
         "New York",
         "F",
         "alice@example.com",
         "01-05-2021"
        ],
        [
         "8",
         "Alice",
         "25.0",
         "New York",
         "F",
         "alice@example.com",
         "01-05-2021"
        ],
        [
         "9",
         "Charlie",
         "25.0",
         "Delhi",
         "M",
         "charlie@example",
         "20-07-2021"
        ],
        [
         "10",
         "Charlie",
         "25.0",
         "Delhi",
         "M",
         "charlie@example",
         "20-07-2021"
        ],
        [
         "11",
         "David",
         "22.0",
         "Mumbai",
         "M",
         "david@example.com",
         "12-11-2019"
        ],
        [
         "12",
         "David",
         "28.0",
         "Delhi",
         "F",
         "eve@domain.com",
         "12-11-2019"
        ],
        [
         "13",
         "Alice",
         "25.0",
         "New York",
         "F",
         "alice@example.com",
         "01-05-2021"
        ],
        [
         "14",
         "Alice",
         "25.0",
         "New York",
         "F",
         "alice@example.com",
         "01-05-2021"
        ]
       ],
       "shape": {
        "columns": 6,
        "rows": 15
       }
      },
      "text/html": [
       "<div>\n",
       "<style scoped>\n",
       "    .dataframe tbody tr th:only-of-type {\n",
       "        vertical-align: middle;\n",
       "    }\n",
       "\n",
       "    .dataframe tbody tr th {\n",
       "        vertical-align: top;\n",
       "    }\n",
       "\n",
       "    .dataframe thead th {\n",
       "        text-align: right;\n",
       "    }\n",
       "</style>\n",
       "<table border=\"1\" class=\"dataframe\">\n",
       "  <thead>\n",
       "    <tr style=\"text-align: right;\">\n",
       "      <th></th>\n",
       "      <th>Name</th>\n",
       "      <th>Age</th>\n",
       "      <th>City</th>\n",
       "      <th>Gender</th>\n",
       "      <th>Email</th>\n",
       "      <th>Join Date</th>\n",
       "    </tr>\n",
       "  </thead>\n",
       "  <tbody>\n",
       "    <tr>\n",
       "      <th>0</th>\n",
       "      <td>Alice</td>\n",
       "      <td>25.0</td>\n",
       "      <td>New York</td>\n",
       "      <td>F</td>\n",
       "      <td>alice@example.com</td>\n",
       "      <td>01-05-2021</td>\n",
       "    </tr>\n",
       "    <tr>\n",
       "      <th>1</th>\n",
       "      <td>Charlie</td>\n",
       "      <td>25.0</td>\n",
       "      <td>Delhi</td>\n",
       "      <td>M</td>\n",
       "      <td>charlie@example</td>\n",
       "      <td>20-07-2021</td>\n",
       "    </tr>\n",
       "    <tr>\n",
       "      <th>2</th>\n",
       "      <td>Alice</td>\n",
       "      <td>25.0</td>\n",
       "      <td>New York</td>\n",
       "      <td>F</td>\n",
       "      <td>alice@example.com</td>\n",
       "      <td>01-05-2021</td>\n",
       "    </tr>\n",
       "    <tr>\n",
       "      <th>3</th>\n",
       "      <td>Bob</td>\n",
       "      <td>30.0</td>\n",
       "      <td>Los Angeles</td>\n",
       "      <td>M</td>\n",
       "      <td>bob@example.com</td>\n",
       "      <td>15-06-2020</td>\n",
       "    </tr>\n",
       "    <tr>\n",
       "      <th>4</th>\n",
       "      <td>Charlie</td>\n",
       "      <td>30.0</td>\n",
       "      <td>Delhi</td>\n",
       "      <td>M</td>\n",
       "      <td>charlie@example</td>\n",
       "      <td>20-07-2021</td>\n",
       "    </tr>\n",
       "    <tr>\n",
       "      <th>5</th>\n",
       "      <td>David</td>\n",
       "      <td>22.0</td>\n",
       "      <td>Mumbai</td>\n",
       "      <td>M</td>\n",
       "      <td>david@example.com</td>\n",
       "      <td>12-11-2019</td>\n",
       "    </tr>\n",
       "    <tr>\n",
       "      <th>6</th>\n",
       "      <td>David</td>\n",
       "      <td>28.0</td>\n",
       "      <td>Delhi</td>\n",
       "      <td>F</td>\n",
       "      <td>eve@domain.com</td>\n",
       "      <td>12-11-2019</td>\n",
       "    </tr>\n",
       "    <tr>\n",
       "      <th>7</th>\n",
       "      <td>Alice</td>\n",
       "      <td>25.0</td>\n",
       "      <td>New York</td>\n",
       "      <td>F</td>\n",
       "      <td>alice@example.com</td>\n",
       "      <td>01-05-2021</td>\n",
       "    </tr>\n",
       "    <tr>\n",
       "      <th>8</th>\n",
       "      <td>Alice</td>\n",
       "      <td>25.0</td>\n",
       "      <td>New York</td>\n",
       "      <td>F</td>\n",
       "      <td>alice@example.com</td>\n",
       "      <td>01-05-2021</td>\n",
       "    </tr>\n",
       "    <tr>\n",
       "      <th>9</th>\n",
       "      <td>Charlie</td>\n",
       "      <td>25.0</td>\n",
       "      <td>Delhi</td>\n",
       "      <td>M</td>\n",
       "      <td>charlie@example</td>\n",
       "      <td>20-07-2021</td>\n",
       "    </tr>\n",
       "    <tr>\n",
       "      <th>10</th>\n",
       "      <td>Charlie</td>\n",
       "      <td>25.0</td>\n",
       "      <td>Delhi</td>\n",
       "      <td>M</td>\n",
       "      <td>charlie@example</td>\n",
       "      <td>20-07-2021</td>\n",
       "    </tr>\n",
       "    <tr>\n",
       "      <th>11</th>\n",
       "      <td>David</td>\n",
       "      <td>22.0</td>\n",
       "      <td>Mumbai</td>\n",
       "      <td>M</td>\n",
       "      <td>david@example.com</td>\n",
       "      <td>12-11-2019</td>\n",
       "    </tr>\n",
       "    <tr>\n",
       "      <th>12</th>\n",
       "      <td>David</td>\n",
       "      <td>28.0</td>\n",
       "      <td>Delhi</td>\n",
       "      <td>F</td>\n",
       "      <td>eve@domain.com</td>\n",
       "      <td>12-11-2019</td>\n",
       "    </tr>\n",
       "    <tr>\n",
       "      <th>13</th>\n",
       "      <td>Alice</td>\n",
       "      <td>25.0</td>\n",
       "      <td>New York</td>\n",
       "      <td>F</td>\n",
       "      <td>alice@example.com</td>\n",
       "      <td>01-05-2021</td>\n",
       "    </tr>\n",
       "    <tr>\n",
       "      <th>14</th>\n",
       "      <td>Alice</td>\n",
       "      <td>25.0</td>\n",
       "      <td>New York</td>\n",
       "      <td>F</td>\n",
       "      <td>alice@example.com</td>\n",
       "      <td>01-05-2021</td>\n",
       "    </tr>\n",
       "  </tbody>\n",
       "</table>\n",
       "</div>"
      ],
      "text/plain": [
       "       Name   Age         City Gender              Email   Join Date\n",
       "0     Alice  25.0     New York      F  alice@example.com  01-05-2021\n",
       "1   Charlie  25.0        Delhi      M    charlie@example  20-07-2021\n",
       "2     Alice  25.0     New York      F  alice@example.com  01-05-2021\n",
       "3       Bob  30.0  Los Angeles      M    bob@example.com  15-06-2020\n",
       "4   Charlie  30.0        Delhi      M    charlie@example  20-07-2021\n",
       "5     David  22.0       Mumbai      M  david@example.com  12-11-2019\n",
       "6     David  28.0        Delhi      F     eve@domain.com  12-11-2019\n",
       "7     Alice  25.0     New York      F  alice@example.com  01-05-2021\n",
       "8     Alice  25.0     New York      F  alice@example.com  01-05-2021\n",
       "9   Charlie  25.0        Delhi      M    charlie@example  20-07-2021\n",
       "10  Charlie  25.0        Delhi      M    charlie@example  20-07-2021\n",
       "11    David  22.0       Mumbai      M  david@example.com  12-11-2019\n",
       "12    David  28.0        Delhi      F     eve@domain.com  12-11-2019\n",
       "13    Alice  25.0     New York      F  alice@example.com  01-05-2021\n",
       "14    Alice  25.0     New York      F  alice@example.com  01-05-2021"
      ]
     },
     "execution_count": 81,
     "metadata": {},
     "output_type": "execute_result"
    }
   ],
   "source": [
    "# df.fillna(method=\"ffill\")\n",
    "#or\n",
    "df.ffill()"
   ]
  },
  {
   "cell_type": "code",
   "execution_count": 82,
   "id": "1d24b42d",
   "metadata": {},
   "outputs": [
    {
     "data": {
      "application/vnd.microsoft.datawrangler.viewer.v0+json": {
       "columns": [
        {
         "name": "index",
         "rawType": "int64",
         "type": "integer"
        },
        {
         "name": "Name",
         "rawType": "object",
         "type": "string"
        },
        {
         "name": "Age",
         "rawType": "float64",
         "type": "float"
        },
        {
         "name": "City",
         "rawType": "object",
         "type": "string"
        },
        {
         "name": "Gender",
         "rawType": "object",
         "type": "string"
        },
        {
         "name": "Email",
         "rawType": "object",
         "type": "string"
        },
        {
         "name": "Join Date",
         "rawType": "object",
         "type": "string"
        }
       ],
       "ref": "d107fe28-945a-4903-ba52-f5c93ff901f2",
       "rows": [
        [
         "0",
         "Alice",
         "25.0",
         "New York",
         "F",
         "alice@example.com",
         "01-05-2021"
        ],
        [
         "1",
         "Charlie",
         "25.0",
         "Delhi",
         "M",
         "charlie@example",
         "20-07-2021"
        ],
        [
         "2",
         "Alice",
         "25.0",
         "New York",
         "F",
         "alice@example.com",
         "01-05-2021"
        ],
        [
         "3",
         "Bob",
         "30.0",
         "Los Angeles",
         "M",
         "bob@example.com",
         "15-06-2020"
        ],
        [
         "4",
         "Charlie",
         "22.0",
         "Delhi",
         "M",
         "charlie@example",
         "20-07-2021"
        ],
        [
         "5",
         "David",
         "22.0",
         "Mumbai",
         "M",
         "david@example.com",
         "12-11-2019"
        ],
        [
         "6",
         "Alice",
         "28.0",
         "Delhi",
         "F",
         "eve@domain.com",
         "01-05-2021"
        ],
        [
         "7",
         "Alice",
         "25.0",
         "New York",
         "F",
         "alice@example.com",
         "01-05-2021"
        ],
        [
         "8",
         "Alice",
         "25.0",
         "New York",
         "F",
         "alice@example.com",
         "01-05-2021"
        ],
        [
         "9",
         "Charlie",
         "22.0",
         "Delhi",
         "M",
         "charlie@example",
         "20-07-2021"
        ],
        [
         "10",
         "Charlie",
         "22.0",
         "Delhi",
         "M",
         "charlie@example",
         "20-07-2021"
        ],
        [
         "11",
         "David",
         "22.0",
         "Mumbai",
         "M",
         "david@example.com",
         "12-11-2019"
        ],
        [
         "12",
         "Alice",
         "28.0",
         "Delhi",
         "F",
         "eve@domain.com",
         "01-05-2021"
        ],
        [
         "13",
         "Alice",
         "25.0",
         "New York",
         "F",
         "alice@example.com",
         "01-05-2021"
        ],
        [
         "14",
         "Alice",
         "25.0",
         "New York",
         "F",
         "alice@example.com",
         "01-05-2021"
        ]
       ],
       "shape": {
        "columns": 6,
        "rows": 15
       }
      },
      "text/html": [
       "<div>\n",
       "<style scoped>\n",
       "    .dataframe tbody tr th:only-of-type {\n",
       "        vertical-align: middle;\n",
       "    }\n",
       "\n",
       "    .dataframe tbody tr th {\n",
       "        vertical-align: top;\n",
       "    }\n",
       "\n",
       "    .dataframe thead th {\n",
       "        text-align: right;\n",
       "    }\n",
       "</style>\n",
       "<table border=\"1\" class=\"dataframe\">\n",
       "  <thead>\n",
       "    <tr style=\"text-align: right;\">\n",
       "      <th></th>\n",
       "      <th>Name</th>\n",
       "      <th>Age</th>\n",
       "      <th>City</th>\n",
       "      <th>Gender</th>\n",
       "      <th>Email</th>\n",
       "      <th>Join Date</th>\n",
       "    </tr>\n",
       "  </thead>\n",
       "  <tbody>\n",
       "    <tr>\n",
       "      <th>0</th>\n",
       "      <td>Alice</td>\n",
       "      <td>25.0</td>\n",
       "      <td>New York</td>\n",
       "      <td>F</td>\n",
       "      <td>alice@example.com</td>\n",
       "      <td>01-05-2021</td>\n",
       "    </tr>\n",
       "    <tr>\n",
       "      <th>1</th>\n",
       "      <td>Charlie</td>\n",
       "      <td>25.0</td>\n",
       "      <td>Delhi</td>\n",
       "      <td>M</td>\n",
       "      <td>charlie@example</td>\n",
       "      <td>20-07-2021</td>\n",
       "    </tr>\n",
       "    <tr>\n",
       "      <th>2</th>\n",
       "      <td>Alice</td>\n",
       "      <td>25.0</td>\n",
       "      <td>New York</td>\n",
       "      <td>F</td>\n",
       "      <td>alice@example.com</td>\n",
       "      <td>01-05-2021</td>\n",
       "    </tr>\n",
       "    <tr>\n",
       "      <th>3</th>\n",
       "      <td>Bob</td>\n",
       "      <td>30.0</td>\n",
       "      <td>Los Angeles</td>\n",
       "      <td>M</td>\n",
       "      <td>bob@example.com</td>\n",
       "      <td>15-06-2020</td>\n",
       "    </tr>\n",
       "    <tr>\n",
       "      <th>4</th>\n",
       "      <td>Charlie</td>\n",
       "      <td>22.0</td>\n",
       "      <td>Delhi</td>\n",
       "      <td>M</td>\n",
       "      <td>charlie@example</td>\n",
       "      <td>20-07-2021</td>\n",
       "    </tr>\n",
       "    <tr>\n",
       "      <th>5</th>\n",
       "      <td>David</td>\n",
       "      <td>22.0</td>\n",
       "      <td>Mumbai</td>\n",
       "      <td>M</td>\n",
       "      <td>david@example.com</td>\n",
       "      <td>12-11-2019</td>\n",
       "    </tr>\n",
       "    <tr>\n",
       "      <th>6</th>\n",
       "      <td>Alice</td>\n",
       "      <td>28.0</td>\n",
       "      <td>Delhi</td>\n",
       "      <td>F</td>\n",
       "      <td>eve@domain.com</td>\n",
       "      <td>01-05-2021</td>\n",
       "    </tr>\n",
       "    <tr>\n",
       "      <th>7</th>\n",
       "      <td>Alice</td>\n",
       "      <td>25.0</td>\n",
       "      <td>New York</td>\n",
       "      <td>F</td>\n",
       "      <td>alice@example.com</td>\n",
       "      <td>01-05-2021</td>\n",
       "    </tr>\n",
       "    <tr>\n",
       "      <th>8</th>\n",
       "      <td>Alice</td>\n",
       "      <td>25.0</td>\n",
       "      <td>New York</td>\n",
       "      <td>F</td>\n",
       "      <td>alice@example.com</td>\n",
       "      <td>01-05-2021</td>\n",
       "    </tr>\n",
       "    <tr>\n",
       "      <th>9</th>\n",
       "      <td>Charlie</td>\n",
       "      <td>22.0</td>\n",
       "      <td>Delhi</td>\n",
       "      <td>M</td>\n",
       "      <td>charlie@example</td>\n",
       "      <td>20-07-2021</td>\n",
       "    </tr>\n",
       "    <tr>\n",
       "      <th>10</th>\n",
       "      <td>Charlie</td>\n",
       "      <td>22.0</td>\n",
       "      <td>Delhi</td>\n",
       "      <td>M</td>\n",
       "      <td>charlie@example</td>\n",
       "      <td>20-07-2021</td>\n",
       "    </tr>\n",
       "    <tr>\n",
       "      <th>11</th>\n",
       "      <td>David</td>\n",
       "      <td>22.0</td>\n",
       "      <td>Mumbai</td>\n",
       "      <td>M</td>\n",
       "      <td>david@example.com</td>\n",
       "      <td>12-11-2019</td>\n",
       "    </tr>\n",
       "    <tr>\n",
       "      <th>12</th>\n",
       "      <td>Alice</td>\n",
       "      <td>28.0</td>\n",
       "      <td>Delhi</td>\n",
       "      <td>F</td>\n",
       "      <td>eve@domain.com</td>\n",
       "      <td>01-05-2021</td>\n",
       "    </tr>\n",
       "    <tr>\n",
       "      <th>13</th>\n",
       "      <td>Alice</td>\n",
       "      <td>25.0</td>\n",
       "      <td>New York</td>\n",
       "      <td>F</td>\n",
       "      <td>alice@example.com</td>\n",
       "      <td>01-05-2021</td>\n",
       "    </tr>\n",
       "    <tr>\n",
       "      <th>14</th>\n",
       "      <td>Alice</td>\n",
       "      <td>25.0</td>\n",
       "      <td>New York</td>\n",
       "      <td>F</td>\n",
       "      <td>alice@example.com</td>\n",
       "      <td>01-05-2021</td>\n",
       "    </tr>\n",
       "  </tbody>\n",
       "</table>\n",
       "</div>"
      ],
      "text/plain": [
       "       Name   Age         City Gender              Email   Join Date\n",
       "0     Alice  25.0     New York      F  alice@example.com  01-05-2021\n",
       "1   Charlie  25.0        Delhi      M    charlie@example  20-07-2021\n",
       "2     Alice  25.0     New York      F  alice@example.com  01-05-2021\n",
       "3       Bob  30.0  Los Angeles      M    bob@example.com  15-06-2020\n",
       "4   Charlie  22.0        Delhi      M    charlie@example  20-07-2021\n",
       "5     David  22.0       Mumbai      M  david@example.com  12-11-2019\n",
       "6     Alice  28.0        Delhi      F     eve@domain.com  01-05-2021\n",
       "7     Alice  25.0     New York      F  alice@example.com  01-05-2021\n",
       "8     Alice  25.0     New York      F  alice@example.com  01-05-2021\n",
       "9   Charlie  22.0        Delhi      M    charlie@example  20-07-2021\n",
       "10  Charlie  22.0        Delhi      M    charlie@example  20-07-2021\n",
       "11    David  22.0       Mumbai      M  david@example.com  12-11-2019\n",
       "12    Alice  28.0        Delhi      F     eve@domain.com  01-05-2021\n",
       "13    Alice  25.0     New York      F  alice@example.com  01-05-2021\n",
       "14    Alice  25.0     New York      F  alice@example.com  01-05-2021"
      ]
     },
     "execution_count": 82,
     "metadata": {},
     "output_type": "execute_result"
    }
   ],
   "source": [
    "# df.fillna(method=\"bfill\")\n",
    "# or\n",
    "df.bfill()"
   ]
  },
  {
   "cell_type": "code",
   "execution_count": 83,
   "id": "2462d13b",
   "metadata": {},
   "outputs": [
    {
     "data": {
      "application/vnd.microsoft.datawrangler.viewer.v0+json": {
       "columns": [
        {
         "name": "index",
         "rawType": "int64",
         "type": "integer"
        },
        {
         "name": "0",
         "rawType": "bool",
         "type": "boolean"
        }
       ],
       "ref": "29c2c342-c1a0-45e0-b45f-d00d44017e9c",
       "rows": [
        [
         "0",
         "False"
        ],
        [
         "1",
         "False"
        ],
        [
         "2",
         "True"
        ],
        [
         "3",
         "False"
        ],
        [
         "4",
         "True"
        ],
        [
         "5",
         "False"
        ],
        [
         "6",
         "False"
        ],
        [
         "7",
         "True"
        ],
        [
         "8",
         "True"
        ],
        [
         "9",
         "True"
        ],
        [
         "10",
         "True"
        ],
        [
         "11",
         "True"
        ],
        [
         "12",
         "True"
        ],
        [
         "13",
         "True"
        ],
        [
         "14",
         "True"
        ]
       ],
       "shape": {
        "columns": 1,
        "rows": 15
       }
      },
      "text/plain": [
       "0     False\n",
       "1     False\n",
       "2      True\n",
       "3     False\n",
       "4      True\n",
       "5     False\n",
       "6     False\n",
       "7      True\n",
       "8      True\n",
       "9      True\n",
       "10     True\n",
       "11     True\n",
       "12     True\n",
       "13     True\n",
       "14     True\n",
       "dtype: bool"
      ]
     },
     "execution_count": 83,
     "metadata": {},
     "output_type": "execute_result"
    }
   ],
   "source": [
    "df.duplicated()"
   ]
  },
  {
   "cell_type": "code",
   "execution_count": 84,
   "id": "b54c510f",
   "metadata": {},
   "outputs": [
    {
     "data": {
      "application/vnd.microsoft.datawrangler.viewer.v0+json": {
       "columns": [
        {
         "name": "index",
         "rawType": "int64",
         "type": "integer"
        },
        {
         "name": "Name",
         "rawType": "object",
         "type": "unknown"
        },
        {
         "name": "Age",
         "rawType": "float64",
         "type": "float"
        },
        {
         "name": "City",
         "rawType": "object",
         "type": "string"
        },
        {
         "name": "Gender",
         "rawType": "object",
         "type": "string"
        },
        {
         "name": "Email",
         "rawType": "object",
         "type": "string"
        },
        {
         "name": "Join Date",
         "rawType": "object",
         "type": "unknown"
        }
       ],
       "ref": "83245b76-a5ac-461a-af55-9ab963744f16",
       "rows": [
        [
         "0",
         "Alice",
         "25.0",
         "New York",
         "F",
         "alice@example.com",
         "01-05-2021"
        ],
        [
         "1",
         "Charlie",
         null,
         "Delhi",
         "M",
         "charlie@example",
         "20-07-2021"
        ],
        [
         "3",
         "Bob",
         "30.0",
         "Los Angeles",
         "M",
         "bob@example.com",
         "15-06-2020"
        ],
        [
         "5",
         "David",
         "22.0",
         "Mumbai",
         "M",
         "david@example.com",
         "12-11-2019"
        ],
        [
         "6",
         null,
         "28.0",
         "Delhi",
         "F",
         "eve@domain.com",
         null
        ]
       ],
       "shape": {
        "columns": 6,
        "rows": 5
       }
      },
      "text/html": [
       "<div>\n",
       "<style scoped>\n",
       "    .dataframe tbody tr th:only-of-type {\n",
       "        vertical-align: middle;\n",
       "    }\n",
       "\n",
       "    .dataframe tbody tr th {\n",
       "        vertical-align: top;\n",
       "    }\n",
       "\n",
       "    .dataframe thead th {\n",
       "        text-align: right;\n",
       "    }\n",
       "</style>\n",
       "<table border=\"1\" class=\"dataframe\">\n",
       "  <thead>\n",
       "    <tr style=\"text-align: right;\">\n",
       "      <th></th>\n",
       "      <th>Name</th>\n",
       "      <th>Age</th>\n",
       "      <th>City</th>\n",
       "      <th>Gender</th>\n",
       "      <th>Email</th>\n",
       "      <th>Join Date</th>\n",
       "    </tr>\n",
       "  </thead>\n",
       "  <tbody>\n",
       "    <tr>\n",
       "      <th>0</th>\n",
       "      <td>Alice</td>\n",
       "      <td>25.0</td>\n",
       "      <td>New York</td>\n",
       "      <td>F</td>\n",
       "      <td>alice@example.com</td>\n",
       "      <td>01-05-2021</td>\n",
       "    </tr>\n",
       "    <tr>\n",
       "      <th>1</th>\n",
       "      <td>Charlie</td>\n",
       "      <td>NaN</td>\n",
       "      <td>Delhi</td>\n",
       "      <td>M</td>\n",
       "      <td>charlie@example</td>\n",
       "      <td>20-07-2021</td>\n",
       "    </tr>\n",
       "    <tr>\n",
       "      <th>3</th>\n",
       "      <td>Bob</td>\n",
       "      <td>30.0</td>\n",
       "      <td>Los Angeles</td>\n",
       "      <td>M</td>\n",
       "      <td>bob@example.com</td>\n",
       "      <td>15-06-2020</td>\n",
       "    </tr>\n",
       "    <tr>\n",
       "      <th>5</th>\n",
       "      <td>David</td>\n",
       "      <td>22.0</td>\n",
       "      <td>Mumbai</td>\n",
       "      <td>M</td>\n",
       "      <td>david@example.com</td>\n",
       "      <td>12-11-2019</td>\n",
       "    </tr>\n",
       "    <tr>\n",
       "      <th>6</th>\n",
       "      <td>NaN</td>\n",
       "      <td>28.0</td>\n",
       "      <td>Delhi</td>\n",
       "      <td>F</td>\n",
       "      <td>eve@domain.com</td>\n",
       "      <td>NaN</td>\n",
       "    </tr>\n",
       "  </tbody>\n",
       "</table>\n",
       "</div>"
      ],
      "text/plain": [
       "      Name   Age         City Gender              Email   Join Date\n",
       "0    Alice  25.0     New York      F  alice@example.com  01-05-2021\n",
       "1  Charlie   NaN        Delhi      M    charlie@example  20-07-2021\n",
       "3      Bob  30.0  Los Angeles      M    bob@example.com  15-06-2020\n",
       "5    David  22.0       Mumbai      M  david@example.com  12-11-2019\n",
       "6      NaN  28.0        Delhi      F     eve@domain.com         NaN"
      ]
     },
     "execution_count": 84,
     "metadata": {},
     "output_type": "execute_result"
    }
   ],
   "source": [
    "df.drop_duplicates()"
   ]
  },
  {
   "cell_type": "code",
   "execution_count": 85,
   "id": "1b2b96fe",
   "metadata": {},
   "outputs": [
    {
     "data": {
      "application/vnd.microsoft.datawrangler.viewer.v0+json": {
       "columns": [
        {
         "name": "index",
         "rawType": "int64",
         "type": "integer"
        },
        {
         "name": "Name",
         "rawType": "object",
         "type": "unknown"
        }
       ],
       "ref": "6bcc76ba-9a78-4ff1-9e0e-77d2135d71de",
       "rows": [
        [
         "0",
         "alice"
        ],
        [
         "1",
         "charlie"
        ],
        [
         "2",
         "alice"
        ],
        [
         "3",
         "bob"
        ],
        [
         "4",
         "charlie"
        ],
        [
         "5",
         "david"
        ],
        [
         "6",
         null
        ],
        [
         "7",
         "alice"
        ],
        [
         "8",
         "alice"
        ],
        [
         "9",
         "charlie"
        ],
        [
         "10",
         "charlie"
        ],
        [
         "11",
         "david"
        ],
        [
         "12",
         null
        ],
        [
         "13",
         "alice"
        ],
        [
         "14",
         "alice"
        ]
       ],
       "shape": {
        "columns": 1,
        "rows": 15
       }
      },
      "text/plain": [
       "0       alice\n",
       "1     charlie\n",
       "2       alice\n",
       "3         bob\n",
       "4     charlie\n",
       "5       david\n",
       "6         NaN\n",
       "7       alice\n",
       "8       alice\n",
       "9     charlie\n",
       "10    charlie\n",
       "11      david\n",
       "12        NaN\n",
       "13      alice\n",
       "14      alice\n",
       "Name: Name, dtype: object"
      ]
     },
     "execution_count": 85,
     "metadata": {},
     "output_type": "execute_result"
    }
   ],
   "source": [
    "df[\"Name\"].str.lower() # Converts all names to lowercase."
   ]
  },
  {
   "cell_type": "code",
   "execution_count": 86,
   "id": "94ab3126",
   "metadata": {},
   "outputs": [
    {
     "name": "stdout",
     "output_type": "stream",
     "text": [
      "<class 'pandas.core.series.Series'>\n"
     ]
    },
    {
     "data": {
      "application/vnd.microsoft.datawrangler.viewer.v0+json": {
       "columns": [
        {
         "name": "index",
         "rawType": "int64",
         "type": "integer"
        },
        {
         "name": "City",
         "rawType": "bool",
         "type": "boolean"
        }
       ],
       "ref": "7f4b4d0a-a722-46f4-b8ec-a62b18e21b5c",
       "rows": [
        [
         "0",
         "False"
        ],
        [
         "1",
         "True"
        ],
        [
         "2",
         "False"
        ],
        [
         "3",
         "False"
        ],
        [
         "4",
         "True"
        ],
        [
         "5",
         "False"
        ],
        [
         "6",
         "True"
        ],
        [
         "7",
         "False"
        ],
        [
         "8",
         "False"
        ],
        [
         "9",
         "True"
        ],
        [
         "10",
         "True"
        ],
        [
         "11",
         "False"
        ],
        [
         "12",
         "True"
        ],
        [
         "13",
         "False"
        ],
        [
         "14",
         "False"
        ]
       ],
       "shape": {
        "columns": 1,
        "rows": 15
       }
      },
      "text/plain": [
       "0     False\n",
       "1      True\n",
       "2     False\n",
       "3     False\n",
       "4      True\n",
       "5     False\n",
       "6      True\n",
       "7     False\n",
       "8     False\n",
       "9      True\n",
       "10     True\n",
       "11    False\n",
       "12     True\n",
       "13    False\n",
       "14    False\n",
       "Name: City, dtype: bool"
      ]
     },
     "execution_count": 86,
     "metadata": {},
     "output_type": "execute_result"
    }
   ],
   "source": [
    "a=df[\"City\"].str.contains(\"delhi\", case=False) # Checks if 'delhi' is in the city name, case-insensitive.\n",
    "print(type(a))\n",
    "a"
   ]
  },
  {
   "cell_type": "code",
   "execution_count": 87,
   "id": "96e56837",
   "metadata": {},
   "outputs": [
    {
     "data": {
      "application/vnd.microsoft.datawrangler.viewer.v0+json": {
       "columns": [
        {
         "name": "index",
         "rawType": "int64",
         "type": "integer"
        },
        {
         "name": "Email",
         "rawType": "object",
         "type": "unknown"
        }
       ],
       "ref": "7ce7b3c8-d930-4c6e-89f4-e0bb28a3ff8e",
       "rows": [
        [
         "0",
         "['alice', 'example.com']"
        ],
        [
         "1",
         "['charlie', 'example']"
        ],
        [
         "2",
         "['alice', 'example.com']"
        ],
        [
         "3",
         "['bob', 'example.com']"
        ],
        [
         "4",
         "['charlie', 'example']"
        ],
        [
         "5",
         "['david', 'example.com']"
        ],
        [
         "6",
         "['eve', 'domain.com']"
        ],
        [
         "7",
         "['alice', 'example.com']"
        ],
        [
         "8",
         "['alice', 'example.com']"
        ],
        [
         "9",
         "['charlie', 'example']"
        ],
        [
         "10",
         "['charlie', 'example']"
        ],
        [
         "11",
         "['david', 'example.com']"
        ],
        [
         "12",
         "['eve', 'domain.com']"
        ],
        [
         "13",
         "['alice', 'example.com']"
        ],
        [
         "14",
         "['alice', 'example.com']"
        ]
       ],
       "shape": {
        "columns": 1,
        "rows": 15
       }
      },
      "text/plain": [
       "0     [alice, example.com]\n",
       "1       [charlie, example]\n",
       "2     [alice, example.com]\n",
       "3       [bob, example.com]\n",
       "4       [charlie, example]\n",
       "5     [david, example.com]\n",
       "6        [eve, domain.com]\n",
       "7     [alice, example.com]\n",
       "8     [alice, example.com]\n",
       "9       [charlie, example]\n",
       "10      [charlie, example]\n",
       "11    [david, example.com]\n",
       "12       [eve, domain.com]\n",
       "13    [alice, example.com]\n",
       "14    [alice, example.com]\n",
       "Name: Email, dtype: object"
      ]
     },
     "execution_count": 87,
     "metadata": {},
     "output_type": "execute_result"
    }
   ],
   "source": [
    "df[\"Email\"].str.split(\"@\") # Outputs a pandas Series where each element is a list of strings (the split parts). This is where a Python list comes into play, but the outer object is still a pandas Series."
   ]
  },
  {
   "cell_type": "code",
   "execution_count": 88,
   "id": "51c75dc2",
   "metadata": {},
   "outputs": [
    {
     "data": {
      "application/vnd.microsoft.datawrangler.viewer.v0+json": {
       "columns": [
        {
         "name": "index",
         "rawType": "int64",
         "type": "integer"
        },
        {
         "name": "Name",
         "rawType": "object",
         "type": "string"
        },
        {
         "name": "Age",
         "rawType": "int64",
         "type": "integer"
        },
        {
         "name": "City",
         "rawType": "object",
         "type": "string"
        },
        {
         "name": "Gender",
         "rawType": "object",
         "type": "string"
        },
        {
         "name": "Email",
         "rawType": "object",
         "type": "string"
        },
        {
         "name": "Join Date",
         "rawType": "object",
         "type": "string"
        }
       ],
       "ref": "65f8744c-f8a2-429f-8f04-6402ef7529e7",
       "rows": [
        [
         "0",
         "Alice",
         "25",
         "New York",
         "F",
         "alice@example.com",
         "01-05-2021"
        ],
        [
         "2",
         "Alice",
         "25",
         "New York",
         "F",
         "alice@example.com",
         "01-05-2021"
        ],
        [
         "3",
         "Bob",
         "30",
         "Los Angeles",
         "M",
         "bob@example.com",
         "15-06-2020"
        ],
        [
         "5",
         "David",
         "22",
         "Mumbai",
         "M",
         "david@example.com",
         "12-11-2019"
        ],
        [
         "7",
         "Alice",
         "25",
         "New York",
         "F",
         "alice@example.com",
         "01-05-2021"
        ],
        [
         "8",
         "Alice",
         "25",
         "New York",
         "F",
         "alice@example.com",
         "01-05-2021"
        ],
        [
         "11",
         "David",
         "22",
         "Mumbai",
         "M",
         "david@example.com",
         "12-11-2019"
        ],
        [
         "13",
         "Alice",
         "25",
         "New York",
         "F",
         "alice@example.com",
         "01-05-2021"
        ],
        [
         "14",
         "Alice",
         "25",
         "New York",
         "F",
         "alice@example.com",
         "01-05-2021"
        ]
       ],
       "shape": {
        "columns": 6,
        "rows": 9
       }
      },
      "text/html": [
       "<div>\n",
       "<style scoped>\n",
       "    .dataframe tbody tr th:only-of-type {\n",
       "        vertical-align: middle;\n",
       "    }\n",
       "\n",
       "    .dataframe tbody tr th {\n",
       "        vertical-align: top;\n",
       "    }\n",
       "\n",
       "    .dataframe thead th {\n",
       "        text-align: right;\n",
       "    }\n",
       "</style>\n",
       "<table border=\"1\" class=\"dataframe\">\n",
       "  <thead>\n",
       "    <tr style=\"text-align: right;\">\n",
       "      <th></th>\n",
       "      <th>Name</th>\n",
       "      <th>Age</th>\n",
       "      <th>City</th>\n",
       "      <th>Gender</th>\n",
       "      <th>Email</th>\n",
       "      <th>Join Date</th>\n",
       "    </tr>\n",
       "  </thead>\n",
       "  <tbody>\n",
       "    <tr>\n",
       "      <th>0</th>\n",
       "      <td>Alice</td>\n",
       "      <td>25</td>\n",
       "      <td>New York</td>\n",
       "      <td>F</td>\n",
       "      <td>alice@example.com</td>\n",
       "      <td>01-05-2021</td>\n",
       "    </tr>\n",
       "    <tr>\n",
       "      <th>2</th>\n",
       "      <td>Alice</td>\n",
       "      <td>25</td>\n",
       "      <td>New York</td>\n",
       "      <td>F</td>\n",
       "      <td>alice@example.com</td>\n",
       "      <td>01-05-2021</td>\n",
       "    </tr>\n",
       "    <tr>\n",
       "      <th>3</th>\n",
       "      <td>Bob</td>\n",
       "      <td>30</td>\n",
       "      <td>Los Angeles</td>\n",
       "      <td>M</td>\n",
       "      <td>bob@example.com</td>\n",
       "      <td>15-06-2020</td>\n",
       "    </tr>\n",
       "    <tr>\n",
       "      <th>5</th>\n",
       "      <td>David</td>\n",
       "      <td>22</td>\n",
       "      <td>Mumbai</td>\n",
       "      <td>M</td>\n",
       "      <td>david@example.com</td>\n",
       "      <td>12-11-2019</td>\n",
       "    </tr>\n",
       "    <tr>\n",
       "      <th>7</th>\n",
       "      <td>Alice</td>\n",
       "      <td>25</td>\n",
       "      <td>New York</td>\n",
       "      <td>F</td>\n",
       "      <td>alice@example.com</td>\n",
       "      <td>01-05-2021</td>\n",
       "    </tr>\n",
       "    <tr>\n",
       "      <th>8</th>\n",
       "      <td>Alice</td>\n",
       "      <td>25</td>\n",
       "      <td>New York</td>\n",
       "      <td>F</td>\n",
       "      <td>alice@example.com</td>\n",
       "      <td>01-05-2021</td>\n",
       "    </tr>\n",
       "    <tr>\n",
       "      <th>11</th>\n",
       "      <td>David</td>\n",
       "      <td>22</td>\n",
       "      <td>Mumbai</td>\n",
       "      <td>M</td>\n",
       "      <td>david@example.com</td>\n",
       "      <td>12-11-2019</td>\n",
       "    </tr>\n",
       "    <tr>\n",
       "      <th>13</th>\n",
       "      <td>Alice</td>\n",
       "      <td>25</td>\n",
       "      <td>New York</td>\n",
       "      <td>F</td>\n",
       "      <td>alice@example.com</td>\n",
       "      <td>01-05-2021</td>\n",
       "    </tr>\n",
       "    <tr>\n",
       "      <th>14</th>\n",
       "      <td>Alice</td>\n",
       "      <td>25</td>\n",
       "      <td>New York</td>\n",
       "      <td>F</td>\n",
       "      <td>alice@example.com</td>\n",
       "      <td>01-05-2021</td>\n",
       "    </tr>\n",
       "  </tbody>\n",
       "</table>\n",
       "</div>"
      ],
      "text/plain": [
       "     Name  Age         City Gender              Email   Join Date\n",
       "0   Alice   25     New York      F  alice@example.com  01-05-2021\n",
       "2   Alice   25     New York      F  alice@example.com  01-05-2021\n",
       "3     Bob   30  Los Angeles      M    bob@example.com  15-06-2020\n",
       "5   David   22       Mumbai      M  david@example.com  12-11-2019\n",
       "7   Alice   25     New York      F  alice@example.com  01-05-2021\n",
       "8   Alice   25     New York      F  alice@example.com  01-05-2021\n",
       "11  David   22       Mumbai      M  david@example.com  12-11-2019\n",
       "13  Alice   25     New York      F  alice@example.com  01-05-2021\n",
       "14  Alice   25     New York      F  alice@example.com  01-05-2021"
      ]
     },
     "execution_count": 88,
     "metadata": {},
     "output_type": "execute_result"
    }
   ],
   "source": [
    "df2=df.dropna().copy()\n",
    "df2[\"Age\"]=df2[\"Age\"].astype(int)\n",
    "df2"
   ]
  },
  {
   "cell_type": "code",
   "execution_count": 89,
   "id": "4f9dd5b1",
   "metadata": {},
   "outputs": [
    {
     "data": {
      "application/vnd.microsoft.datawrangler.viewer.v0+json": {
       "columns": [
        {
         "name": "index",
         "rawType": "int64",
         "type": "integer"
        },
        {
         "name": "Name",
         "rawType": "object",
         "type": "unknown"
        },
        {
         "name": "Age",
         "rawType": "float64",
         "type": "float"
        },
        {
         "name": "City",
         "rawType": "object",
         "type": "string"
        },
        {
         "name": "Gender",
         "rawType": "object",
         "type": "string"
        },
        {
         "name": "Email",
         "rawType": "object",
         "type": "string"
        },
        {
         "name": "Join Date",
         "rawType": "object",
         "type": "unknown"
        },
        {
         "name": "Age Group",
         "rawType": "object",
         "type": "string"
        }
       ],
       "ref": "ba61f17d-670a-4479-8f38-f881b1e48fec",
       "rows": [
        [
         "0",
         "Alice",
         "25.0",
         "New York",
         "F",
         "alice@example.com",
         "01-05-2021",
         "Adult"
        ],
        [
         "1",
         "Charlie",
         null,
         "Delhi",
         "M",
         "charlie@example",
         "20-07-2021",
         "Minor"
        ],
        [
         "2",
         "Alice",
         "25.0",
         "New York",
         "F",
         "alice@example.com",
         "01-05-2021",
         "Adult"
        ],
        [
         "3",
         "Bob",
         "30.0",
         "Los Angeles",
         "M",
         "bob@example.com",
         "15-06-2020",
         "Adult"
        ],
        [
         "4",
         "Charlie",
         null,
         "Delhi",
         "M",
         "charlie@example",
         "20-07-2021",
         "Minor"
        ],
        [
         "5",
         "David",
         "22.0",
         "Mumbai",
         "M",
         "david@example.com",
         "12-11-2019",
         "Adult"
        ],
        [
         "6",
         null,
         "28.0",
         "Delhi",
         "F",
         "eve@domain.com",
         null,
         "Adult"
        ],
        [
         "7",
         "Alice",
         "25.0",
         "New York",
         "F",
         "alice@example.com",
         "01-05-2021",
         "Adult"
        ],
        [
         "8",
         "Alice",
         "25.0",
         "New York",
         "F",
         "alice@example.com",
         "01-05-2021",
         "Adult"
        ],
        [
         "9",
         "Charlie",
         null,
         "Delhi",
         "M",
         "charlie@example",
         "20-07-2021",
         "Minor"
        ],
        [
         "10",
         "Charlie",
         null,
         "Delhi",
         "M",
         "charlie@example",
         "20-07-2021",
         "Minor"
        ],
        [
         "11",
         "David",
         "22.0",
         "Mumbai",
         "M",
         "david@example.com",
         "12-11-2019",
         "Adult"
        ],
        [
         "12",
         null,
         "28.0",
         "Delhi",
         "F",
         "eve@domain.com",
         null,
         "Adult"
        ],
        [
         "13",
         "Alice",
         "25.0",
         "New York",
         "F",
         "alice@example.com",
         "01-05-2021",
         "Adult"
        ],
        [
         "14",
         "Alice",
         "25.0",
         "New York",
         "F",
         "alice@example.com",
         "01-05-2021",
         "Adult"
        ]
       ],
       "shape": {
        "columns": 7,
        "rows": 15
       }
      },
      "text/html": [
       "<div>\n",
       "<style scoped>\n",
       "    .dataframe tbody tr th:only-of-type {\n",
       "        vertical-align: middle;\n",
       "    }\n",
       "\n",
       "    .dataframe tbody tr th {\n",
       "        vertical-align: top;\n",
       "    }\n",
       "\n",
       "    .dataframe thead th {\n",
       "        text-align: right;\n",
       "    }\n",
       "</style>\n",
       "<table border=\"1\" class=\"dataframe\">\n",
       "  <thead>\n",
       "    <tr style=\"text-align: right;\">\n",
       "      <th></th>\n",
       "      <th>Name</th>\n",
       "      <th>Age</th>\n",
       "      <th>City</th>\n",
       "      <th>Gender</th>\n",
       "      <th>Email</th>\n",
       "      <th>Join Date</th>\n",
       "      <th>Age Group</th>\n",
       "    </tr>\n",
       "  </thead>\n",
       "  <tbody>\n",
       "    <tr>\n",
       "      <th>0</th>\n",
       "      <td>Alice</td>\n",
       "      <td>25.0</td>\n",
       "      <td>New York</td>\n",
       "      <td>F</td>\n",
       "      <td>alice@example.com</td>\n",
       "      <td>01-05-2021</td>\n",
       "      <td>Adult</td>\n",
       "    </tr>\n",
       "    <tr>\n",
       "      <th>1</th>\n",
       "      <td>Charlie</td>\n",
       "      <td>NaN</td>\n",
       "      <td>Delhi</td>\n",
       "      <td>M</td>\n",
       "      <td>charlie@example</td>\n",
       "      <td>20-07-2021</td>\n",
       "      <td>Minor</td>\n",
       "    </tr>\n",
       "    <tr>\n",
       "      <th>2</th>\n",
       "      <td>Alice</td>\n",
       "      <td>25.0</td>\n",
       "      <td>New York</td>\n",
       "      <td>F</td>\n",
       "      <td>alice@example.com</td>\n",
       "      <td>01-05-2021</td>\n",
       "      <td>Adult</td>\n",
       "    </tr>\n",
       "    <tr>\n",
       "      <th>3</th>\n",
       "      <td>Bob</td>\n",
       "      <td>30.0</td>\n",
       "      <td>Los Angeles</td>\n",
       "      <td>M</td>\n",
       "      <td>bob@example.com</td>\n",
       "      <td>15-06-2020</td>\n",
       "      <td>Adult</td>\n",
       "    </tr>\n",
       "    <tr>\n",
       "      <th>4</th>\n",
       "      <td>Charlie</td>\n",
       "      <td>NaN</td>\n",
       "      <td>Delhi</td>\n",
       "      <td>M</td>\n",
       "      <td>charlie@example</td>\n",
       "      <td>20-07-2021</td>\n",
       "      <td>Minor</td>\n",
       "    </tr>\n",
       "    <tr>\n",
       "      <th>5</th>\n",
       "      <td>David</td>\n",
       "      <td>22.0</td>\n",
       "      <td>Mumbai</td>\n",
       "      <td>M</td>\n",
       "      <td>david@example.com</td>\n",
       "      <td>12-11-2019</td>\n",
       "      <td>Adult</td>\n",
       "    </tr>\n",
       "    <tr>\n",
       "      <th>6</th>\n",
       "      <td>NaN</td>\n",
       "      <td>28.0</td>\n",
       "      <td>Delhi</td>\n",
       "      <td>F</td>\n",
       "      <td>eve@domain.com</td>\n",
       "      <td>NaN</td>\n",
       "      <td>Adult</td>\n",
       "    </tr>\n",
       "    <tr>\n",
       "      <th>7</th>\n",
       "      <td>Alice</td>\n",
       "      <td>25.0</td>\n",
       "      <td>New York</td>\n",
       "      <td>F</td>\n",
       "      <td>alice@example.com</td>\n",
       "      <td>01-05-2021</td>\n",
       "      <td>Adult</td>\n",
       "    </tr>\n",
       "    <tr>\n",
       "      <th>8</th>\n",
       "      <td>Alice</td>\n",
       "      <td>25.0</td>\n",
       "      <td>New York</td>\n",
       "      <td>F</td>\n",
       "      <td>alice@example.com</td>\n",
       "      <td>01-05-2021</td>\n",
       "      <td>Adult</td>\n",
       "    </tr>\n",
       "    <tr>\n",
       "      <th>9</th>\n",
       "      <td>Charlie</td>\n",
       "      <td>NaN</td>\n",
       "      <td>Delhi</td>\n",
       "      <td>M</td>\n",
       "      <td>charlie@example</td>\n",
       "      <td>20-07-2021</td>\n",
       "      <td>Minor</td>\n",
       "    </tr>\n",
       "    <tr>\n",
       "      <th>10</th>\n",
       "      <td>Charlie</td>\n",
       "      <td>NaN</td>\n",
       "      <td>Delhi</td>\n",
       "      <td>M</td>\n",
       "      <td>charlie@example</td>\n",
       "      <td>20-07-2021</td>\n",
       "      <td>Minor</td>\n",
       "    </tr>\n",
       "    <tr>\n",
       "      <th>11</th>\n",
       "      <td>David</td>\n",
       "      <td>22.0</td>\n",
       "      <td>Mumbai</td>\n",
       "      <td>M</td>\n",
       "      <td>david@example.com</td>\n",
       "      <td>12-11-2019</td>\n",
       "      <td>Adult</td>\n",
       "    </tr>\n",
       "    <tr>\n",
       "      <th>12</th>\n",
       "      <td>NaN</td>\n",
       "      <td>28.0</td>\n",
       "      <td>Delhi</td>\n",
       "      <td>F</td>\n",
       "      <td>eve@domain.com</td>\n",
       "      <td>NaN</td>\n",
       "      <td>Adult</td>\n",
       "    </tr>\n",
       "    <tr>\n",
       "      <th>13</th>\n",
       "      <td>Alice</td>\n",
       "      <td>25.0</td>\n",
       "      <td>New York</td>\n",
       "      <td>F</td>\n",
       "      <td>alice@example.com</td>\n",
       "      <td>01-05-2021</td>\n",
       "      <td>Adult</td>\n",
       "    </tr>\n",
       "    <tr>\n",
       "      <th>14</th>\n",
       "      <td>Alice</td>\n",
       "      <td>25.0</td>\n",
       "      <td>New York</td>\n",
       "      <td>F</td>\n",
       "      <td>alice@example.com</td>\n",
       "      <td>01-05-2021</td>\n",
       "      <td>Adult</td>\n",
       "    </tr>\n",
       "  </tbody>\n",
       "</table>\n",
       "</div>"
      ],
      "text/plain": [
       "       Name   Age         City Gender              Email   Join Date Age Group\n",
       "0     Alice  25.0     New York      F  alice@example.com  01-05-2021     Adult\n",
       "1   Charlie   NaN        Delhi      M    charlie@example  20-07-2021     Minor\n",
       "2     Alice  25.0     New York      F  alice@example.com  01-05-2021     Adult\n",
       "3       Bob  30.0  Los Angeles      M    bob@example.com  15-06-2020     Adult\n",
       "4   Charlie   NaN        Delhi      M    charlie@example  20-07-2021     Minor\n",
       "5     David  22.0       Mumbai      M  david@example.com  12-11-2019     Adult\n",
       "6       NaN  28.0        Delhi      F     eve@domain.com         NaN     Adult\n",
       "7     Alice  25.0     New York      F  alice@example.com  01-05-2021     Adult\n",
       "8     Alice  25.0     New York      F  alice@example.com  01-05-2021     Adult\n",
       "9   Charlie   NaN        Delhi      M    charlie@example  20-07-2021     Minor\n",
       "10  Charlie   NaN        Delhi      M    charlie@example  20-07-2021     Minor\n",
       "11    David  22.0       Mumbai      M  david@example.com  12-11-2019     Adult\n",
       "12      NaN  28.0        Delhi      F     eve@domain.com         NaN     Adult\n",
       "13    Alice  25.0     New York      F  alice@example.com  01-05-2021     Adult\n",
       "14    Alice  25.0     New York      F  alice@example.com  01-05-2021     Adult"
      ]
     },
     "execution_count": 89,
     "metadata": {},
     "output_type": "execute_result"
    }
   ],
   "source": [
    "df[\"Age Group\"] = df[\"Age\"].apply(lambda x: \"Adult\" if x >= 18 else \"Minor\")\n",
    "df"
   ]
  },
  {
   "cell_type": "code",
   "execution_count": 90,
   "id": "4c4792a8",
   "metadata": {},
   "outputs": [
    {
     "data": {
      "application/vnd.microsoft.datawrangler.viewer.v0+json": {
       "columns": [
        {
         "name": "index",
         "rawType": "int64",
         "type": "integer"
        },
        {
         "name": "Name",
         "rawType": "object",
         "type": "unknown"
        },
        {
         "name": "Age",
         "rawType": "float64",
         "type": "float"
        },
        {
         "name": "City",
         "rawType": "object",
         "type": "string"
        },
        {
         "name": "Gender",
         "rawType": "object",
         "type": "string"
        },
        {
         "name": "Email",
         "rawType": "object",
         "type": "string"
        },
        {
         "name": "Join Date",
         "rawType": "object",
         "type": "unknown"
        },
        {
         "name": "Age Group",
         "rawType": "object",
         "type": "string"
        }
       ],
       "ref": "5eb94059-02fe-41fc-93da-3b355ae36136",
       "rows": [
        [
         "0",
         "Alice",
         "25.0",
         "New York",
         "Female",
         "alice@example.com",
         "01-05-2021",
         "Adult"
        ],
        [
         "1",
         "Charlie",
         null,
         "Delhi",
         "Male",
         "charlie@example",
         "20-07-2021",
         "Minor"
        ],
        [
         "2",
         "Alice",
         "25.0",
         "New York",
         "Female",
         "alice@example.com",
         "01-05-2021",
         "Adult"
        ],
        [
         "3",
         "Bob",
         "30.0",
         "Los Angeles",
         "Male",
         "bob@example.com",
         "15-06-2020",
         "Adult"
        ],
        [
         "4",
         "Charlie",
         null,
         "Delhi",
         "Male",
         "charlie@example",
         "20-07-2021",
         "Minor"
        ],
        [
         "5",
         "David",
         "22.0",
         "Mumbai",
         "Male",
         "david@example.com",
         "12-11-2019",
         "Adult"
        ],
        [
         "6",
         null,
         "28.0",
         "Delhi",
         "Female",
         "eve@domain.com",
         null,
         "Adult"
        ],
        [
         "7",
         "Alice",
         "25.0",
         "New York",
         "Female",
         "alice@example.com",
         "01-05-2021",
         "Adult"
        ],
        [
         "8",
         "Alice",
         "25.0",
         "New York",
         "Female",
         "alice@example.com",
         "01-05-2021",
         "Adult"
        ],
        [
         "9",
         "Charlie",
         null,
         "Delhi",
         "Male",
         "charlie@example",
         "20-07-2021",
         "Minor"
        ],
        [
         "10",
         "Charlie",
         null,
         "Delhi",
         "Male",
         "charlie@example",
         "20-07-2021",
         "Minor"
        ],
        [
         "11",
         "David",
         "22.0",
         "Mumbai",
         "Male",
         "david@example.com",
         "12-11-2019",
         "Adult"
        ],
        [
         "12",
         null,
         "28.0",
         "Delhi",
         "Female",
         "eve@domain.com",
         null,
         "Adult"
        ],
        [
         "13",
         "Alice",
         "25.0",
         "New York",
         "Female",
         "alice@example.com",
         "01-05-2021",
         "Adult"
        ],
        [
         "14",
         "Alice",
         "25.0",
         "New York",
         "Female",
         "alice@example.com",
         "01-05-2021",
         "Adult"
        ]
       ],
       "shape": {
        "columns": 7,
        "rows": 15
       }
      },
      "text/html": [
       "<div>\n",
       "<style scoped>\n",
       "    .dataframe tbody tr th:only-of-type {\n",
       "        vertical-align: middle;\n",
       "    }\n",
       "\n",
       "    .dataframe tbody tr th {\n",
       "        vertical-align: top;\n",
       "    }\n",
       "\n",
       "    .dataframe thead th {\n",
       "        text-align: right;\n",
       "    }\n",
       "</style>\n",
       "<table border=\"1\" class=\"dataframe\">\n",
       "  <thead>\n",
       "    <tr style=\"text-align: right;\">\n",
       "      <th></th>\n",
       "      <th>Name</th>\n",
       "      <th>Age</th>\n",
       "      <th>City</th>\n",
       "      <th>Gender</th>\n",
       "      <th>Email</th>\n",
       "      <th>Join Date</th>\n",
       "      <th>Age Group</th>\n",
       "    </tr>\n",
       "  </thead>\n",
       "  <tbody>\n",
       "    <tr>\n",
       "      <th>0</th>\n",
       "      <td>Alice</td>\n",
       "      <td>25.0</td>\n",
       "      <td>New York</td>\n",
       "      <td>Female</td>\n",
       "      <td>alice@example.com</td>\n",
       "      <td>01-05-2021</td>\n",
       "      <td>Adult</td>\n",
       "    </tr>\n",
       "    <tr>\n",
       "      <th>1</th>\n",
       "      <td>Charlie</td>\n",
       "      <td>NaN</td>\n",
       "      <td>Delhi</td>\n",
       "      <td>Male</td>\n",
       "      <td>charlie@example</td>\n",
       "      <td>20-07-2021</td>\n",
       "      <td>Minor</td>\n",
       "    </tr>\n",
       "    <tr>\n",
       "      <th>2</th>\n",
       "      <td>Alice</td>\n",
       "      <td>25.0</td>\n",
       "      <td>New York</td>\n",
       "      <td>Female</td>\n",
       "      <td>alice@example.com</td>\n",
       "      <td>01-05-2021</td>\n",
       "      <td>Adult</td>\n",
       "    </tr>\n",
       "    <tr>\n",
       "      <th>3</th>\n",
       "      <td>Bob</td>\n",
       "      <td>30.0</td>\n",
       "      <td>Los Angeles</td>\n",
       "      <td>Male</td>\n",
       "      <td>bob@example.com</td>\n",
       "      <td>15-06-2020</td>\n",
       "      <td>Adult</td>\n",
       "    </tr>\n",
       "    <tr>\n",
       "      <th>4</th>\n",
       "      <td>Charlie</td>\n",
       "      <td>NaN</td>\n",
       "      <td>Delhi</td>\n",
       "      <td>Male</td>\n",
       "      <td>charlie@example</td>\n",
       "      <td>20-07-2021</td>\n",
       "      <td>Minor</td>\n",
       "    </tr>\n",
       "    <tr>\n",
       "      <th>5</th>\n",
       "      <td>David</td>\n",
       "      <td>22.0</td>\n",
       "      <td>Mumbai</td>\n",
       "      <td>Male</td>\n",
       "      <td>david@example.com</td>\n",
       "      <td>12-11-2019</td>\n",
       "      <td>Adult</td>\n",
       "    </tr>\n",
       "    <tr>\n",
       "      <th>6</th>\n",
       "      <td>NaN</td>\n",
       "      <td>28.0</td>\n",
       "      <td>Delhi</td>\n",
       "      <td>Female</td>\n",
       "      <td>eve@domain.com</td>\n",
       "      <td>NaN</td>\n",
       "      <td>Adult</td>\n",
       "    </tr>\n",
       "    <tr>\n",
       "      <th>7</th>\n",
       "      <td>Alice</td>\n",
       "      <td>25.0</td>\n",
       "      <td>New York</td>\n",
       "      <td>Female</td>\n",
       "      <td>alice@example.com</td>\n",
       "      <td>01-05-2021</td>\n",
       "      <td>Adult</td>\n",
       "    </tr>\n",
       "    <tr>\n",
       "      <th>8</th>\n",
       "      <td>Alice</td>\n",
       "      <td>25.0</td>\n",
       "      <td>New York</td>\n",
       "      <td>Female</td>\n",
       "      <td>alice@example.com</td>\n",
       "      <td>01-05-2021</td>\n",
       "      <td>Adult</td>\n",
       "    </tr>\n",
       "    <tr>\n",
       "      <th>9</th>\n",
       "      <td>Charlie</td>\n",
       "      <td>NaN</td>\n",
       "      <td>Delhi</td>\n",
       "      <td>Male</td>\n",
       "      <td>charlie@example</td>\n",
       "      <td>20-07-2021</td>\n",
       "      <td>Minor</td>\n",
       "    </tr>\n",
       "    <tr>\n",
       "      <th>10</th>\n",
       "      <td>Charlie</td>\n",
       "      <td>NaN</td>\n",
       "      <td>Delhi</td>\n",
       "      <td>Male</td>\n",
       "      <td>charlie@example</td>\n",
       "      <td>20-07-2021</td>\n",
       "      <td>Minor</td>\n",
       "    </tr>\n",
       "    <tr>\n",
       "      <th>11</th>\n",
       "      <td>David</td>\n",
       "      <td>22.0</td>\n",
       "      <td>Mumbai</td>\n",
       "      <td>Male</td>\n",
       "      <td>david@example.com</td>\n",
       "      <td>12-11-2019</td>\n",
       "      <td>Adult</td>\n",
       "    </tr>\n",
       "    <tr>\n",
       "      <th>12</th>\n",
       "      <td>NaN</td>\n",
       "      <td>28.0</td>\n",
       "      <td>Delhi</td>\n",
       "      <td>Female</td>\n",
       "      <td>eve@domain.com</td>\n",
       "      <td>NaN</td>\n",
       "      <td>Adult</td>\n",
       "    </tr>\n",
       "    <tr>\n",
       "      <th>13</th>\n",
       "      <td>Alice</td>\n",
       "      <td>25.0</td>\n",
       "      <td>New York</td>\n",
       "      <td>Female</td>\n",
       "      <td>alice@example.com</td>\n",
       "      <td>01-05-2021</td>\n",
       "      <td>Adult</td>\n",
       "    </tr>\n",
       "    <tr>\n",
       "      <th>14</th>\n",
       "      <td>Alice</td>\n",
       "      <td>25.0</td>\n",
       "      <td>New York</td>\n",
       "      <td>Female</td>\n",
       "      <td>alice@example.com</td>\n",
       "      <td>01-05-2021</td>\n",
       "      <td>Adult</td>\n",
       "    </tr>\n",
       "  </tbody>\n",
       "</table>\n",
       "</div>"
      ],
      "text/plain": [
       "       Name   Age         City  Gender              Email   Join Date  \\\n",
       "0     Alice  25.0     New York  Female  alice@example.com  01-05-2021   \n",
       "1   Charlie   NaN        Delhi    Male    charlie@example  20-07-2021   \n",
       "2     Alice  25.0     New York  Female  alice@example.com  01-05-2021   \n",
       "3       Bob  30.0  Los Angeles    Male    bob@example.com  15-06-2020   \n",
       "4   Charlie   NaN        Delhi    Male    charlie@example  20-07-2021   \n",
       "5     David  22.0       Mumbai    Male  david@example.com  12-11-2019   \n",
       "6       NaN  28.0        Delhi  Female     eve@domain.com         NaN   \n",
       "7     Alice  25.0     New York  Female  alice@example.com  01-05-2021   \n",
       "8     Alice  25.0     New York  Female  alice@example.com  01-05-2021   \n",
       "9   Charlie   NaN        Delhi    Male    charlie@example  20-07-2021   \n",
       "10  Charlie   NaN        Delhi    Male    charlie@example  20-07-2021   \n",
       "11    David  22.0       Mumbai    Male  david@example.com  12-11-2019   \n",
       "12      NaN  28.0        Delhi  Female     eve@domain.com         NaN   \n",
       "13    Alice  25.0     New York  Female  alice@example.com  01-05-2021   \n",
       "14    Alice  25.0     New York  Female  alice@example.com  01-05-2021   \n",
       "\n",
       "   Age Group  \n",
       "0      Adult  \n",
       "1      Minor  \n",
       "2      Adult  \n",
       "3      Adult  \n",
       "4      Minor  \n",
       "5      Adult  \n",
       "6      Adult  \n",
       "7      Adult  \n",
       "8      Adult  \n",
       "9      Minor  \n",
       "10     Minor  \n",
       "11     Adult  \n",
       "12     Adult  \n",
       "13     Adult  \n",
       "14     Adult  "
      ]
     },
     "execution_count": 90,
     "metadata": {},
     "output_type": "execute_result"
    }
   ],
   "source": [
    "gender_map = {\"M\": \"Male\", \"F\": \"Female\"}\n",
    "df[\"Gender\"] = df[\"Gender\"].map(gender_map)\n",
    "df"
   ]
  },
  {
   "cell_type": "code",
   "execution_count": 91,
   "id": "02fe3d02",
   "metadata": {},
   "outputs": [
    {
     "data": {
      "application/vnd.microsoft.datawrangler.viewer.v0+json": {
       "columns": [
        {
         "name": "index",
         "rawType": "int64",
         "type": "integer"
        },
        {
         "name": "City",
         "rawType": "object",
         "type": "string"
        }
       ],
       "ref": "85dbc1e9-df2a-4d86-a096-4a89e10e64b8",
       "rows": [
        [
         "0",
         "New York"
        ],
        [
         "1",
         "Delhi"
        ],
        [
         "2",
         "New York"
        ],
        [
         "3",
         "Los Angeles"
        ],
        [
         "4",
         "Delhi"
        ],
        [
         "5",
         "Mumbai"
        ],
        [
         "6",
         "Delhi"
        ],
        [
         "7",
         "New York"
        ],
        [
         "8",
         "New York"
        ],
        [
         "9",
         "Delhi"
        ],
        [
         "10",
         "Delhi"
        ],
        [
         "11",
         "Mumbai"
        ],
        [
         "12",
         "Delhi"
        ],
        [
         "13",
         "New York"
        ],
        [
         "14",
         "New York"
        ]
       ],
       "shape": {
        "columns": 1,
        "rows": 15
       }
      },
      "text/plain": [
       "0        New York\n",
       "1           Delhi\n",
       "2        New York\n",
       "3     Los Angeles\n",
       "4           Delhi\n",
       "5          Mumbai\n",
       "6           Delhi\n",
       "7        New York\n",
       "8        New York\n",
       "9           Delhi\n",
       "10          Delhi\n",
       "11         Mumbai\n",
       "12          Delhi\n",
       "13       New York\n",
       "14       New York\n",
       "Name: City, dtype: object"
      ]
     },
     "execution_count": 91,
     "metadata": {},
     "output_type": "execute_result"
    }
   ],
   "source": [
    "df[\"City\"].replace({\"Del\": \"Delhi\", \"Mum\": \"Mumbai\"})"
   ]
  },
  {
   "cell_type": "code",
   "execution_count": null,
   "id": "c3a93511",
   "metadata": {},
   "outputs": [],
   "source": []
  }
 ],
 "metadata": {
  "kernelspec": {
   "display_name": "base",
   "language": "python",
   "name": "python3"
  },
  "language_info": {
   "codemirror_mode": {
    "name": "ipython",
    "version": 3
   },
   "file_extension": ".py",
   "mimetype": "text/x-python",
   "name": "python",
   "nbconvert_exporter": "python",
   "pygments_lexer": "ipython3",
   "version": "3.11.7"
  }
 },
 "nbformat": 4,
 "nbformat_minor": 5
}
