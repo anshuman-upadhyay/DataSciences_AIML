{
 "cells": [
  {
   "cell_type": "code",
   "execution_count": 2,
   "id": "bab7332f",
   "metadata": {},
   "outputs": [],
   "source": [
    "import pandas as pd"
   ]
  },
  {
   "cell_type": "code",
   "execution_count": 4,
   "id": "afcc9d3f",
   "metadata": {},
   "outputs": [
    {
     "data": {
      "application/vnd.microsoft.datawrangler.viewer.v0+json": {
       "columns": [
        {
         "name": "index",
         "rawType": "int64",
         "type": "integer"
        },
        {
         "name": "Actor",
         "rawType": "object",
         "type": "string"
        },
        {
         "name": "Film",
         "rawType": "object",
         "type": "string"
        },
        {
         "name": "Year",
         "rawType": "int64",
         "type": "integer"
        },
        {
         "name": "Genre",
         "rawType": "object",
         "type": "string"
        },
        {
         "name": "BoxOffice(INR Crore)",
         "rawType": "int64",
         "type": "integer"
        },
        {
         "name": "IMDb",
         "rawType": "float64",
         "type": "float"
        }
       ],
       "ref": "6ad4e02f-f034-437d-bc7d-866946285f7c",
       "rows": [
        [
         "0",
         "Shah Rukh Khan",
         "Pathaan",
         "2023",
         "Action",
         "1050",
         "7.2"
        ],
        [
         "1",
         "Salman Khan",
         "Tiger Zinda Hai",
         "2017",
         "Action",
         "565",
         "6.0"
        ],
        [
         "2",
         "Aamir Khan",
         "Dangal",
         "2016",
         "Biography",
         "2024",
         "8.4"
        ],
        [
         "3",
         "Ranbir Kapoor",
         "Brahmastra",
         "2022",
         "Fantasy",
         "431",
         "5.6"
        ],
        [
         "4",
         "Ranveer Singh",
         "Padmaavat",
         "2018",
         "Historical",
         "585",
         "7.0"
        ],
        [
         "5",
         "Ayushmann Khurrana",
         "Andhadhun",
         "2018",
         "Thriller",
         "111",
         "8.3"
        ],
        [
         "6",
         "Rajkummar Rao",
         "Stree",
         "2018",
         "Horror Comedy",
         "180",
         "7.5"
        ],
        [
         "7",
         "Hrithik Roshan",
         "War",
         "2019",
         "Action",
         "475",
         "6.5"
        ],
        [
         "8",
         "Akshay Kumar",
         "Good Newwz",
         "2019",
         "Comedy",
         "318",
         "7.0"
        ],
        [
         "9",
         "Kartik Aaryan",
         "Bhool Bhulaiyaa 2",
         "2022",
         "Horror Comedy",
         "266",
         "5.9"
        ],
        [
         "10",
         "Varun Dhawan",
         "Badrinath Ki Dulhania",
         "2017",
         "Romantic Comedy",
         "201",
         "6.1"
        ],
        [
         "11",
         "Vicky Kaushal",
         "Uri: The Surgical Strike",
         "2019",
         "Action",
         "342",
         "8.2"
        ]
       ],
       "shape": {
        "columns": 6,
        "rows": 12
       }
      },
      "text/html": [
       "<div>\n",
       "<style scoped>\n",
       "    .dataframe tbody tr th:only-of-type {\n",
       "        vertical-align: middle;\n",
       "    }\n",
       "\n",
       "    .dataframe tbody tr th {\n",
       "        vertical-align: top;\n",
       "    }\n",
       "\n",
       "    .dataframe thead th {\n",
       "        text-align: right;\n",
       "    }\n",
       "</style>\n",
       "<table border=\"1\" class=\"dataframe\">\n",
       "  <thead>\n",
       "    <tr style=\"text-align: right;\">\n",
       "      <th></th>\n",
       "      <th>Actor</th>\n",
       "      <th>Film</th>\n",
       "      <th>Year</th>\n",
       "      <th>Genre</th>\n",
       "      <th>BoxOffice(INR Crore)</th>\n",
       "      <th>IMDb</th>\n",
       "    </tr>\n",
       "  </thead>\n",
       "  <tbody>\n",
       "    <tr>\n",
       "      <th>0</th>\n",
       "      <td>Shah Rukh Khan</td>\n",
       "      <td>Pathaan</td>\n",
       "      <td>2023</td>\n",
       "      <td>Action</td>\n",
       "      <td>1050</td>\n",
       "      <td>7.2</td>\n",
       "    </tr>\n",
       "    <tr>\n",
       "      <th>1</th>\n",
       "      <td>Salman Khan</td>\n",
       "      <td>Tiger Zinda Hai</td>\n",
       "      <td>2017</td>\n",
       "      <td>Action</td>\n",
       "      <td>565</td>\n",
       "      <td>6.0</td>\n",
       "    </tr>\n",
       "    <tr>\n",
       "      <th>2</th>\n",
       "      <td>Aamir Khan</td>\n",
       "      <td>Dangal</td>\n",
       "      <td>2016</td>\n",
       "      <td>Biography</td>\n",
       "      <td>2024</td>\n",
       "      <td>8.4</td>\n",
       "    </tr>\n",
       "    <tr>\n",
       "      <th>3</th>\n",
       "      <td>Ranbir Kapoor</td>\n",
       "      <td>Brahmastra</td>\n",
       "      <td>2022</td>\n",
       "      <td>Fantasy</td>\n",
       "      <td>431</td>\n",
       "      <td>5.6</td>\n",
       "    </tr>\n",
       "    <tr>\n",
       "      <th>4</th>\n",
       "      <td>Ranveer Singh</td>\n",
       "      <td>Padmaavat</td>\n",
       "      <td>2018</td>\n",
       "      <td>Historical</td>\n",
       "      <td>585</td>\n",
       "      <td>7.0</td>\n",
       "    </tr>\n",
       "    <tr>\n",
       "      <th>5</th>\n",
       "      <td>Ayushmann Khurrana</td>\n",
       "      <td>Andhadhun</td>\n",
       "      <td>2018</td>\n",
       "      <td>Thriller</td>\n",
       "      <td>111</td>\n",
       "      <td>8.3</td>\n",
       "    </tr>\n",
       "    <tr>\n",
       "      <th>6</th>\n",
       "      <td>Rajkummar Rao</td>\n",
       "      <td>Stree</td>\n",
       "      <td>2018</td>\n",
       "      <td>Horror Comedy</td>\n",
       "      <td>180</td>\n",
       "      <td>7.5</td>\n",
       "    </tr>\n",
       "    <tr>\n",
       "      <th>7</th>\n",
       "      <td>Hrithik Roshan</td>\n",
       "      <td>War</td>\n",
       "      <td>2019</td>\n",
       "      <td>Action</td>\n",
       "      <td>475</td>\n",
       "      <td>6.5</td>\n",
       "    </tr>\n",
       "    <tr>\n",
       "      <th>8</th>\n",
       "      <td>Akshay Kumar</td>\n",
       "      <td>Good Newwz</td>\n",
       "      <td>2019</td>\n",
       "      <td>Comedy</td>\n",
       "      <td>318</td>\n",
       "      <td>7.0</td>\n",
       "    </tr>\n",
       "    <tr>\n",
       "      <th>9</th>\n",
       "      <td>Kartik Aaryan</td>\n",
       "      <td>Bhool Bhulaiyaa 2</td>\n",
       "      <td>2022</td>\n",
       "      <td>Horror Comedy</td>\n",
       "      <td>266</td>\n",
       "      <td>5.9</td>\n",
       "    </tr>\n",
       "    <tr>\n",
       "      <th>10</th>\n",
       "      <td>Varun Dhawan</td>\n",
       "      <td>Badrinath Ki Dulhania</td>\n",
       "      <td>2017</td>\n",
       "      <td>Romantic Comedy</td>\n",
       "      <td>201</td>\n",
       "      <td>6.1</td>\n",
       "    </tr>\n",
       "    <tr>\n",
       "      <th>11</th>\n",
       "      <td>Vicky Kaushal</td>\n",
       "      <td>Uri: The Surgical Strike</td>\n",
       "      <td>2019</td>\n",
       "      <td>Action</td>\n",
       "      <td>342</td>\n",
       "      <td>8.2</td>\n",
       "    </tr>\n",
       "  </tbody>\n",
       "</table>\n",
       "</div>"
      ],
      "text/plain": [
       "                 Actor                      Film  Year            Genre  \\\n",
       "0       Shah Rukh Khan                   Pathaan  2023           Action   \n",
       "1          Salman Khan           Tiger Zinda Hai  2017           Action   \n",
       "2           Aamir Khan                    Dangal  2016        Biography   \n",
       "3        Ranbir Kapoor                Brahmastra  2022          Fantasy   \n",
       "4        Ranveer Singh                 Padmaavat  2018       Historical   \n",
       "5   Ayushmann Khurrana                 Andhadhun  2018         Thriller   \n",
       "6        Rajkummar Rao                     Stree  2018    Horror Comedy   \n",
       "7       Hrithik Roshan                       War  2019           Action   \n",
       "8         Akshay Kumar                Good Newwz  2019           Comedy   \n",
       "9        Kartik Aaryan         Bhool Bhulaiyaa 2  2022    Horror Comedy   \n",
       "10        Varun Dhawan     Badrinath Ki Dulhania  2017  Romantic Comedy   \n",
       "11       Vicky Kaushal  Uri: The Surgical Strike  2019           Action   \n",
       "\n",
       "    BoxOffice(INR Crore)  IMDb  \n",
       "0                   1050   7.2  \n",
       "1                    565   6.0  \n",
       "2                   2024   8.4  \n",
       "3                    431   5.6  \n",
       "4                    585   7.0  \n",
       "5                    111   8.3  \n",
       "6                    180   7.5  \n",
       "7                    475   6.5  \n",
       "8                    318   7.0  \n",
       "9                    266   5.9  \n",
       "10                   201   6.1  \n",
       "11                   342   8.2  "
      ]
     },
     "execution_count": 4,
     "metadata": {},
     "output_type": "execute_result"
    }
   ],
   "source": [
    "df= pd.read_csv(\"data.csv\")\n",
    "df\n",
    "\n"
   ]
  },
  {
   "cell_type": "code",
   "execution_count": 6,
   "id": "d557d406",
   "metadata": {},
   "outputs": [
    {
     "data": {
      "text/plain": [
       "'Ranbir Kapoor'"
      ]
     },
     "execution_count": 6,
     "metadata": {},
     "output_type": "execute_result"
    }
   ],
   "source": [
    "df[\"Actor\"]\n",
    "df[\"Actor\"][3]"
   ]
  },
  {
   "cell_type": "code",
   "execution_count": 9,
   "id": "8e48508c",
   "metadata": {},
   "outputs": [
    {
     "data": {
      "application/vnd.microsoft.datawrangler.viewer.v0+json": {
       "columns": [
        {
         "name": "index",
         "rawType": "int64",
         "type": "integer"
        },
        {
         "name": "Actor",
         "rawType": "object",
         "type": "string"
        },
        {
         "name": "IMDb",
         "rawType": "float64",
         "type": "float"
        }
       ],
       "ref": "73250612-50eb-4df3-bf43-5c222a541479",
       "rows": [
        [
         "0",
         "Shah Rukh Khan",
         "7.2"
        ],
        [
         "1",
         "Salman Khan",
         "6.0"
        ],
        [
         "2",
         "Aamir Khan",
         "8.4"
        ],
        [
         "3",
         "Ranbir Kapoor",
         "5.6"
        ],
        [
         "4",
         "Ranveer Singh",
         "7.0"
        ],
        [
         "5",
         "Ayushmann Khurrana",
         "8.3"
        ],
        [
         "6",
         "Rajkummar Rao",
         "7.5"
        ],
        [
         "7",
         "Hrithik Roshan",
         "6.5"
        ],
        [
         "8",
         "Akshay Kumar",
         "7.0"
        ],
        [
         "9",
         "Kartik Aaryan",
         "5.9"
        ],
        [
         "10",
         "Varun Dhawan",
         "6.1"
        ],
        [
         "11",
         "Vicky Kaushal",
         "8.2"
        ]
       ],
       "shape": {
        "columns": 2,
        "rows": 12
       }
      },
      "text/html": [
       "<div>\n",
       "<style scoped>\n",
       "    .dataframe tbody tr th:only-of-type {\n",
       "        vertical-align: middle;\n",
       "    }\n",
       "\n",
       "    .dataframe tbody tr th {\n",
       "        vertical-align: top;\n",
       "    }\n",
       "\n",
       "    .dataframe thead th {\n",
       "        text-align: right;\n",
       "    }\n",
       "</style>\n",
       "<table border=\"1\" class=\"dataframe\">\n",
       "  <thead>\n",
       "    <tr style=\"text-align: right;\">\n",
       "      <th></th>\n",
       "      <th>Actor</th>\n",
       "      <th>IMDb</th>\n",
       "    </tr>\n",
       "  </thead>\n",
       "  <tbody>\n",
       "    <tr>\n",
       "      <th>0</th>\n",
       "      <td>Shah Rukh Khan</td>\n",
       "      <td>7.2</td>\n",
       "    </tr>\n",
       "    <tr>\n",
       "      <th>1</th>\n",
       "      <td>Salman Khan</td>\n",
       "      <td>6.0</td>\n",
       "    </tr>\n",
       "    <tr>\n",
       "      <th>2</th>\n",
       "      <td>Aamir Khan</td>\n",
       "      <td>8.4</td>\n",
       "    </tr>\n",
       "    <tr>\n",
       "      <th>3</th>\n",
       "      <td>Ranbir Kapoor</td>\n",
       "      <td>5.6</td>\n",
       "    </tr>\n",
       "    <tr>\n",
       "      <th>4</th>\n",
       "      <td>Ranveer Singh</td>\n",
       "      <td>7.0</td>\n",
       "    </tr>\n",
       "    <tr>\n",
       "      <th>5</th>\n",
       "      <td>Ayushmann Khurrana</td>\n",
       "      <td>8.3</td>\n",
       "    </tr>\n",
       "    <tr>\n",
       "      <th>6</th>\n",
       "      <td>Rajkummar Rao</td>\n",
       "      <td>7.5</td>\n",
       "    </tr>\n",
       "    <tr>\n",
       "      <th>7</th>\n",
       "      <td>Hrithik Roshan</td>\n",
       "      <td>6.5</td>\n",
       "    </tr>\n",
       "    <tr>\n",
       "      <th>8</th>\n",
       "      <td>Akshay Kumar</td>\n",
       "      <td>7.0</td>\n",
       "    </tr>\n",
       "    <tr>\n",
       "      <th>9</th>\n",
       "      <td>Kartik Aaryan</td>\n",
       "      <td>5.9</td>\n",
       "    </tr>\n",
       "    <tr>\n",
       "      <th>10</th>\n",
       "      <td>Varun Dhawan</td>\n",
       "      <td>6.1</td>\n",
       "    </tr>\n",
       "    <tr>\n",
       "      <th>11</th>\n",
       "      <td>Vicky Kaushal</td>\n",
       "      <td>8.2</td>\n",
       "    </tr>\n",
       "  </tbody>\n",
       "</table>\n",
       "</div>"
      ],
      "text/plain": [
       "                 Actor  IMDb\n",
       "0       Shah Rukh Khan   7.2\n",
       "1          Salman Khan   6.0\n",
       "2           Aamir Khan   8.4\n",
       "3        Ranbir Kapoor   5.6\n",
       "4        Ranveer Singh   7.0\n",
       "5   Ayushmann Khurrana   8.3\n",
       "6        Rajkummar Rao   7.5\n",
       "7       Hrithik Roshan   6.5\n",
       "8         Akshay Kumar   7.0\n",
       "9        Kartik Aaryan   5.9\n",
       "10        Varun Dhawan   6.1\n",
       "11       Vicky Kaushal   8.2"
      ]
     },
     "execution_count": 9,
     "metadata": {},
     "output_type": "execute_result"
    }
   ],
   "source": [
    "df[[\"Actor\",\"IMDb\"]]"
   ]
  },
  {
   "cell_type": "code",
   "execution_count": null,
   "id": "bf57acb9",
   "metadata": {},
   "outputs": [
    {
     "data": {
      "application/vnd.microsoft.datawrangler.viewer.v0+json": {
       "columns": [
        {
         "name": "index",
         "rawType": "object",
         "type": "string"
        },
        {
         "name": "0",
         "rawType": "object",
         "type": "unknown"
        }
       ],
       "ref": "c30a2cd3-94ec-4466-8f65-2d84f4efa0d2",
       "rows": [
        [
         "Actor",
         "Shah Rukh Khan"
        ],
        [
         "Film",
         "Pathaan"
        ],
        [
         "Year",
         "2023"
        ],
        [
         "Genre",
         "Action"
        ],
        [
         "BoxOffice(INR Crore)",
         "1050"
        ],
        [
         "IMDb",
         "7.2"
        ]
       ],
       "shape": {
        "columns": 1,
        "rows": 6
       }
      },
      "text/plain": [
       "Actor                   Shah Rukh Khan\n",
       "Film                           Pathaan\n",
       "Year                              2023\n",
       "Genre                           Action\n",
       "BoxOffice(INR Crore)              1050\n",
       "IMDb                               7.2\n",
       "Name: 0, dtype: object"
      ]
     },
     "execution_count": 10,
     "metadata": {},
     "output_type": "execute_result"
    }
   ],
   "source": [
    "df.loc[0] #Value at row 0, "
   ]
  },
  {
   "cell_type": "code",
   "execution_count": null,
   "id": "9751e4b7",
   "metadata": {},
   "outputs": [
    {
     "data": {
      "application/vnd.microsoft.datawrangler.viewer.v0+json": {
       "columns": [
        {
         "name": "index",
         "rawType": "object",
         "type": "string"
        },
        {
         "name": "1",
         "rawType": "object",
         "type": "unknown"
        }
       ],
       "ref": "7009df3e-0a3a-4ea4-8379-a2b64851eda9",
       "rows": [
        [
         "Actor",
         "Salman Khan"
        ],
        [
         "Film",
         "Tiger Zinda Hai"
        ],
        [
         "Year",
         "2017"
        ],
        [
         "Genre",
         "Action"
        ],
        [
         "BoxOffice(INR Crore)",
         "565"
        ],
        [
         "IMDb",
         "6.0"
        ]
       ],
       "shape": {
        "columns": 1,
        "rows": 6
       }
      },
      "text/plain": [
       "Actor                       Salman Khan\n",
       "Film                    Tiger Zinda Hai\n",
       "Year                               2017\n",
       "Genre                            Action\n",
       "BoxOffice(INR Crore)                565\n",
       "IMDb                                6.0\n",
       "Name: 1, dtype: object"
      ]
     },
     "execution_count": 11,
     "metadata": {},
     "output_type": "execute_result"
    }
   ],
   "source": [
    "df.iloc[1] #Value at row 0, column at index 1"
   ]
  },
  {
   "cell_type": "code",
   "execution_count": null,
   "id": "c97031f5",
   "metadata": {},
   "outputs": [
    {
     "data": {
      "text/plain": [
       "8.3"
      ]
     },
     "execution_count": 12,
     "metadata": {},
     "output_type": "execute_result"
    }
   ],
   "source": [
    "df.loc[5,\"IMDb\"] #Searching through a particular column using its name "
   ]
  },
  {
   "cell_type": "code",
   "execution_count": null,
   "id": "d159b843",
   "metadata": {},
   "outputs": [
    {
     "data": {
      "text/plain": [
       "8.3"
      ]
     },
     "execution_count": 15,
     "metadata": {},
     "output_type": "execute_result"
    }
   ],
   "source": [
    "df.iloc[5,5] #%th row and 5th column"
   ]
  },
  {
   "cell_type": "code",
   "execution_count": 16,
   "id": "bf51eda9",
   "metadata": {},
   "outputs": [
    {
     "data": {
      "application/vnd.microsoft.datawrangler.viewer.v0+json": {
       "columns": [
        {
         "name": "index",
         "rawType": "int64",
         "type": "integer"
        },
        {
         "name": "Actor",
         "rawType": "object",
         "type": "string"
        },
        {
         "name": "IMDb",
         "rawType": "float64",
         "type": "float"
        },
        {
         "name": "Film",
         "rawType": "object",
         "type": "string"
        }
       ],
       "ref": "dbd1271c-e18a-46a8-a4ec-46f3f7a4fef4",
       "rows": [
        [
         "0",
         "Shah Rukh Khan",
         "7.2",
         "Pathaan"
        ],
        [
         "1",
         "Salman Khan",
         "6.0",
         "Tiger Zinda Hai"
        ],
        [
         "2",
         "Aamir Khan",
         "8.4",
         "Dangal"
        ],
        [
         "3",
         "Ranbir Kapoor",
         "5.6",
         "Brahmastra"
        ]
       ],
       "shape": {
        "columns": 3,
        "rows": 4
       }
      },
      "text/html": [
       "<div>\n",
       "<style scoped>\n",
       "    .dataframe tbody tr th:only-of-type {\n",
       "        vertical-align: middle;\n",
       "    }\n",
       "\n",
       "    .dataframe tbody tr th {\n",
       "        vertical-align: top;\n",
       "    }\n",
       "\n",
       "    .dataframe thead th {\n",
       "        text-align: right;\n",
       "    }\n",
       "</style>\n",
       "<table border=\"1\" class=\"dataframe\">\n",
       "  <thead>\n",
       "    <tr style=\"text-align: right;\">\n",
       "      <th></th>\n",
       "      <th>Actor</th>\n",
       "      <th>IMDb</th>\n",
       "      <th>Film</th>\n",
       "    </tr>\n",
       "  </thead>\n",
       "  <tbody>\n",
       "    <tr>\n",
       "      <th>0</th>\n",
       "      <td>Shah Rukh Khan</td>\n",
       "      <td>7.2</td>\n",
       "      <td>Pathaan</td>\n",
       "    </tr>\n",
       "    <tr>\n",
       "      <th>1</th>\n",
       "      <td>Salman Khan</td>\n",
       "      <td>6.0</td>\n",
       "      <td>Tiger Zinda Hai</td>\n",
       "    </tr>\n",
       "    <tr>\n",
       "      <th>2</th>\n",
       "      <td>Aamir Khan</td>\n",
       "      <td>8.4</td>\n",
       "      <td>Dangal</td>\n",
       "    </tr>\n",
       "    <tr>\n",
       "      <th>3</th>\n",
       "      <td>Ranbir Kapoor</td>\n",
       "      <td>5.6</td>\n",
       "      <td>Brahmastra</td>\n",
       "    </tr>\n",
       "  </tbody>\n",
       "</table>\n",
       "</div>"
      ],
      "text/plain": [
       "            Actor  IMDb             Film\n",
       "0  Shah Rukh Khan   7.2          Pathaan\n",
       "1     Salman Khan   6.0  Tiger Zinda Hai\n",
       "2      Aamir Khan   8.4           Dangal\n",
       "3   Ranbir Kapoor   5.6       Brahmastra"
      ]
     },
     "execution_count": 16,
     "metadata": {},
     "output_type": "execute_result"
    }
   ],
   "source": [
    "df.loc[0:3,[\"Actor\",\"IMDb\",\"Film\"]]"
   ]
  },
  {
   "cell_type": "code",
   "execution_count": 19,
   "id": "77548c15",
   "metadata": {},
   "outputs": [
    {
     "data": {
      "application/vnd.microsoft.datawrangler.viewer.v0+json": {
       "columns": [
        {
         "name": "index",
         "rawType": "int64",
         "type": "integer"
        },
        {
         "name": "Actor",
         "rawType": "object",
         "type": "string"
        },
        {
         "name": "Film",
         "rawType": "object",
         "type": "string"
        },
        {
         "name": "Year",
         "rawType": "int64",
         "type": "integer"
        }
       ],
       "ref": "a77ee13c-87b7-47c4-aa27-7bc693a37c9d",
       "rows": [
        [
         "0",
         "Shah Rukh Khan",
         "Pathaan",
         "2023"
        ],
        [
         "1",
         "Salman Khan",
         "Tiger Zinda Hai",
         "2017"
        ],
        [
         "2",
         "Aamir Khan",
         "Dangal",
         "2016"
        ]
       ],
       "shape": {
        "columns": 3,
        "rows": 3
       }
      },
      "text/html": [
       "<div>\n",
       "<style scoped>\n",
       "    .dataframe tbody tr th:only-of-type {\n",
       "        vertical-align: middle;\n",
       "    }\n",
       "\n",
       "    .dataframe tbody tr th {\n",
       "        vertical-align: top;\n",
       "    }\n",
       "\n",
       "    .dataframe thead th {\n",
       "        text-align: right;\n",
       "    }\n",
       "</style>\n",
       "<table border=\"1\" class=\"dataframe\">\n",
       "  <thead>\n",
       "    <tr style=\"text-align: right;\">\n",
       "      <th></th>\n",
       "      <th>Actor</th>\n",
       "      <th>Film</th>\n",
       "      <th>Year</th>\n",
       "    </tr>\n",
       "  </thead>\n",
       "  <tbody>\n",
       "    <tr>\n",
       "      <th>0</th>\n",
       "      <td>Shah Rukh Khan</td>\n",
       "      <td>Pathaan</td>\n",
       "      <td>2023</td>\n",
       "    </tr>\n",
       "    <tr>\n",
       "      <th>1</th>\n",
       "      <td>Salman Khan</td>\n",
       "      <td>Tiger Zinda Hai</td>\n",
       "      <td>2017</td>\n",
       "    </tr>\n",
       "    <tr>\n",
       "      <th>2</th>\n",
       "      <td>Aamir Khan</td>\n",
       "      <td>Dangal</td>\n",
       "      <td>2016</td>\n",
       "    </tr>\n",
       "  </tbody>\n",
       "</table>\n",
       "</div>"
      ],
      "text/plain": [
       "            Actor             Film  Year\n",
       "0  Shah Rukh Khan          Pathaan  2023\n",
       "1     Salman Khan  Tiger Zinda Hai  2017\n",
       "2      Aamir Khan           Dangal  2016"
      ]
     },
     "execution_count": 19,
     "metadata": {},
     "output_type": "execute_result"
    }
   ],
   "source": [
    "df.iloc[0:3,0:3]"
   ]
  },
  {
   "cell_type": "markdown",
   "id": "89479d65",
   "metadata": {},
   "source": [
    "single element access"
   ]
  },
  {
   "cell_type": "code",
   "execution_count": 20,
   "id": "9fd5432a",
   "metadata": {},
   "outputs": [
    {
     "data": {
      "text/plain": [
       "'Shah Rukh Khan'"
      ]
     },
     "execution_count": 20,
     "metadata": {},
     "output_type": "execute_result"
    }
   ],
   "source": [
    "df.at[0,\"Actor\"]"
   ]
  },
  {
   "cell_type": "code",
   "execution_count": 21,
   "id": "663d498b",
   "metadata": {},
   "outputs": [
    {
     "data": {
      "text/plain": [
       "'Shah Rukh Khan'"
      ]
     },
     "execution_count": 21,
     "metadata": {},
     "output_type": "execute_result"
    }
   ],
   "source": [
    "df.iat[0,0]"
   ]
  },
  {
   "cell_type": "markdown",
   "id": "7dd76768",
   "metadata": {},
   "source": [
    "filtering"
   ]
  },
  {
   "cell_type": "code",
   "execution_count": 29,
   "id": "8a86afa9",
   "metadata": {},
   "outputs": [
    {
     "data": {
      "application/vnd.microsoft.datawrangler.viewer.v0+json": {
       "columns": [
        {
         "name": "index",
         "rawType": "int64",
         "type": "integer"
        },
        {
         "name": "Actor",
         "rawType": "object",
         "type": "string"
        },
        {
         "name": "Film",
         "rawType": "object",
         "type": "string"
        }
       ],
       "ref": "0c79669c-7b9e-4454-8266-6ae8fef19a04",
       "rows": [
        [
         "0",
         "Shah Rukh Khan",
         "Pathaan"
        ],
        [
         "11",
         "Vicky Kaushal",
         "Uri: The Surgical Strike"
        ]
       ],
       "shape": {
        "columns": 2,
        "rows": 2
       }
      },
      "text/html": [
       "<div>\n",
       "<style scoped>\n",
       "    .dataframe tbody tr th:only-of-type {\n",
       "        vertical-align: middle;\n",
       "    }\n",
       "\n",
       "    .dataframe tbody tr th {\n",
       "        vertical-align: top;\n",
       "    }\n",
       "\n",
       "    .dataframe thead th {\n",
       "        text-align: right;\n",
       "    }\n",
       "</style>\n",
       "<table border=\"1\" class=\"dataframe\">\n",
       "  <thead>\n",
       "    <tr style=\"text-align: right;\">\n",
       "      <th></th>\n",
       "      <th>Actor</th>\n",
       "      <th>Film</th>\n",
       "    </tr>\n",
       "  </thead>\n",
       "  <tbody>\n",
       "    <tr>\n",
       "      <th>0</th>\n",
       "      <td>Shah Rukh Khan</td>\n",
       "      <td>Pathaan</td>\n",
       "    </tr>\n",
       "    <tr>\n",
       "      <th>11</th>\n",
       "      <td>Vicky Kaushal</td>\n",
       "      <td>Uri: The Surgical Strike</td>\n",
       "    </tr>\n",
       "  </tbody>\n",
       "</table>\n",
       "</div>"
      ],
      "text/plain": [
       "             Actor                      Film\n",
       "0   Shah Rukh Khan                   Pathaan\n",
       "11   Vicky Kaushal  Uri: The Surgical Strike"
      ]
     },
     "execution_count": 29,
     "metadata": {},
     "output_type": "execute_result"
    }
   ],
   "source": [
    "df[(df[\"IMDb\"]>7) & (df[\"Year\"]>2018 )  ][[\"Actor\",\"Film\"]]"
   ]
  },
  {
   "cell_type": "code",
   "execution_count": 33,
   "id": "5cc86ca1",
   "metadata": {},
   "outputs": [
    {
     "data": {
      "application/vnd.microsoft.datawrangler.viewer.v0+json": {
       "columns": [
        {
         "name": "index",
         "rawType": "int64",
         "type": "integer"
        },
        {
         "name": "Actor",
         "rawType": "object",
         "type": "string"
        },
        {
         "name": "Film",
         "rawType": "object",
         "type": "string"
        },
        {
         "name": "Year",
         "rawType": "int64",
         "type": "integer"
        },
        {
         "name": "Genre",
         "rawType": "object",
         "type": "string"
        },
        {
         "name": "BoxOffice(INR Crore)",
         "rawType": "int64",
         "type": "integer"
        },
        {
         "name": "IMDb",
         "rawType": "float64",
         "type": "float"
        }
       ],
       "ref": "c6e111b3-c098-4d70-b652-a20edf7173a1",
       "rows": [
        [
         "0",
         "Shah Rukh Khan",
         "Pathaan",
         "2023",
         "Action",
         "1050",
         "7.2"
        ],
        [
         "2",
         "Aamir Khan",
         "Dangal",
         "2016",
         "Biography",
         "2024",
         "8.4"
        ],
        [
         "11",
         "Vicky Kaushal",
         "Uri: The Surgical Strike",
         "2019",
         "Action",
         "342",
         "8.2"
        ]
       ],
       "shape": {
        "columns": 6,
        "rows": 3
       }
      },
      "text/html": [
       "<div>\n",
       "<style scoped>\n",
       "    .dataframe tbody tr th:only-of-type {\n",
       "        vertical-align: middle;\n",
       "    }\n",
       "\n",
       "    .dataframe tbody tr th {\n",
       "        vertical-align: top;\n",
       "    }\n",
       "\n",
       "    .dataframe thead th {\n",
       "        text-align: right;\n",
       "    }\n",
       "</style>\n",
       "<table border=\"1\" class=\"dataframe\">\n",
       "  <thead>\n",
       "    <tr style=\"text-align: right;\">\n",
       "      <th></th>\n",
       "      <th>Actor</th>\n",
       "      <th>Film</th>\n",
       "      <th>Year</th>\n",
       "      <th>Genre</th>\n",
       "      <th>BoxOffice(INR Crore)</th>\n",
       "      <th>IMDb</th>\n",
       "    </tr>\n",
       "  </thead>\n",
       "  <tbody>\n",
       "    <tr>\n",
       "      <th>0</th>\n",
       "      <td>Shah Rukh Khan</td>\n",
       "      <td>Pathaan</td>\n",
       "      <td>2023</td>\n",
       "      <td>Action</td>\n",
       "      <td>1050</td>\n",
       "      <td>7.2</td>\n",
       "    </tr>\n",
       "    <tr>\n",
       "      <th>2</th>\n",
       "      <td>Aamir Khan</td>\n",
       "      <td>Dangal</td>\n",
       "      <td>2016</td>\n",
       "      <td>Biography</td>\n",
       "      <td>2024</td>\n",
       "      <td>8.4</td>\n",
       "    </tr>\n",
       "    <tr>\n",
       "      <th>11</th>\n",
       "      <td>Vicky Kaushal</td>\n",
       "      <td>Uri: The Surgical Strike</td>\n",
       "      <td>2019</td>\n",
       "      <td>Action</td>\n",
       "      <td>342</td>\n",
       "      <td>8.2</td>\n",
       "    </tr>\n",
       "  </tbody>\n",
       "</table>\n",
       "</div>"
      ],
      "text/plain": [
       "             Actor                      Film  Year      Genre  \\\n",
       "0   Shah Rukh Khan                   Pathaan  2023     Action   \n",
       "2       Aamir Khan                    Dangal  2016  Biography   \n",
       "11   Vicky Kaushal  Uri: The Surgical Strike  2019     Action   \n",
       "\n",
       "    BoxOffice(INR Crore)  IMDb  \n",
       "0                   1050   7.2  \n",
       "2                   2024   8.4  \n",
       "11                   342   8.2  "
      ]
     },
     "execution_count": 33,
     "metadata": {},
     "output_type": "execute_result"
    }
   ],
   "source": [
    "df.query(\"Year> 2018 and IMDb > 8 or (`BoxOffice(INR Crore)`) >600\")"
   ]
  },
  {
   "cell_type": "code",
   "execution_count": 34,
   "id": "82507d41",
   "metadata": {},
   "outputs": [
    {
     "data": {
      "application/vnd.microsoft.datawrangler.viewer.v0+json": {
       "columns": [
        {
         "name": "index",
         "rawType": "int64",
         "type": "integer"
        },
        {
         "name": "Actor",
         "rawType": "object",
         "type": "string"
        },
        {
         "name": "IMDb",
         "rawType": "float64",
         "type": "float"
        }
       ],
       "ref": "4e6542a0-3162-4972-a14c-f11a097e23cc",
       "rows": [
        [
         "0",
         "Shah Rukh Khan",
         "7.2"
        ],
        [
         "1",
         "Salman Khan",
         "6.0"
        ],
        [
         "2",
         "Aamir Khan",
         "8.4"
        ],
        [
         "3",
         "Ranbir Kapoor",
         "5.6"
        ],
        [
         "4",
         "Ranveer Singh",
         "7.0"
        ],
        [
         "5",
         "Ayushmann Khurrana",
         "8.3"
        ],
        [
         "6",
         "Rajkummar Rao",
         "7.5"
        ],
        [
         "7",
         "Hrithik Roshan",
         "6.5"
        ],
        [
         "8",
         "Akshay Kumar",
         "7.0"
        ],
        [
         "9",
         "Kartik Aaryan",
         "5.9"
        ],
        [
         "10",
         "Varun Dhawan",
         "6.1"
        ],
        [
         "11",
         "Vicky Kaushal",
         "8.2"
        ]
       ],
       "shape": {
        "columns": 2,
        "rows": 12
       }
      },
      "text/html": [
       "<div>\n",
       "<style scoped>\n",
       "    .dataframe tbody tr th:only-of-type {\n",
       "        vertical-align: middle;\n",
       "    }\n",
       "\n",
       "    .dataframe tbody tr th {\n",
       "        vertical-align: top;\n",
       "    }\n",
       "\n",
       "    .dataframe thead th {\n",
       "        text-align: right;\n",
       "    }\n",
       "</style>\n",
       "<table border=\"1\" class=\"dataframe\">\n",
       "  <thead>\n",
       "    <tr style=\"text-align: right;\">\n",
       "      <th></th>\n",
       "      <th>Actor</th>\n",
       "      <th>IMDb</th>\n",
       "    </tr>\n",
       "  </thead>\n",
       "  <tbody>\n",
       "    <tr>\n",
       "      <th>0</th>\n",
       "      <td>Shah Rukh Khan</td>\n",
       "      <td>7.2</td>\n",
       "    </tr>\n",
       "    <tr>\n",
       "      <th>1</th>\n",
       "      <td>Salman Khan</td>\n",
       "      <td>6.0</td>\n",
       "    </tr>\n",
       "    <tr>\n",
       "      <th>2</th>\n",
       "      <td>Aamir Khan</td>\n",
       "      <td>8.4</td>\n",
       "    </tr>\n",
       "    <tr>\n",
       "      <th>3</th>\n",
       "      <td>Ranbir Kapoor</td>\n",
       "      <td>5.6</td>\n",
       "    </tr>\n",
       "    <tr>\n",
       "      <th>4</th>\n",
       "      <td>Ranveer Singh</td>\n",
       "      <td>7.0</td>\n",
       "    </tr>\n",
       "    <tr>\n",
       "      <th>5</th>\n",
       "      <td>Ayushmann Khurrana</td>\n",
       "      <td>8.3</td>\n",
       "    </tr>\n",
       "    <tr>\n",
       "      <th>6</th>\n",
       "      <td>Rajkummar Rao</td>\n",
       "      <td>7.5</td>\n",
       "    </tr>\n",
       "    <tr>\n",
       "      <th>7</th>\n",
       "      <td>Hrithik Roshan</td>\n",
       "      <td>6.5</td>\n",
       "    </tr>\n",
       "    <tr>\n",
       "      <th>8</th>\n",
       "      <td>Akshay Kumar</td>\n",
       "      <td>7.0</td>\n",
       "    </tr>\n",
       "    <tr>\n",
       "      <th>9</th>\n",
       "      <td>Kartik Aaryan</td>\n",
       "      <td>5.9</td>\n",
       "    </tr>\n",
       "    <tr>\n",
       "      <th>10</th>\n",
       "      <td>Varun Dhawan</td>\n",
       "      <td>6.1</td>\n",
       "    </tr>\n",
       "    <tr>\n",
       "      <th>11</th>\n",
       "      <td>Vicky Kaushal</td>\n",
       "      <td>8.2</td>\n",
       "    </tr>\n",
       "  </tbody>\n",
       "</table>\n",
       "</div>"
      ],
      "text/plain": [
       "                 Actor  IMDb\n",
       "0       Shah Rukh Khan   7.2\n",
       "1          Salman Khan   6.0\n",
       "2           Aamir Khan   8.4\n",
       "3        Ranbir Kapoor   5.6\n",
       "4        Ranveer Singh   7.0\n",
       "5   Ayushmann Khurrana   8.3\n",
       "6        Rajkummar Rao   7.5\n",
       "7       Hrithik Roshan   6.5\n",
       "8         Akshay Kumar   7.0\n",
       "9        Kartik Aaryan   5.9\n",
       "10        Varun Dhawan   6.1\n",
       "11       Vicky Kaushal   8.2"
      ]
     },
     "execution_count": 34,
     "metadata": {},
     "output_type": "execute_result"
    }
   ],
   "source": [
    "df2=df[['Actor',\"IMDb\"]]\n",
    "df2"
   ]
  },
  {
   "cell_type": "code",
   "execution_count": 37,
   "id": "d1257572",
   "metadata": {},
   "outputs": [
    {
     "data": {
      "application/vnd.microsoft.datawrangler.viewer.v0+json": {
       "columns": [
        {
         "name": "index",
         "rawType": "int64",
         "type": "integer"
        },
        {
         "name": "Actor",
         "rawType": "object",
         "type": "string"
        },
        {
         "name": "IMDb",
         "rawType": "float64",
         "type": "float"
        },
        {
         "name": "0",
         "rawType": "object",
         "type": "string"
        }
       ],
       "ref": "0a339234-4454-4c06-aacb-1e62efa42db1",
       "rows": [
        [
         "0",
         "Anshuman",
         "7.2",
         "Anshuman"
        ],
        [
         "1",
         "Salman Khan",
         "6.0",
         "Anshuman"
        ],
        [
         "2",
         "Aamir Khan",
         "8.4",
         "Anshuman"
        ],
        [
         "3",
         "Ranbir Kapoor",
         "5.6",
         "Anshuman"
        ],
        [
         "4",
         "Ranveer Singh",
         "7.0",
         "Anshuman"
        ],
        [
         "5",
         "Ayushmann Khurrana",
         "8.3",
         "Anshuman"
        ],
        [
         "6",
         "Rajkummar Rao",
         "7.5",
         "Anshuman"
        ],
        [
         "7",
         "Hrithik Roshan",
         "6.5",
         "Anshuman"
        ],
        [
         "8",
         "Akshay Kumar",
         "7.0",
         "Anshuman"
        ],
        [
         "9",
         "Kartik Aaryan",
         "5.9",
         "Anshuman"
        ],
        [
         "10",
         "Varun Dhawan",
         "6.1",
         "Anshuman"
        ],
        [
         "11",
         "Vicky Kaushal",
         "8.2",
         "Anshuman"
        ]
       ],
       "shape": {
        "columns": 3,
        "rows": 12
       }
      },
      "text/html": [
       "<div>\n",
       "<style scoped>\n",
       "    .dataframe tbody tr th:only-of-type {\n",
       "        vertical-align: middle;\n",
       "    }\n",
       "\n",
       "    .dataframe tbody tr th {\n",
       "        vertical-align: top;\n",
       "    }\n",
       "\n",
       "    .dataframe thead th {\n",
       "        text-align: right;\n",
       "    }\n",
       "</style>\n",
       "<table border=\"1\" class=\"dataframe\">\n",
       "  <thead>\n",
       "    <tr style=\"text-align: right;\">\n",
       "      <th></th>\n",
       "      <th>Actor</th>\n",
       "      <th>IMDb</th>\n",
       "      <th>0</th>\n",
       "    </tr>\n",
       "  </thead>\n",
       "  <tbody>\n",
       "    <tr>\n",
       "      <th>0</th>\n",
       "      <td>Anshuman</td>\n",
       "      <td>7.2</td>\n",
       "      <td>Anshuman</td>\n",
       "    </tr>\n",
       "    <tr>\n",
       "      <th>1</th>\n",
       "      <td>Salman Khan</td>\n",
       "      <td>6.0</td>\n",
       "      <td>Anshuman</td>\n",
       "    </tr>\n",
       "    <tr>\n",
       "      <th>2</th>\n",
       "      <td>Aamir Khan</td>\n",
       "      <td>8.4</td>\n",
       "      <td>Anshuman</td>\n",
       "    </tr>\n",
       "    <tr>\n",
       "      <th>3</th>\n",
       "      <td>Ranbir Kapoor</td>\n",
       "      <td>5.6</td>\n",
       "      <td>Anshuman</td>\n",
       "    </tr>\n",
       "    <tr>\n",
       "      <th>4</th>\n",
       "      <td>Ranveer Singh</td>\n",
       "      <td>7.0</td>\n",
       "      <td>Anshuman</td>\n",
       "    </tr>\n",
       "    <tr>\n",
       "      <th>5</th>\n",
       "      <td>Ayushmann Khurrana</td>\n",
       "      <td>8.3</td>\n",
       "      <td>Anshuman</td>\n",
       "    </tr>\n",
       "    <tr>\n",
       "      <th>6</th>\n",
       "      <td>Rajkummar Rao</td>\n",
       "      <td>7.5</td>\n",
       "      <td>Anshuman</td>\n",
       "    </tr>\n",
       "    <tr>\n",
       "      <th>7</th>\n",
       "      <td>Hrithik Roshan</td>\n",
       "      <td>6.5</td>\n",
       "      <td>Anshuman</td>\n",
       "    </tr>\n",
       "    <tr>\n",
       "      <th>8</th>\n",
       "      <td>Akshay Kumar</td>\n",
       "      <td>7.0</td>\n",
       "      <td>Anshuman</td>\n",
       "    </tr>\n",
       "    <tr>\n",
       "      <th>9</th>\n",
       "      <td>Kartik Aaryan</td>\n",
       "      <td>5.9</td>\n",
       "      <td>Anshuman</td>\n",
       "    </tr>\n",
       "    <tr>\n",
       "      <th>10</th>\n",
       "      <td>Varun Dhawan</td>\n",
       "      <td>6.1</td>\n",
       "      <td>Anshuman</td>\n",
       "    </tr>\n",
       "    <tr>\n",
       "      <th>11</th>\n",
       "      <td>Vicky Kaushal</td>\n",
       "      <td>8.2</td>\n",
       "      <td>Anshuman</td>\n",
       "    </tr>\n",
       "  </tbody>\n",
       "</table>\n",
       "</div>"
      ],
      "text/plain": [
       "                 Actor  IMDb         0\n",
       "0             Anshuman   7.2  Anshuman\n",
       "1          Salman Khan   6.0  Anshuman\n",
       "2           Aamir Khan   8.4  Anshuman\n",
       "3        Ranbir Kapoor   5.6  Anshuman\n",
       "4        Ranveer Singh   7.0  Anshuman\n",
       "5   Ayushmann Khurrana   8.3  Anshuman\n",
       "6        Rajkummar Rao   7.5  Anshuman\n",
       "7       Hrithik Roshan   6.5  Anshuman\n",
       "8         Akshay Kumar   7.0  Anshuman\n",
       "9        Kartik Aaryan   5.9  Anshuman\n",
       "10        Varun Dhawan   6.1  Anshuman\n",
       "11       Vicky Kaushal   8.2  Anshuman"
      ]
     },
     "execution_count": 37,
     "metadata": {},
     "output_type": "execute_result"
    }
   ],
   "source": [
    "df2.loc[0,'Actor']=\"Anshuman\"\n",
    "df2"
   ]
  },
  {
   "cell_type": "code",
   "execution_count": 38,
   "id": "594e6fe1",
   "metadata": {},
   "outputs": [
    {
     "data": {
      "application/vnd.microsoft.datawrangler.viewer.v0+json": {
       "columns": [
        {
         "name": "index",
         "rawType": "int64",
         "type": "integer"
        },
        {
         "name": "Actor",
         "rawType": "object",
         "type": "string"
        },
        {
         "name": "Film",
         "rawType": "object",
         "type": "string"
        },
        {
         "name": "Year",
         "rawType": "int64",
         "type": "integer"
        },
        {
         "name": "Genre",
         "rawType": "object",
         "type": "string"
        },
        {
         "name": "BoxOffice(INR Crore)",
         "rawType": "int64",
         "type": "integer"
        },
        {
         "name": "IMDb",
         "rawType": "float64",
         "type": "float"
        }
       ],
       "ref": "10c7d618-2a44-4c36-b352-412547c3aac4",
       "rows": [
        [
         "0",
         "Shah Rukh Khan",
         "Pathaan",
         "2023",
         "Action",
         "1050",
         "7.2"
        ],
        [
         "1",
         "Salman Khan",
         "Tiger Zinda Hai",
         "2017",
         "Action",
         "565",
         "6.0"
        ],
        [
         "2",
         "Aamir Khan",
         "Dangal",
         "2016",
         "Biography",
         "2024",
         "8.4"
        ],
        [
         "3",
         "Ranbir Kapoor",
         "Brahmastra",
         "2022",
         "Fantasy",
         "431",
         "5.6"
        ],
        [
         "4",
         "Ranveer Singh",
         "Padmaavat",
         "2018",
         "Historical",
         "585",
         "7.0"
        ],
        [
         "5",
         "Ayushmann Khurrana",
         "Andhadhun",
         "2018",
         "Thriller",
         "111",
         "8.3"
        ],
        [
         "6",
         "Rajkummar Rao",
         "Stree",
         "2018",
         "Horror Comedy",
         "180",
         "7.5"
        ],
        [
         "7",
         "Hrithik Roshan",
         "War",
         "2019",
         "Action",
         "475",
         "6.5"
        ],
        [
         "8",
         "Akshay Kumar",
         "Good Newwz",
         "2019",
         "Comedy",
         "318",
         "7.0"
        ],
        [
         "9",
         "Kartik Aaryan",
         "Bhool Bhulaiyaa 2",
         "2022",
         "Horror Comedy",
         "266",
         "5.9"
        ],
        [
         "10",
         "Varun Dhawan",
         "Badrinath Ki Dulhania",
         "2017",
         "Romantic Comedy",
         "201",
         "6.1"
        ],
        [
         "11",
         "Vicky Kaushal",
         "Uri: The Surgical Strike",
         "2019",
         "Action",
         "342",
         "8.2"
        ]
       ],
       "shape": {
        "columns": 6,
        "rows": 12
       }
      },
      "text/html": [
       "<div>\n",
       "<style scoped>\n",
       "    .dataframe tbody tr th:only-of-type {\n",
       "        vertical-align: middle;\n",
       "    }\n",
       "\n",
       "    .dataframe tbody tr th {\n",
       "        vertical-align: top;\n",
       "    }\n",
       "\n",
       "    .dataframe thead th {\n",
       "        text-align: right;\n",
       "    }\n",
       "</style>\n",
       "<table border=\"1\" class=\"dataframe\">\n",
       "  <thead>\n",
       "    <tr style=\"text-align: right;\">\n",
       "      <th></th>\n",
       "      <th>Actor</th>\n",
       "      <th>Film</th>\n",
       "      <th>Year</th>\n",
       "      <th>Genre</th>\n",
       "      <th>BoxOffice(INR Crore)</th>\n",
       "      <th>IMDb</th>\n",
       "    </tr>\n",
       "  </thead>\n",
       "  <tbody>\n",
       "    <tr>\n",
       "      <th>0</th>\n",
       "      <td>Shah Rukh Khan</td>\n",
       "      <td>Pathaan</td>\n",
       "      <td>2023</td>\n",
       "      <td>Action</td>\n",
       "      <td>1050</td>\n",
       "      <td>7.2</td>\n",
       "    </tr>\n",
       "    <tr>\n",
       "      <th>1</th>\n",
       "      <td>Salman Khan</td>\n",
       "      <td>Tiger Zinda Hai</td>\n",
       "      <td>2017</td>\n",
       "      <td>Action</td>\n",
       "      <td>565</td>\n",
       "      <td>6.0</td>\n",
       "    </tr>\n",
       "    <tr>\n",
       "      <th>2</th>\n",
       "      <td>Aamir Khan</td>\n",
       "      <td>Dangal</td>\n",
       "      <td>2016</td>\n",
       "      <td>Biography</td>\n",
       "      <td>2024</td>\n",
       "      <td>8.4</td>\n",
       "    </tr>\n",
       "    <tr>\n",
       "      <th>3</th>\n",
       "      <td>Ranbir Kapoor</td>\n",
       "      <td>Brahmastra</td>\n",
       "      <td>2022</td>\n",
       "      <td>Fantasy</td>\n",
       "      <td>431</td>\n",
       "      <td>5.6</td>\n",
       "    </tr>\n",
       "    <tr>\n",
       "      <th>4</th>\n",
       "      <td>Ranveer Singh</td>\n",
       "      <td>Padmaavat</td>\n",
       "      <td>2018</td>\n",
       "      <td>Historical</td>\n",
       "      <td>585</td>\n",
       "      <td>7.0</td>\n",
       "    </tr>\n",
       "    <tr>\n",
       "      <th>5</th>\n",
       "      <td>Ayushmann Khurrana</td>\n",
       "      <td>Andhadhun</td>\n",
       "      <td>2018</td>\n",
       "      <td>Thriller</td>\n",
       "      <td>111</td>\n",
       "      <td>8.3</td>\n",
       "    </tr>\n",
       "    <tr>\n",
       "      <th>6</th>\n",
       "      <td>Rajkummar Rao</td>\n",
       "      <td>Stree</td>\n",
       "      <td>2018</td>\n",
       "      <td>Horror Comedy</td>\n",
       "      <td>180</td>\n",
       "      <td>7.5</td>\n",
       "    </tr>\n",
       "    <tr>\n",
       "      <th>7</th>\n",
       "      <td>Hrithik Roshan</td>\n",
       "      <td>War</td>\n",
       "      <td>2019</td>\n",
       "      <td>Action</td>\n",
       "      <td>475</td>\n",
       "      <td>6.5</td>\n",
       "    </tr>\n",
       "    <tr>\n",
       "      <th>8</th>\n",
       "      <td>Akshay Kumar</td>\n",
       "      <td>Good Newwz</td>\n",
       "      <td>2019</td>\n",
       "      <td>Comedy</td>\n",
       "      <td>318</td>\n",
       "      <td>7.0</td>\n",
       "    </tr>\n",
       "    <tr>\n",
       "      <th>9</th>\n",
       "      <td>Kartik Aaryan</td>\n",
       "      <td>Bhool Bhulaiyaa 2</td>\n",
       "      <td>2022</td>\n",
       "      <td>Horror Comedy</td>\n",
       "      <td>266</td>\n",
       "      <td>5.9</td>\n",
       "    </tr>\n",
       "    <tr>\n",
       "      <th>10</th>\n",
       "      <td>Varun Dhawan</td>\n",
       "      <td>Badrinath Ki Dulhania</td>\n",
       "      <td>2017</td>\n",
       "      <td>Romantic Comedy</td>\n",
       "      <td>201</td>\n",
       "      <td>6.1</td>\n",
       "    </tr>\n",
       "    <tr>\n",
       "      <th>11</th>\n",
       "      <td>Vicky Kaushal</td>\n",
       "      <td>Uri: The Surgical Strike</td>\n",
       "      <td>2019</td>\n",
       "      <td>Action</td>\n",
       "      <td>342</td>\n",
       "      <td>8.2</td>\n",
       "    </tr>\n",
       "  </tbody>\n",
       "</table>\n",
       "</div>"
      ],
      "text/plain": [
       "                 Actor                      Film  Year            Genre  \\\n",
       "0       Shah Rukh Khan                   Pathaan  2023           Action   \n",
       "1          Salman Khan           Tiger Zinda Hai  2017           Action   \n",
       "2           Aamir Khan                    Dangal  2016        Biography   \n",
       "3        Ranbir Kapoor                Brahmastra  2022          Fantasy   \n",
       "4        Ranveer Singh                 Padmaavat  2018       Historical   \n",
       "5   Ayushmann Khurrana                 Andhadhun  2018         Thriller   \n",
       "6        Rajkummar Rao                     Stree  2018    Horror Comedy   \n",
       "7       Hrithik Roshan                       War  2019           Action   \n",
       "8         Akshay Kumar                Good Newwz  2019           Comedy   \n",
       "9        Kartik Aaryan         Bhool Bhulaiyaa 2  2022    Horror Comedy   \n",
       "10        Varun Dhawan     Badrinath Ki Dulhania  2017  Romantic Comedy   \n",
       "11       Vicky Kaushal  Uri: The Surgical Strike  2019           Action   \n",
       "\n",
       "    BoxOffice(INR Crore)  IMDb  \n",
       "0                   1050   7.2  \n",
       "1                    565   6.0  \n",
       "2                   2024   8.4  \n",
       "3                    431   5.6  \n",
       "4                    585   7.0  \n",
       "5                    111   8.3  \n",
       "6                    180   7.5  \n",
       "7                    475   6.5  \n",
       "8                    318   7.0  \n",
       "9                    266   5.9  \n",
       "10                   201   6.1  \n",
       "11                   342   8.2  "
      ]
     },
     "execution_count": 38,
     "metadata": {},
     "output_type": "execute_result"
    }
   ],
   "source": [
    "df"
   ]
  },
  {
   "cell_type": "code",
   "execution_count": null,
   "id": "17b93799",
   "metadata": {},
   "outputs": [],
   "source": []
  }
 ],
 "metadata": {
  "kernelspec": {
   "display_name": "base",
   "language": "python",
   "name": "python3"
  },
  "language_info": {
   "codemirror_mode": {
    "name": "ipython",
    "version": 3
   },
   "file_extension": ".py",
   "mimetype": "text/x-python",
   "name": "python",
   "nbconvert_exporter": "python",
   "pygments_lexer": "ipython3",
   "version": "3.11.7"
  }
 },
 "nbformat": 4,
 "nbformat_minor": 5
}
